{
 "cells": [
  {
   "cell_type": "markdown",
   "id": "f5d21946",
   "metadata": {
    "slideshow": {
     "slide_type": "slide"
    }
   },
   "source": [
    "# Introduction to Dynamic Circuits and QEC with Qiskit\n",
    "\n",
    "**Qiskit Slack: @Quantom & @Micheal Healy & Ed Chen**\n",
    "\n",
    "**Github: taalexander & @mbhealy & @ehchen**\n",
    "\n",
    "Before running this tutorial make sure you are setup with the [Hello IEEE notebook](./hello-ieee.ipynb).\n",
    "\n",
    "- This tutorial introduces pre-release dynamic circuit support through Qiskit on IBM Quantum hardware. This will change quickly as we develop this functionality, with general release coming by IBM Quantum Summit.\n",
    "- We will run some very simple error-correction in the form of a bit-flip code.\n",
    "- At the end we will complete some exercises, the solutions may be found in the [solution notebook](./ieee-qec-tutorial-2022-solutions.ipynb).\n",
    "\n",
    "<img src=\"figs/ibm_quantum.png\" alt=\"drawing\" style=\"width:1000px;\"/>"
   ]
  },
  {
   "cell_type": "code",
   "execution_count": 1,
   "id": "1b9fd8ad",
   "metadata": {
    "slideshow": {
     "slide_type": "skip"
    }
   },
   "outputs": [],
   "source": [
    "import os\n",
    "from typing import Any, Dict, List, Optional, Union\n",
    "\n",
    "import numpy as np\n",
    "import matplotlib.pyplot as plt\n",
    "\n",
    "from qiskit import IBMQ, QuantumCircuit, QuantumRegister, ClassicalRegister, quantum_info as qi\n",
    "from qiskit.providers.ibmq import RunnerResult\n",
    "from qiskit.result import marginal_counts\n",
    "import qiskit.tools.jupyter\n",
    "\n",
    "%matplotlib inline\n",
    "\n",
    "import warnings\n",
    "warnings.filterwarnings(\"ignore\")\n"
   ]
  },
  {
   "cell_type": "code",
   "execution_count": 2,
   "id": "b56bc9b8",
   "metadata": {
    "slideshow": {
     "slide_type": "skip"
    }
   },
   "outputs": [],
   "source": [
    "%load_ext autoreload\n",
    "%autoreload 2"
   ]
  },
  {
   "cell_type": "markdown",
   "id": "2b63eec7",
   "metadata": {
    "slideshow": {
     "slide_type": "subslide"
    }
   },
   "source": [
    "## Running dynamic circuits with Qiskit\n",
    "\n",
    "The first step we need to take is to instantiate our Qiskit runtime service \n",
    "instance and load our backend. This gives us a handle to the hardware we will\n",
    "control.\n",
    "\n",
    "For today's tutorial we have reserved access to a high-quality backend.\n",
    "\n",
    "Make sure to use hub/group/provider below."
   ]
  },
  {
   "cell_type": "code",
   "execution_count": 3,
   "id": "334d9cd4",
   "metadata": {
    "slideshow": {
     "slide_type": "-"
    }
   },
   "outputs": [],
   "source": [
    "# Note: This can be any hub/group/project that has access to the required device and the Qiskit runtime.\n",
    "# Verify that ``qasm3`` is present in ``backend.configuration().supported_features``.\n",
    "hub = \"ibm-q-community\"\n",
    "group = \"ieee-demos\"\n",
    "project = \"main\"\n",
    "backend_name = \"ibm_peekskill\"\n",
    "hgp = f\"{hub}/{group}/{project}\""
   ]
  },
  {
   "cell_type": "code",
   "execution_count": 4,
   "id": "b45aa145",
   "metadata": {
    "slideshow": {
     "slide_type": "-"
    }
   },
   "outputs": [],
   "source": [
    "from qiskit.circuit import Delay, Parameter\n",
    "from qiskit_ibm_runtime import QiskitRuntimeService\n",
    "\n",
    "service = QiskitRuntimeService(instance=hgp)\n",
    "backend = service.backend(backend_name, instance=hgp)"
   ]
  },
  {
   "cell_type": "code",
   "execution_count": 5,
   "id": "1949a6c4",
   "metadata": {
    "slideshow": {
     "slide_type": "skip"
    }
   },
   "outputs": [],
   "source": [
    "# Addresses a bug in the current Qiskit runtime package\n",
    "# that will be fixed on the next Qiskit release\n",
    "target = backend.target\n",
    "if \"delay\" not in target:\n",
    "    target.add_instruction(\n",
    "        Delay(Parameter(\"t\")), {(bit,): None for bit in range(target.num_qubits)}\n",
    "    )"
   ]
  },
  {
   "cell_type": "markdown",
   "id": "9d4e5cf9",
   "metadata": {
    "slideshow": {
     "slide_type": "subslide"
    }
   },
   "source": [
    "As there may be many tutorial attendees contending for access to the hardware\n",
    "we may also run the tutorial on the simulator below.\n",
    "\n",
    "Make sure to set the variable `sim = True` below to enable this functionality\n",
    "throughout the notebook."
   ]
  },
  {
   "cell_type": "code",
   "execution_count": 6,
   "id": "ffb790e8",
   "metadata": {
    "slideshow": {
     "slide_type": "-"
    }
   },
   "outputs": [],
   "source": [
    "from qiskit.providers.aer import AerSimulator, Aer\n",
    "from qiskit.providers.aer.noise import NoiseModel\n",
    "\n",
    "backend_noise_model = NoiseModel.from_backend(backend)\n",
    "#backend_sim = AerSimulator(noise_model=backend_noise_model)\n",
    "backend_sim = AerSimulator()\n",
    "ideal_sim = Aer.get_backend('qasm_simulator')"
   ]
  },
  {
   "cell_type": "markdown",
   "id": "8ba051c1",
   "metadata": {
    "slideshow": {
     "slide_type": "subslide"
    }
   },
   "source": [
    "## Visualize the backend\n",
    "Below we see a visualization of the hardware backend. For a more detailed overview see\n",
    "[ibm_peekskill on IQS](https://quantum-computing.ibm.com/services/resources?search=peeks&system=ibm_peekskill).\n",
    "\n",
    "Take note that the average T2* time is over 300us and average CNOT error is 0.0056."
   ]
  },
  {
   "cell_type": "code",
   "execution_count": 7,
   "id": "364be8d8",
   "metadata": {
    "scrolled": true,
    "slideshow": {
     "slide_type": "-"
    }
   },
   "outputs": [
    {
     "data": {
      "application/vnd.jupyter.widget-view+json": {
       "model_id": "17df4e132c594773a21a9aeb8105f4cf",
       "version_major": 2,
       "version_minor": 0
      },
      "text/plain": [
       "VBox(children=(HTML(value=\"<h1 style='color:#ffffff;background-color:#000000;padding-top: 1%;padding-bottom: 1…"
      ]
     },
     "metadata": {},
     "output_type": "display_data"
    },
    {
     "data": {
      "text/plain": [
       "<IBMBackend('ibm_peekskill')>"
      ]
     },
     "execution_count": 7,
     "metadata": {},
     "output_type": "execute_result"
    }
   ],
   "source": [
    "import utils\n",
    "backend"
   ]
  },
  {
   "cell_type": "markdown",
   "id": "16a2d882",
   "metadata": {
    "slideshow": {
     "slide_type": "subslide"
    }
   },
   "source": [
    "### Set some global execution properties for the notebook.\n",
    "\n",
    "Feel free to adjust these."
   ]
  },
  {
   "cell_type": "code",
   "execution_count": 17,
   "id": "4d3b8043",
   "metadata": {
    "slideshow": {
     "slide_type": "-"
    }
   },
   "outputs": [],
   "source": [
    "shots: int = 1024 # Number of shots to run each circuit for\n",
    "\n",
    "init_num_resets: int = 3 # Set the number of resets to initialize qubits between circuits\n",
    "init_delay: float = 0. # Set the initialization idle time for qubits between circuits\n",
    "\n",
    "sim: bool = False # Set True to simulate our experiments and False to run in hardware\n",
    "dynamical_decoupling: bool = False # Set True to enable dynamical decoupling\n",
    "    \n",
    "favourite_qubits: List[int] = [5, 3, 8, 2, 9]"
   ]
  },
  {
   "cell_type": "code",
   "execution_count": 9,
   "id": "f5ec31a1",
   "metadata": {
    "slideshow": {
     "slide_type": "skip"
    }
   },
   "outputs": [],
   "source": [
    "# Some general helper routines that will be used throughout the notebook\n",
    "\n",
    "import mapomatic as mm\n",
    "from qiskit.circuit.library import XGate\n",
    "from qiskit.transpiler import PassManager\n",
    "from qiskit.transpiler.instruction_durations import InstructionDurations\n",
    "from qiskit_ibm_runtime import RuntimeJob, IBMBackend\n",
    "\n",
    "def convert_cycles(time_in_seconds: float, backend: IBMBackend) -> int:\n",
    "    cycles = time_in_seconds / (backend.configuration().dt)\n",
    "    return int(cycles + (16 - (cycles % 16)))\n",
    "\n",
    "def execute(circuits: List[QuantumCircuit], verbose: bool = True, **kwargs) -> RuntimeJob:\n",
    "    \"\"\"A helper method to execute circuits with common settings in the notebook.\n",
    "    \n",
    "    Args:\n",
    "        circuits: To execute.\n",
    "        verbose: Emit execution information.\n",
    "        sim: Run with simulator instead of hardware. By default reads global variable \"sim\"\n",
    "    \n",
    "    \"\"\"\n",
    "    if isinstance(circuits, QuantumCircuit):\n",
    "        circuits = [circuits]\n",
    "\n",
    "    if sim:\n",
    "        return backend_sim.run(circuits, shots=shots, **kwargs)\n",
    "    else:\n",
    "    \n",
    "        job = run_openqasm3(circuits, backend, verbose=False, shots=shots, init_num_resets=init_num_resets, init_delay=init_delay, **kwargs)\n",
    "        if verbose:\n",
    "            print(f\"Running on qasm3, job id: {job.job_id}\")\n",
    "\n",
    "        return job\n",
    "    \n",
    "def calculate_initial_layout(\n",
    "    circuit: QuantumCircuit, \n",
    "    mapomatic: Optional[bool] = None, \n",
    "    favourite_qubits: Optional[List[int]] = None, \n",
    "    blacklist_qubits: Optional[List[int]] = None\n",
    ") -> List[int]:\n",
    "    \"\"\"Routine to help choose the ideal qubit layout given an input circuit.\n",
    "    \n",
    "    Args:\n",
    "        circuit: To evaluate layout for.\n",
    "        mapomatic: Use mapomatic to choose ideal qubits, otherwise naievly choose ``favourite_qubits``\n",
    "        favourite_qubits: A list of favourite qubits to ensure are in the layout\n",
    "        blacklist_qubits: Qubits that are not allowed in the layout.\n",
    "    \"\"\"\n",
    "    deflated = mm.deflate_circuit(circuit)\n",
    "    if mapomatic:\n",
    "        deflated = mm.deflate_circuit(circuit)\n",
    "        available_layouts = [layout for layout in mm.matching_layouts(deflated, backend.configuration().coupling_map, strict_direction=False) if layout[:len(favourite_qubits)] == favourite_qubits and not set(layout).intersection(set(blacklist_qubits))]\n",
    "        scores = mm.evaluate_layouts(deflated, available_layouts, backend)\n",
    "        return scores[0][0]\n",
    "    \n",
    "    if favourite_qubits is None:\n",
    "        favourite_qubits = []\n",
    "    \n",
    "    if blacklist_qubits is None:\n",
    "        blacklist_qubits = []\n",
    "        \n",
    "    return (favourite_qubits + list(set(range(backend.num_qubits)) - set(favourite_qubits)))[:deflated.num_qubits]\n",
    "\n",
    "def apply_dynamical_decoupling(\n",
    "    circuits: List[QuantumCircuit], \n",
    "    backend: IBMBackend, \n",
    "    initial_layout: List[int],\n",
    ") -> List[QuantumCircuit]:\n",
    "    \"\"\"Apply dynamic circuit dynamical decoupling.\"\"\"\n",
    "\n",
    "    from qiskit_ibm_provider.transpiler.passes.scheduling import DynamicCircuitScheduleAnalysis, PadDynamicalDecoupling\n",
    "    dd_sequence = [XGate(), XGate()]\n",
    "    durations = InstructionDurations.from_backend(backend)\n",
    "    pm = PassManager(\n",
    "        [\n",
    "            DynamicCircuitScheduleAnalysis(durations),\n",
    "            PadDynamicalDecoupling(durations, dd_sequence, qubits=initial_layout),\n",
    "        ]\n",
    "    )\n",
    "    return pm.run(circuits)\n",
    "\n",
    "def apply_transpile(\n",
    "    circuits: List[QuantumCircuit], \n",
    "    backend: IBMBackend, \n",
    "    initial_layout: List[int], \n",
    "    dynamical_decoupling: bool = dynamical_decoupling, \n",
    "    **transpile_kwargs,\n",
    ") -> List[QuantumCircuit]:\n",
    "    \"\"\"Fixed transpile routine to be used for consistency throughout the notebook.\"\"\"\n",
    "\n",
    "    transpiled_circuits = transpile(circuits, backend, initial_layout=initial_layout, optimization_level=3, **transpile_kwargs)\n",
    "    if dynamical_decoupling:\n",
    "        return apply_dynamical_decoupling(transpiled_circuits, backend, initial_layout)\n",
    "    return transpiled_circuits"
   ]
  },
  {
   "cell_type": "markdown",
   "id": "9b5be608",
   "metadata": {
    "slideshow": {
     "slide_type": "slide"
    }
   },
   "source": [
    "# Dynamic circuit support on IBM hardware\n",
    "\n",
    "We want to provide our users the tools to explore techniques such as quantum error correction, early stopping / repeat until success and circuit knitting. We have designed a next-generation control-systems architecture that will enable\n",
    "us to scale to thousands of qubits while providing real-time capabilities in hardware.\n",
    "\n",
    "Below we will show an early glimpse of how to access these capabilities.\n",
    "\n",
    "*Note*: run_openqasm3 is only a temporary function. It will be replaced by `backend.run` by the IBM Quantum Summit\n",
    "\n",
    "<img src=\"figs/control_system.png\" alt=\"drawing\" style=\"width:1000px;\"/>"
   ]
  },
  {
   "cell_type": "markdown",
   "id": "7d60ef64",
   "metadata": {
    "slideshow": {
     "slide_type": "subslide"
    }
   },
   "source": [
    "### Writing a simple circuit with control-flow\n",
    "\n",
    "Below we write a circuit that resets the state of our qubit based on a measurement result."
   ]
  },
  {
   "cell_type": "code",
   "execution_count": 14,
   "id": "f17b1540",
   "metadata": {
    "slideshow": {
     "slide_type": "-"
    }
   },
   "outputs": [
    {
     "name": "stdout",
     "output_type": "stream",
     "text": [
      "We will use qubit 5\n"
     ]
    }
   ],
   "source": [
    "qubit = favourite_qubits[0]\n",
    "print(f\"We will use qubit {qubit}\")"
   ]
  },
  {
   "cell_type": "code",
   "execution_count": 15,
   "id": "c54de7f6",
   "metadata": {
    "slideshow": {
     "slide_type": "-"
    }
   },
   "outputs": [
    {
     "data": {
      "image/png": "[encoded data removed]",
      "text/plain": [
       "<Figure size 125.417x33.4444 with 1 Axes>"
      ]
     },
     "execution_count": 15,
     "metadata": {},
     "output_type": "execute_result"
    }
   ],
   "source": [
    "# Exercise\n",
    "\n",
    "from utils import run_openqasm3\n",
    "\n",
    "from qiskit import QuantumRegister, ClassicalRegister, transpile\n",
    "\n",
    "qr = QuantumRegister(1)\n",
    "crx = ClassicalRegister(1, name=\"xresult\")\n",
    "crm = ClassicalRegister(1, name=\"measureresult\")\n",
    "qc_reset = QuantumCircuit(qr, crx, crm, name=\"Reset\")\n",
    "\n",
    "# Complete the circuit to measure and conditionally reset the target\n",
    "# qubit.\n",
    "\n",
    "qc_reset = transpile(qc_reset, backend)\n",
    "qc_reset.draw(output=\"mpl\", idle_wires=False)"
   ]
  },
  {
   "cell_type": "code",
   "execution_count": 12,
   "id": "12afb0d2",
   "metadata": {
    "slideshow": {
     "slide_type": "skip"
    }
   },
   "outputs": [
    {
     "data": {
      "image/png": "[encoded data removed]",
      "text/plain": [
       "<Figure size 627.38x284.278 with 1 Axes>"
      ]
     },
     "execution_count": 12,
     "metadata": {},
     "output_type": "execute_result"
    }
   ],
   "source": [
    "# Solution\n",
    "\n",
    "from utils import run_openqasm3\n",
    "\n",
    "from qiskit import QuantumRegister, ClassicalRegister, transpile\n",
    "\n",
    "qr = QuantumRegister(1)\n",
    "crx = ClassicalRegister(1, name=\"xresult\")\n",
    "crm = ClassicalRegister(1, name=\"measureresult\")\n",
    "qc_reset = QuantumCircuit(qr, crx, crm, name=\"Reset\")\n",
    "qc_reset.x(0)\n",
    "qc_reset.measure(0, crx)\n",
    "qc_reset.x(0).c_if(crx, 1)\n",
    "qc_reset.measure(0, crm)\n",
    "\n",
    "qc_reset = transpile(qc_reset, backend)\n",
    "qc_reset.draw(output=\"mpl\", idle_wires=False)"
   ]
  },
  {
   "cell_type": "markdown",
   "id": "1037be07",
   "metadata": {
    "slideshow": {
     "slide_type": "subslide"
    }
   },
   "source": [
    "### Now, let's run"
   ]
  },
  {
   "cell_type": "code",
   "execution_count": 13,
   "id": "613ca377",
   "metadata": {
    "slideshow": {
     "slide_type": "-"
    }
   },
   "outputs": [
    {
     "name": "stdout",
     "output_type": "stream",
     "text": [
      "=======Reset=======\n",
      "=======QASM3======\n",
      "OPENQASM 3;\n",
      "bit[1] xresult;\n",
      "bit[1] measureresult;\n",
      "x $0;\n",
      "xresult[0] = measure $0;\n",
      "if (xresult == 1) {\n",
      "  x $0;\n",
      "}\n",
      "measureresult[0] = measure $0;\n",
      "\n",
      "==================\n",
      "                 ┌───┐┌─┐ ┌───┐ ┌─┐\n",
      "       q1_0 -> 0 ┤ X ├┤M├─┤ X ├─┤M├\n",
      "                 └───┘└╥┘ └─╥─┘ └╥┘\n",
      "                       ║ ┌──╨──┐ ║ \n",
      "      xresult: 1/══════╩═╡ 0x1 ╞═╬═\n",
      "                       0 └─────┘ ║ \n",
      "measureresult: 1/════════════════╩═\n",
      "                                 0 \n",
      "==================\n",
      "Running: ccm4qqn1qgumrtivetvg\n"
     ]
    },
    {
     "ename": "KeyboardInterrupt",
     "evalue": "",
     "output_type": "error",
     "traceback": [
      "\u001b[0;31m---------------------------------------------------------------------------\u001b[0m",
      "\u001b[0;31mKeyboardInterrupt\u001b[0m                         Traceback (most recent call last)",
      "Cell \u001b[0;32mIn [13], line 1\u001b[0m\n\u001b[0;32m----> 1\u001b[0m reset_job \u001b[38;5;241m=\u001b[39m \u001b[43mrun_openqasm3\u001b[49m\u001b[43m(\u001b[49m\u001b[43mqc_reset\u001b[49m\u001b[43m,\u001b[49m\u001b[43m \u001b[49m\u001b[43mbackend\u001b[49m\u001b[43m,\u001b[49m\u001b[43m \u001b[49m\u001b[43mverbose\u001b[49m\u001b[38;5;241;43m=\u001b[39;49m\u001b[38;5;28;43;01mTrue\u001b[39;49;00m\u001b[43m,\u001b[49m\u001b[43m \u001b[49m\u001b[43mshots\u001b[49m\u001b[38;5;241;43m=\u001b[39;49m\u001b[43mshots\u001b[49m\u001b[43m,\u001b[49m\u001b[43m \u001b[49m\u001b[43minit_num_resets\u001b[49m\u001b[38;5;241;43m=\u001b[39;49m\u001b[38;5;241;43m0\u001b[39;49m\u001b[43m,\u001b[49m\u001b[43m \u001b[49m\u001b[43minit_delay\u001b[49m\u001b[38;5;241;43m=\u001b[39;49m\u001b[38;5;241;43m0\u001b[39;49m\u001b[43m)\u001b[49m\n",
      "File \u001b[0;32m~/Devel/ibm/external/IEEE-Quantum-Week-2022/utils.py:105\u001b[0m, in \u001b[0;36mrun_openqasm3\u001b[0;34m(circuits, backend, verbose, draw, runtime_image, merge_circuits, init_circuit, init_num_resets, init_delay, max_execution_time, program_id, **run_config)\u001b[0m\n\u001b[1;32m    102\u001b[0m     \u001b[38;5;28mprint\u001b[39m(\u001b[38;5;124mf\u001b[39m\u001b[38;5;124m\"\u001b[39m\u001b[38;5;124mRunning: \u001b[39m\u001b[38;5;132;01m{\u001b[39;00mjob\u001b[38;5;241m.\u001b[39mjob_id\u001b[38;5;132;01m}\u001b[39;00m\u001b[38;5;124m\"\u001b[39m)\n\u001b[1;32m    104\u001b[0m \u001b[38;5;28;01mif\u001b[39;00m verbose:\n\u001b[0;32m--> 105\u001b[0m     result \u001b[38;5;241m=\u001b[39m \u001b[43mjob\u001b[49m\u001b[38;5;241;43m.\u001b[39;49m\u001b[43mresult\u001b[49m\u001b[43m(\u001b[49m\u001b[43m)\u001b[49m\n\u001b[1;32m    106\u001b[0m     \u001b[38;5;28;01mfor\u001b[39;00m circuit_idx, circuit \u001b[38;5;129;01min\u001b[39;00m \u001b[38;5;28menumerate\u001b[39m(circuits):\n\u001b[1;32m    107\u001b[0m         counts \u001b[38;5;241m=\u001b[39m result\u001b[38;5;241m.\u001b[39mget_counts(circuit_idx)\n",
      "File \u001b[0;32m~/opt/anaconda3/envs/ieee/lib/python3.9/site-packages/qiskit_ibm_runtime/runtime_job.py:180\u001b[0m, in \u001b[0;36mRuntimeJob.result\u001b[0;34m(self, timeout, decoder)\u001b[0m\n\u001b[1;32m    178\u001b[0m _decoder \u001b[38;5;241m=\u001b[39m decoder \u001b[38;5;129;01mor\u001b[39;00m \u001b[38;5;28mself\u001b[39m\u001b[38;5;241m.\u001b[39m_result_decoder\n\u001b[1;32m    179\u001b[0m \u001b[38;5;28;01mif\u001b[39;00m \u001b[38;5;28mself\u001b[39m\u001b[38;5;241m.\u001b[39m_results \u001b[38;5;129;01mis\u001b[39;00m \u001b[38;5;28;01mNone\u001b[39;00m \u001b[38;5;129;01mor\u001b[39;00m (_decoder \u001b[38;5;241m!=\u001b[39m \u001b[38;5;28mself\u001b[39m\u001b[38;5;241m.\u001b[39m_result_decoder):\n\u001b[0;32m--> 180\u001b[0m     \u001b[38;5;28;43mself\u001b[39;49m\u001b[38;5;241;43m.\u001b[39;49m\u001b[43mwait_for_final_state\u001b[49m\u001b[43m(\u001b[49m\u001b[43mtimeout\u001b[49m\u001b[38;5;241;43m=\u001b[39;49m\u001b[43mtimeout\u001b[49m\u001b[43m)\u001b[49m\n\u001b[1;32m    181\u001b[0m     \u001b[38;5;28;01mif\u001b[39;00m \u001b[38;5;28mself\u001b[39m\u001b[38;5;241m.\u001b[39m_status \u001b[38;5;241m==\u001b[39m JobStatus\u001b[38;5;241m.\u001b[39mERROR:\n\u001b[1;32m    182\u001b[0m         \u001b[38;5;28;01mraise\u001b[39;00m RuntimeJobFailureError(\n\u001b[1;32m    183\u001b[0m             \u001b[38;5;124mf\u001b[39m\u001b[38;5;124m\"\u001b[39m\u001b[38;5;124mUnable to retrieve job result. \u001b[39m\u001b[38;5;124m\"\u001b[39m \u001b[38;5;124mf\u001b[39m\u001b[38;5;124m\"\u001b[39m\u001b[38;5;132;01m{\u001b[39;00m\u001b[38;5;28mself\u001b[39m\u001b[38;5;241m.\u001b[39merror_message()\u001b[38;5;132;01m}\u001b[39;00m\u001b[38;5;124m\"\u001b[39m\n\u001b[1;32m    184\u001b[0m         )\n",
      "File \u001b[0;32m~/opt/anaconda3/envs/ieee/lib/python3.9/site-packages/qiskit_ibm_runtime/runtime_job.py:243\u001b[0m, in \u001b[0;36mRuntimeJob.wait_for_final_state\u001b[0;34m(self, timeout)\u001b[0m\n\u001b[1;32m    239\u001b[0m     \u001b[38;5;28mself\u001b[39m\u001b[38;5;241m.\u001b[39m_ws_client_future \u001b[38;5;241m=\u001b[39m \u001b[38;5;28mself\u001b[39m\u001b[38;5;241m.\u001b[39m_executor\u001b[38;5;241m.\u001b[39msubmit(\n\u001b[1;32m    240\u001b[0m         \u001b[38;5;28mself\u001b[39m\u001b[38;5;241m.\u001b[39m_start_websocket_client\n\u001b[1;32m    241\u001b[0m     )\n\u001b[1;32m    242\u001b[0m \u001b[38;5;28;01mif\u001b[39;00m \u001b[38;5;28mself\u001b[39m\u001b[38;5;241m.\u001b[39m_is_streaming():\n\u001b[0;32m--> 243\u001b[0m     \u001b[38;5;28;43mself\u001b[39;49m\u001b[38;5;241;43m.\u001b[39;49m\u001b[43m_ws_client_future\u001b[49m\u001b[38;5;241;43m.\u001b[39;49m\u001b[43mresult\u001b[49m\u001b[43m(\u001b[49m\u001b[43mtimeout\u001b[49m\u001b[43m)\u001b[49m\n\u001b[1;32m    244\u001b[0m \u001b[38;5;66;03m# poll for status after stream has closed until status is final\u001b[39;00m\n\u001b[1;32m    245\u001b[0m \u001b[38;5;66;03m# because status doesn't become final as soon as stream closes\u001b[39;00m\n\u001b[1;32m    246\u001b[0m status \u001b[38;5;241m=\u001b[39m \u001b[38;5;28mself\u001b[39m\u001b[38;5;241m.\u001b[39mstatus()\n",
      "File \u001b[0;32m~/opt/anaconda3/envs/ieee/lib/python3.9/concurrent/futures/_base.py:441\u001b[0m, in \u001b[0;36mFuture.result\u001b[0;34m(self, timeout)\u001b[0m\n\u001b[1;32m    438\u001b[0m \u001b[38;5;28;01melif\u001b[39;00m \u001b[38;5;28mself\u001b[39m\u001b[38;5;241m.\u001b[39m_state \u001b[38;5;241m==\u001b[39m FINISHED:\n\u001b[1;32m    439\u001b[0m     \u001b[38;5;28;01mreturn\u001b[39;00m \u001b[38;5;28mself\u001b[39m\u001b[38;5;241m.\u001b[39m__get_result()\n\u001b[0;32m--> 441\u001b[0m \u001b[38;5;28;43mself\u001b[39;49m\u001b[38;5;241;43m.\u001b[39;49m\u001b[43m_condition\u001b[49m\u001b[38;5;241;43m.\u001b[39;49m\u001b[43mwait\u001b[49m\u001b[43m(\u001b[49m\u001b[43mtimeout\u001b[49m\u001b[43m)\u001b[49m\n\u001b[1;32m    443\u001b[0m \u001b[38;5;28;01mif\u001b[39;00m \u001b[38;5;28mself\u001b[39m\u001b[38;5;241m.\u001b[39m_state \u001b[38;5;129;01min\u001b[39;00m [CANCELLED, CANCELLED_AND_NOTIFIED]:\n\u001b[1;32m    444\u001b[0m     \u001b[38;5;28;01mraise\u001b[39;00m CancelledError()\n",
      "File \u001b[0;32m~/opt/anaconda3/envs/ieee/lib/python3.9/threading.py:312\u001b[0m, in \u001b[0;36mCondition.wait\u001b[0;34m(self, timeout)\u001b[0m\n\u001b[1;32m    310\u001b[0m \u001b[38;5;28;01mtry\u001b[39;00m:    \u001b[38;5;66;03m# restore state no matter what (e.g., KeyboardInterrupt)\u001b[39;00m\n\u001b[1;32m    311\u001b[0m     \u001b[38;5;28;01mif\u001b[39;00m timeout \u001b[38;5;129;01mis\u001b[39;00m \u001b[38;5;28;01mNone\u001b[39;00m:\n\u001b[0;32m--> 312\u001b[0m         \u001b[43mwaiter\u001b[49m\u001b[38;5;241;43m.\u001b[39;49m\u001b[43macquire\u001b[49m\u001b[43m(\u001b[49m\u001b[43m)\u001b[49m\n\u001b[1;32m    313\u001b[0m         gotit \u001b[38;5;241m=\u001b[39m \u001b[38;5;28;01mTrue\u001b[39;00m\n\u001b[1;32m    314\u001b[0m     \u001b[38;5;28;01melse\u001b[39;00m:\n",
      "\u001b[0;31mKeyboardInterrupt\u001b[0m: "
     ]
    }
   ],
   "source": [
    "reset_job = run_openqasm3(qc_reset, backend, verbose=True, shots=shots, init_num_resets=0, init_delay=0) # Turn off automatic init"
   ]
  },
  {
   "cell_type": "markdown",
   "id": "2a90d0be",
   "metadata": {
    "slideshow": {
     "slide_type": "subslide"
    }
   },
   "source": [
    "### And interpret the results"
   ]
  },
  {
   "cell_type": "code",
   "execution_count": null,
   "id": "10254311",
   "metadata": {
    "slideshow": {
     "slide_type": "-"
    }
   },
   "outputs": [],
   "source": [
    "\n",
    "from qiskit.result import marginal_counts\n",
    "\n",
    "reset_result = reset_job.result()\n",
    "reset_counts = reset_result.get_counts(0)\n",
    "# Look at only the final measurement result\n",
    "initial_measurement_result = marginal_counts(reset_counts, indices=[0])\n",
    "mitigated_reset_results = marginal_counts(reset_counts, indices=[1])\n",
    "print(f\"Full counts including reset: {reset_counts}\")\n",
    "print(f\"Conditional X gate applied on: {initial_measurement_result['1']} shots\")\n",
    "print(f\"Results from our reset - |0\\rangles prepared: {mitigated_reset_results.get('0')}, |1\\rangles prepared: {mitigated_reset_results.get('1', 0)}\"\n",
    ")"
   ]
  },
  {
   "cell_type": "markdown",
   "id": "3ab291d6",
   "metadata": {
    "slideshow": {
     "slide_type": "subslide"
    }
   },
   "source": [
    "### What is going on under the hood?\n",
    "\n",
    "We are submitting circuit jobs to a [Qiskit Runtime](https://quantum-computing.ibm.com/lab/docs/iql/runtime/) [qasm3-runner program](https://quantum-computing.ibm.com/services/programs?search=qasm3&program=qasm3-runner) that exposes a ``backend.run(circuits, ...)`` like interface, but which accepts either ``QuantumCircuit`` or OpenQASM 3 strings for ``circuits``.\n",
    "\n",
    "These circuits are processed in the runtime and then submitted to our next-generation systems software stack which compiles the program for our real-time control systems and then launches the output executable within the hardware runtime.\n",
    "\n",
    "**Note**: In a future release of the `qiskit-ibm-provider`, we will release an updated interface in the form of `backend.run(circuit)` which invokes the Qiskit Runtime."
   ]
  },
  {
   "cell_type": "markdown",
   "id": "fc56f3f5",
   "metadata": {
    "slideshow": {
     "slide_type": "subslide"
    }
   },
   "source": [
    "![Qiskit Runtime](https://iqx-docs.quantum-computing.ibm.com/_images/Qiskit_Runtime_architecture1.png)"
   ]
  },
  {
   "cell_type": "markdown",
   "id": "170fcb27",
   "metadata": {
    "slideshow": {
     "slide_type": "subslide"
    }
   },
   "source": [
    "### Submit an OpenQASM 3 string directly\n",
    "\n",
    "It is possible to submit an OpenQASM3 string directly to the runtime. This is useful for the cases where the `QuantumCircuit` does not yet support all of the semantics of OpenQASM 3. To see what features of OpenQASM 3 are currently supported in hardware, please see the [feature support table here](https://quantum-computing.ibm.com/services/docs/services/manage/systems/dynamic-circuits/feature-table).\n",
    "\n",
    "We can get the OpenQASM 3 for our circuit from Qiskit.\n",
    "\n",
    "**Note**: We current do not merge your circuits into a single execution when OpenQASM 3 source strings are submitted directly. In this case each OpenQASM 3 source will be run as an individual execution and will take significantly longer to execute in the hardware."
   ]
  },
  {
   "cell_type": "markdown",
   "id": "f8d811fc",
   "metadata": {
    "slideshow": {
     "slide_type": "subslide"
    }
   },
   "source": [
    "### We can use Qiskit to emit a QuantumCircuit as an OpenQASM3 source string"
   ]
  },
  {
   "cell_type": "code",
   "execution_count": null,
   "id": "ffd03a91",
   "metadata": {
    "slideshow": {
     "slide_type": "-"
    }
   },
   "outputs": [],
   "source": [
    "from qiskit import qasm3\n",
    "\n",
    "basis_gates = backend.configuration().basis_gates\n",
    "\n",
    "def dump_qasm3(circuit: QuantumCircuit, backend: IBMBackend = backend) -> str:\n",
    "    return qasm3.Exporter(includes=[],\n",
    "                          basis_gates=backend.configuration().basis_gates,\n",
    "                          disable_constants=True).dumps(circuit)\n",
    "\n",
    "qasm3_reset = dump_qasm3(qc_reset)\n",
    "print(qasm3_reset)"
   ]
  },
  {
   "cell_type": "markdown",
   "id": "b0719252",
   "metadata": {
    "slideshow": {
     "slide_type": "subslide"
    }
   },
   "source": [
    "### We can then submit this directly to the runtime\n",
    "For the rest of the tutorial we will use the method `run_openqasm3` which is a simple wrapper around the runtime calls above with some additional logging."
   ]
  },
  {
   "cell_type": "code",
   "execution_count": null,
   "id": "faf08727",
   "metadata": {
    "slideshow": {
     "slide_type": "-"
    }
   },
   "outputs": [],
   "source": [
    "runtime_job = run_openqasm3(qasm3_reset, backend, verbose=True, shots=shots, init_num_resets=0, init_delay=0)"
   ]
  },
  {
   "cell_type": "markdown",
   "id": "1c74bd08",
   "metadata": {
    "slideshow": {
     "slide_type": "subslide"
    }
   },
   "source": [
    "### OpenQASM 3 gives us more classical compute\n",
    "The semantics of OpenQASM 3 enable more classical compute than is currently\n",
    "available in Qiskit. For now we can access this by submitting an OpenQASM3 source string directly."
   ]
  },
  {
   "cell_type": "code",
   "execution_count": null,
   "id": "c8feb26a",
   "metadata": {
    "slideshow": {
     "slide_type": "-"
    }
   },
   "outputs": [],
   "source": [
    "classical_compute_qasm3 = \"\"\"\n",
    "OPENQASM 3.0;\n",
    "\n",
    "bit a;\n",
    "bit b;\n",
    "bit c;\n",
    "\n",
    "x $0;\n",
    "x $2;\n",
    "\n",
    "a = measure $0; // expected \"1\"\n",
    "b = measure $1; // expected \"0\"\n",
    "c = measure $2; // expected \"1\"\n",
    "\n",
    "bit[3] d = \"100\";\n",
    "\n",
    "if (((a | b) & c) == 1) {\n",
    "    // Path will nearly always execute \n",
    "    d[0] = 1;\n",
    "} else {\n",
    "    // Path will rarely execute outside of SPAM errors\n",
    "    d[0] = 0;\n",
    "}\n",
    "\n",
    "bit[3] e = \"101\";\n",
    "// Conditionally execute based on classical bit array comparison\n",
    "// Should always execute\n",
    "if (d == e) {\n",
    "    x $1;\n",
    "}\n",
    "\n",
    "bit final;\n",
    "final = measure $1; // expected \"1\"\n",
    "\"\"\"\n",
    "\n",
    "classical_compute_job = run_openqasm3(classical_compute_qasm3, backend, verbose=False, shots=shots)"
   ]
  },
  {
   "cell_type": "markdown",
   "id": "a01ebe71",
   "metadata": {
    "slideshow": {
     "slide_type": "slide"
    }
   },
   "source": [
    "## Teleport a quantum state\n",
    "\n",
    "One example of a technique that is enabled by having control-flow available in a circuit is\n",
    "quantum teleportation. \n",
    "\n",
    "Visit the Qiskit Textbook to know more about [Quantum teleportation](https://qiskit.org/textbook/ch-algorithms/teleportation.html).\n",
    "\n",
    "<img src=\"figs/telamon.jpeg\" alt=\"drawing\" style=\"width:800px;\"/>"
   ]
  },
  {
   "cell_type": "markdown",
   "id": "9758f3ec",
   "metadata": {
    "slideshow": {
     "slide_type": "subslide"
    }
   },
   "source": [
    "### Step 1: Prepare the teleportation circuit\n",
    "\n",
    "The circuit below prepares the state\n",
    "\n",
    "$$ |\\Psi\\rangle = \\frac{1}{2}( |00\\rangle(\\alpha|0\\rangle+\\beta|1\\rangle) + |01\\rangle(\\alpha|0\\rangle+\\beta|1\\rangle) + |10\\rangle(\\alpha|0\\rangle-\\beta|1\\rangle) +|11\\rangle(\\alpha|1\\rangle-\\beta|0\\rangle)) $$\n",
    "\n",
    "If we measure qubits $\\$0$ and $\\$1$ we project the state to one of $\\{\\alpha|0\\rangle+\\beta|1\\rangle, \\alpha|1\\rangle+\\beta|0\\rangle, \\alpha|0\\rangle-\\beta|1\\rangle, \\alpha|1\\rangle-\\beta|0\\rangle\\}$ with corresponding measurement bitstrings of $\\{00, 01, 10, 11\\}$.\n",
    "\n",
    "Each of these states is only a $Z$ or $X$ operation away from the original input state $\\alpha|0\\rangle+\\beta|1\\rangle$.\n",
    "By using dynamic circuit capabilities we can apply this \"correction\" sequence.\n",
    "\n",
    "We will perform similar operations to implement the bit-flip code below."
   ]
  },
  {
   "cell_type": "code",
   "execution_count": null,
   "id": "1c21bf18",
   "metadata": {
    "slideshow": {
     "slide_type": "subslide"
    }
   },
   "outputs": [],
   "source": [
    "qr = QuantumRegister(3)\n",
    "cr = ClassicalRegister(3, name=\"result\")\n",
    "crz = cr[0]\n",
    "crx = cr[1]\n",
    "result = cr[2]\n",
    "\n",
    "qc_teleport = QuantumCircuit(qr, cr, name=\"Teleport\")\n",
    "\n",
    "# Apply teleportation circuit\n",
    "qc_teleport.h(qr[1])\n",
    "qc_teleport.cx(qr[1], qr[2])\n",
    "qc_teleport.cx(qr[0], qr[1])\n",
    "qc_teleport.h(qr[0])\n",
    "qc_teleport.measure(qr[0], crz)\n",
    "qc_teleport.measure(qr[1], crx)\n",
    "qc_teleport.z(qr[2]).c_if(crz, 1)\n",
    "qc_teleport.x(qr[2]).c_if(crx, 1)\n",
    "qc_teleport.draw(output=\"mpl\")"
   ]
  },
  {
   "cell_type": "markdown",
   "id": "1a184671",
   "metadata": {
    "slideshow": {
     "slide_type": "subslide"
    }
   },
   "source": [
    "### Step 2: Prepare the state to be teleported\n",
    "\n",
    "For our demonstration we need to choose and prepare a state to teleport. For simplicity we look at $|1\\rangle$."
   ]
  },
  {
   "cell_type": "code",
   "execution_count": null,
   "id": "0f7fbe9a",
   "metadata": {
    "slideshow": {
     "slide_type": "-"
    }
   },
   "outputs": [],
   "source": [
    "# Prepare |1> for teleportation\n",
    "qc_state_prep = QuantumCircuit(1)\n",
    "qc_state_prep.x(0)\n",
    "print(qc_state_prep)\n",
    "\n",
    "target_state_prep = qi.Statevector.from_instruction(qc_state_prep)\n",
    "target_state_prep.draw(output=\"bloch\")"
   ]
  },
  {
   "cell_type": "markdown",
   "id": "b5ff8287",
   "metadata": {
    "slideshow": {
     "slide_type": "subslide"
    }
   },
   "source": [
    "### Step 3: Compose the state initialization with the teleportation"
   ]
  },
  {
   "cell_type": "code",
   "execution_count": null,
   "id": "5ae19f42",
   "metadata": {
    "slideshow": {
     "slide_type": "-"
    }
   },
   "outputs": [],
   "source": [
    "teleport_qubits = favourite_qubits[:3]\n",
    "\n",
    "qc_teleport_state = QuantumCircuit(qr, cr, name=\"Teleport Hadamard\")\n",
    "\n",
    "# Prepare state to teleport\n",
    "qc_teleport_state.compose(qc_state_prep, [qr[0]], inplace=True)\n",
    "qc_teleport_state.barrier(qr)\n",
    "\n",
    "# Compose with teleportation circuit\n",
    "qc_teleport_state.compose(qc_teleport, inplace=True)\n",
    "\n",
    "qc_teleport_state.draw(output=\"mpl\")"
   ]
  },
  {
   "cell_type": "markdown",
   "id": "e9cf61aa",
   "metadata": {
    "slideshow": {
     "slide_type": "subslide"
    }
   },
   "source": [
    "### Step 4: Transpile for backend "
   ]
  },
  {
   "cell_type": "code",
   "execution_count": null,
   "id": "51112c22",
   "metadata": {
    "slideshow": {
     "slide_type": "-"
    }
   },
   "outputs": [],
   "source": [
    "qc_teleport_experiment = qc_teleport_state.copy()\n",
    "qc_teleport_experiment.measure(qr[2], result)\n",
    "qc_teleport_experiment = apply_transpile(qc_teleport_experiment, backend, initial_layout=teleport_qubits)\n",
    "qc_teleport_experiment.draw(output=\"mpl\", idle_wires=True)"
   ]
  },
  {
   "cell_type": "markdown",
   "id": "65fcc6c0",
   "metadata": {
    "slideshow": {
     "slide_type": "subslide"
    }
   },
   "source": [
    "### And execute"
   ]
  },
  {
   "cell_type": "code",
   "execution_count": null,
   "id": "269d3656",
   "metadata": {
    "slideshow": {
     "slide_type": "-"
    }
   },
   "outputs": [],
   "source": [
    "teleport_job = execute(qc_teleport_experiment, verbose=False)"
   ]
  },
  {
   "cell_type": "code",
   "execution_count": null,
   "id": "c25e0a12",
   "metadata": {
    "slideshow": {
     "slide_type": "-"
    }
   },
   "outputs": [],
   "source": [
    "teleport_result = teleport_job.result()\n",
    "print(f\"All teleportation counts: {teleport_result.get_counts(0)}\")\n",
    "\n",
    "marginal_teleport_counts = marginal_counts(teleport_result.get_counts(0), indices=[2])\n",
    "print(f\"Marginalized teleportation counts: {marginal_teleport_counts}\")"
   ]
  },
  {
   "cell_type": "markdown",
   "id": "80dd9012",
   "metadata": {
    "slideshow": {
     "slide_type": "slide"
    }
   },
   "source": [
    "## Running basic quantum error correction\n",
    "\n",
    "*Note*: This tutorial draws heavily from these excellent tutorials [1](https://qiskit.org/textbook/ch-quantum-hardware/error-correction-repetition-code.html) [2](https://github.com/qiskit-community/qiskit-community-tutorials/blob/master/awards/teach_me_quantum_2018/intro2qc/10.Quantum%20error%20correction.ipynb).\n",
    "\n",
    "A few more excellent references for an introduction to quantum error correction [3](https://www2.physics.ox.ac.uk/sites/default/files/ErrorCorrectionSteane06.pdf) [4](https://arxiv.org/abs/1907.11157) [5](https://arxiv.org/abs/0905.2794) [6](https://www.nature.com/articles/s41534-020-00304-y)"
   ]
  },
  {
   "cell_type": "markdown",
   "id": "db7e45c6",
   "metadata": {
    "slideshow": {
     "slide_type": "subslide"
    }
   },
   "source": [
    "### The basics of error correction\n",
    "\n",
    "The basic ideas behind error correction are the same for quantum information as for classical information. This allows us to begin by considering a very straightforward example: speaking on the phone. If someone asks you a question to which the answer is 'yes' or 'no', the way you give your response will depend on two factors:\n",
    "\n",
    "* How important is it that you are understood correctly?\n",
    "* How good is your connection?\n",
    "\n",
    "Both of these can be parameterized with probabilities. For the first, we can use $P_a$, the maximum acceptable probability of being misunderstood. If you are being asked to confirm a preference for ice cream flavours, and don't mind too much if you get vanilla rather than chocolate, $P_a$ might be quite high. If you are being asked a question on which someone's life depends, however, $P_a$ will be much lower."
   ]
  },
  {
   "cell_type": "markdown",
   "id": "703147ed",
   "metadata": {
    "slideshow": {
     "slide_type": "subslide"
    }
   },
   "source": [
    "\n",
    "For the second we can use $p$, the probability that your answer is garbled by a bad connection. For simplicity, let's imagine a case where a garbled 'yes' doesn't simply sound like nonsense, but sounds like a 'no'. And similarly a 'no' is transformed into 'yes'. Then $p$ is the probability that you are completely misunderstood.\n",
    "\n",
    "A good connection or a relatively unimportant question will result in $p<P_a$. In this case it is fine to simply answer in the most direct way possible: you just say 'yes' or 'no'.\n",
    "\n",
    "If, however, your connection is poor and your answer is important, we will have $p>P_a$. A single 'yes' or 'no' is not enough in this case. The probability of being misunderstood would be too high. Instead we must encode our answer in a more complex structure, allowing the receiver to decode our meaning despite the possibility of the message being disrupted. The simplest method is the one that many would do without thinking: simply repeat the answer many times. For example say 'yes, yes, yes' instead of 'yes' or 'no, no no' instead of 'no'.\n",
    "\n",
    "If the receiver hears 'yes, yes, yes' in this case, they will of course conclude that the sender meant 'yes'. If they hear 'no, yes, yes', 'yes, no, yes' or 'yes, yes, no', they will probably conclude the same thing, since there is more positivity than negativity in the answer. To be misunderstood in this case, at least two of the replies need to be garbled. The probability for this, $P$, will be less than $p$. When encoded in this way, the message therefore becomes more likely to be understood. The code cell below shows an example of this."
   ]
  },
  {
   "cell_type": "code",
   "execution_count": null,
   "id": "6a9843d1",
   "metadata": {
    "slideshow": {
     "slide_type": "-"
    }
   },
   "outputs": [],
   "source": [
    "p1 = 0.01\n",
    "p3 = 3 * p1**2 * (1-p1) + p1**3 # probability of 2 or 3 errors\n",
    "print('Probability of a single reply being garbled: {}'.format(p1))\n",
    "print('Probability of a majority of the three replies being garbled: {:.4f}'.format(p3))"
   ]
  },
  {
   "cell_type": "markdown",
   "id": "ee9af5de",
   "metadata": {
    "slideshow": {
     "slide_type": "subslide"
    }
   },
   "source": [
    "Say, $P_a=p1$, that our acceptance probability is just at the threshold of a single reply being garbled. With the majority voting technique above $p3<P_a$, so this technique solves our problem. If it had not, then we can simply add more repetitions. The fact that $p3<P_a$ above comes from the fact that we need at least two replies to be garbled to flip the majority, and so even the most likely possibilities have a probability of $\\sim p1^2$. For five repetitions we'd need at least three replies to be garbled to flip the majority, which happens with probability $\\sim p1^3$. The value for $P$ in this case would then be even lower. Indeed, as we increase the number of repetitions, $P$ will decrease exponentially. No matter how bad the connection, or how certain we need to be of our message getting through correctly, we can achieve it by just repeating our answer enough times.\n",
    "\n",
    "Though this is a simple example, it contains all the aspects of error correction.\n",
    "* There is some information to be sent or stored: In this case, a 'yes' or 'no'.\n",
    "* The information is encoded in a larger system to protect it against noise: In this case, by repeating the message.\n",
    "* The information is finally decoded, mitigating for the effects of noise: In this case, by trusting the majority of the transmitted messages.\n",
    "\n",
    "This same encoding scheme can also be used for binary, by simply substituting `0` and `1` for 'yes' and 'no'. It can therefore also be easily generalized to qubits by using the states $\\left|0\\right\\rangle$ and $\\left|1\\right\\rangle$. In each case it is known as the *repetition code*. Many other forms of encoding are also possible in both the classical and quantum cases, which outperform the repetition code in many ways. However, its status as the simplest encoding does lend it to certain applications."
   ]
  },
  {
   "cell_type": "markdown",
   "id": "b4446ede",
   "metadata": {
    "slideshow": {
     "slide_type": "subslide"
    }
   },
   "source": [
    "## Quantum error correction\n",
    "\n",
    "While repetition conceptually underlies the codes we will implement in this notebook implementing the repetition code naively will not allow us to store *quantum information*. This is because the very act of measuring our data qubits will destroy the encoded state. For example consider that we encoded the state $|\\Psi_0\\rangle = \\alpha |0\\rangle + \\beta |1\\rangle$ as $|\\tilde{\\Psi}_0\\rangle = \\alpha |000\\rangle + \\beta |111\\rangle$ if we measure all of the qubits according to the Born rule we will obtain the outcome states with probability $Pr(|000\\rangle) = |\\alpha|^2$ and $Pr(|111\\rangle) = |\\beta|^2$. \n",
    "\n",
    "\n",
    "If we then decode our encoded state $|\\tilde{\\Psi}_1\\rangle \\rightarrow |\\Psi_1\\rangle$ we will obtain\n",
    "\n",
    "$$\n",
    "  |\\Psi_1\\rangle =\n",
    "\\begin{cases}\n",
    "|0\\rangle & \\propto Pr(|000\\rangle) = |\\alpha|^2\\\\\n",
    "|1\\rangle & \\propto Pr(|111\\rangle) = |\\beta|^2\n",
    "\\end{cases}\n",
    "$$\n",
    "\n",
    "Importantly this is **not** the state we encoded $|\\Psi_0\\rangle$. This is because our measurement operation *does not commute with the encoding of the state*.\n",
    "\n",
    "At face value this might imply that quantum error correcting codes are not possible. However, it turns out we can exploit additional ancilla qubits and entanglement to measure what are known as *stabilizers* that do not transform our encoded quantum information, while still informing us of some classes of errors that may have occurred. "
   ]
  },
  {
   "cell_type": "markdown",
   "id": "15dcac50",
   "metadata": {
    "slideshow": {
     "slide_type": "subslide"
    }
   },
   "source": [
    "## Stabilizer codes\n",
    "\n",
    "A quantum stabilizer code encodes $k$ logical qubits into $n$ physical qubits. The coding rate is defined as the ration of $k/n$. The *stabilizer* $S$ is an Abelian subgroup of the Pauli group $\\Pi^n$ (importantly it does not matter in which order we apply our stabilizers). The +1 eigenspace of the stabilizer operators make up the *codespace* of the code. It will have dimension $2^k$ and can therefore encode $k$ qubits. \n",
    "\n",
    "Stabilizer codes critically focus on correcting a discrete error set with support from the Pauli group $\\Pi^n$. Assume the set of possible errors are $ \\epsilon \\subset \\Pi^n$. For example in a bit flip code with three-qubits encoding the quantum state we will have $\\epsilon = \\{IIX, IXI, XII\\}$.\n",
    "\n",
    "As both $S$ and $\\epsilon$ are subsets of the Pauli group $\\Pi^n$ if an error $E \\in \\epsilon$ is applied to a state it will either commute or anticommute with one of the generators of the Stabilizer group $g \\in S$. If the error anticommutes with a Stabilizer element it will be both detectable and correctable as it will change the sign of the stabilizer measurement."
   ]
  },
  {
   "cell_type": "markdown",
   "id": "4208eabe",
   "metadata": {
    "slideshow": {
     "slide_type": "subslide"
    }
   },
   "source": [
    "In general we can measure each element of the generator of the stabilizer (the minimal representation) $\\{g_1, \\cdots, g_{n-k} | \\forall i \\in \\{1, \\cdots, n-k\\}, g_i \\in S\\}$ which will produce a syndrome bitstring $\\vec{x}$ where we assign `0` for a generator that commutes (+1 eigenspace) and `1` for a generator that anticommutes (-1 eigenspace). This is known as measuring the error *syndrome*.\n",
    "\n",
    "If $E_a$ commutes with $g_i$:\n",
    "$$g_iE_a|\\tilde{\\Psi}\\rangle = E_ag_i|\\tilde{\\Psi}\\rangle=E_a|\\tilde{\\Psi}\\rangle$$\n",
    "\n",
    "If $E_a$ anti-commutes with $g_i$:\n",
    "$$g_iE_a|\\tilde{\\Psi}\\rangle = -E_ag_i|\\tilde{\\Psi}\\rangle=-E_a|\\tilde{\\Psi}\\rangle$$\n",
    "\n",
    "\n",
    "Measuring the stabilizer generators *will not* modify our encoded qubit as by definition they commute with the codespace, however, *errors will*."
   ]
  },
  {
   "cell_type": "markdown",
   "id": "4a418d08",
   "metadata": {
    "slideshow": {
     "slide_type": "subslide"
    }
   },
   "source": [
    "## Correcting errors\n",
    "\n",
    "We now know how to *detect* an error (by measuring the stabilizers and observing their eigenvalues). \n",
    "\n",
    "The next step is to *decode* and *correct* the error.\n",
    "\n",
    "The condition for recovery is either: (1) $E_a^\\dagger E_b \\in S$ or (2) there exists $M \\in S$ that anticommutes with $E_a^\\dagger E_b$. [For more details, see here.](http://theory.caltech.edu/~preskill/ph229/notes/chap7.pdf)\n",
    "\n",
    "While the above introduction is a mathematical introduction to Stabilizer codes, we believe its better to learn the practicalities of implementing them with some hands on practice.\n"
   ]
  },
  {
   "cell_type": "markdown",
   "id": "ad03bc00",
   "metadata": {
    "slideshow": {
     "slide_type": "subslide"
    }
   },
   "source": [
    "### Stabilizer codes in practice\n",
    "In general there is a common structure to most experiments with stabilizer codes. While someday we will write a *logical* program and have the hardware determine how to encode and decode syndromes to correct errors in the program. Today, we are just starting to explore the practical implementation of QEC. Therefore we manually encode our logical state in *physical qubits* with circuits that we write at the physical qubit level. When we do this there is typically a standard flow to such an experiment:\n",
    "\n",
    "1. Initialize our input physical state $|\\Psi_0\\rangle \\rightarrow |\\Psi_1\\rangle$ we wish to protect.\n",
    "2. Encode our state in our Stabilizer's codespace as $|\\Psi_1\\rangle \\rightarrow |\\tilde{\\Psi}_1\\rangle$.\n",
    "3. Apply an error-channel. These may be simulated Krauss maps, probabilitiscally applied gates (as we demonstrate below), or simply the passive error-channel in the device of interest. $|\\tilde{\\Psi_1}\\rangle \\rightarrow |\\tilde{\\Psi}_2\\rangle$.\n",
    "4. Measure the syndrome by measuring the generators of our stabilizer $\\langle\\tilde{\\Psi}_2|g_0\\cdots g_n|\\tilde{\\Psi}_2\\rangle \\rightarrow |\\tilde{\\Psi}_2\\rangle,\\ \\  \\vec{x}$\n",
    "5. Apply a decoding sequence $D(\\vec{x})$ to our stabilizer and apply the correction sequence for the error (if possible) that we have decoded, $D(\\vec{x})|\\tilde{\\Psi}_2\\rangle \\rightarrow |\\tilde{\\Psi}_1\\rangle$. It is in computing $D(\\vec{x})$ where dynamic circuit capabilities are important.\n",
    "6. Loop to 3, if we are running multiple iterations of the Stabilizer sequence.\n",
    "7. Decode our encoded state to determine whether the encoded state was corrupted.\n",
    "8. Measure the final data qubit to observe the state we protected and determine how well the code performed."
   ]
  },
  {
   "cell_type": "markdown",
   "id": "a07da8bf",
   "metadata": {
    "slideshow": {
     "slide_type": "subslide"
    }
   },
   "source": [
    "## Executing the bit-flip code on hardware\n",
    "\n",
    "The bit-flip code is among the simplest examples of a stabilizer code. It can protect our state against a single bit-flip (X) error on any of the encoding qubits. if we consider the action of bit-flip error $X$ which maps $|0\\rangle \\rightarrow |1\\rangle$ and $|1\\rangle \\rightarrow |0\\rangle$ on any of our qubits we have $\\epsilon = \\{E_0, E_1, E_2 \\} = \\{IIX, IXI, XII\\}$. The code requires five-qubits, three of which are used to encode the protected state and the remaining two which are used as stabilizer measurement ancillas. Nonetheless, the ancillas are not counted so this means our coding rate for this state is $1/3$."
   ]
  },
  {
   "cell_type": "code",
   "execution_count": null,
   "id": "86d968d1",
   "metadata": {
    "slideshow": {
     "slide_type": "skip"
    }
   },
   "outputs": [],
   "source": [
    "# Approximate duration of the measurement processing / conditional latency\n",
    "block_branch_duration = 0.5e-6 \n",
    "block_branch_cycles = convert_cycles(block_branch_duration, backend)"
   ]
  },
  {
   "cell_type": "code",
   "execution_count": null,
   "id": "eed2bf5f",
   "metadata": {
    "slideshow": {
     "slide_type": "skip"
    }
   },
   "outputs": [],
   "source": [
    "# Setup a base quantum circuit for our experiments\n",
    "qreg_data = QuantumRegister(3)\n",
    "qreg_measure = QuantumRegister(2)\n",
    "creg_data = ClassicalRegister(3)\n",
    "creg_syndrome = ClassicalRegister(2)\n",
    "state_data = qreg_data[0]\n",
    "ancillas_data = qreg_data[1:]\n",
    "\n",
    "def build_qc() -> QuantumCircuit:\n",
    "    return QuantumCircuit(qreg_data, qreg_measure, creg_data, creg_syndrome)"
   ]
  },
  {
   "cell_type": "markdown",
   "id": "d832646a",
   "metadata": {
    "slideshow": {
     "slide_type": "subslide"
    }
   },
   "source": [
    "### Initialize our qubit\n",
    "To protect a quantum state we must first prepare it!\n",
    "In general we can prepare the state $$|\\Psi_0\\rangle \\rightarrow |\\Psi_1\\rangle = (\\alpha |0\\rangle + \\beta |1\\rangle)$$\n",
    "In the circuit below we prepare the physical state $$|\\Psi_1\\rangle = |1\\rangle$$"
   ]
  },
  {
   "cell_type": "code",
   "execution_count": null,
   "id": "b8be45c7",
   "metadata": {
    "slideshow": {
     "slide_type": "-"
    }
   },
   "outputs": [],
   "source": [
    "# Exercise\n",
    "\n",
    "qc_init = build_qc()\n",
    "\n",
    "# Complete to initialize the |1> state\n",
    "qc_init.barrier(qreg_data)\n",
    "\n",
    "qc_init.draw(output=\"mpl\")"
   ]
  },
  {
   "cell_type": "code",
   "execution_count": null,
   "id": "0aabe057",
   "metadata": {
    "slideshow": {
     "slide_type": "skip"
    }
   },
   "outputs": [],
   "source": [
    "# Solution\n",
    "\n",
    "qc_init = build_qc()\n",
    "\n",
    "qc_init.x(qreg_data[0])\n",
    "qc_init.barrier(qreg_data)\n",
    "\n",
    "qc_init.draw(output=\"mpl\")"
   ]
  },
  {
   "cell_type": "markdown",
   "id": "190ee9ca",
   "metadata": {
    "slideshow": {
     "slide_type": "subslide"
    }
   },
   "source": [
    "### Encode our logical state\n",
    "To protect our qubit we must encode it in the codespace. For the case of the bit-flip code this\n",
    "is very similar to the repetition code, where we implement repetition using the entangling\n",
    "`CX` gate rather than a classically conditioned bit-flip as we would do in the classical case.\n",
    "\n",
    "The encoding circuit below will map $|\\Psi_1\\rangle = U_{en}|\\Psi_0\\rangle = |00\\rangle (\\alpha |000\\rangle + \\beta |111\\rangle)$\n",
    "\n",
    "The codespace of our bitflip code is therefore $V_s = \\{|000\\rangle, |111\\rangle\\}$.\n",
    "\n",
    "The stabilizers for the bit flip code is $S = III, IZZ, ZIZ, ZZI$. \n",
    "\n",
    "\n",
    "Operationally what this means is that\n",
    "a single bit-flip error applied to the qubits will modify the observed state of a stabilizer measurement but leave it within the codespace. It is also straightforward to show that any two non-trivial Stabilizer elements can generate the full stabilizer. For example taking the generator set $G_0 = \\{g_0, g_1 \\} = \\{ IZZ, ZIZ \\}$\n",
    "\n",
    "We can see this as $g_0g_1 = IZZ . ZIZ = ZZI$ and $g_0g_0 = IZZ.IZZ = III$ completing our Stabilizer.\n",
    "\n",
    "This means that we must only measure our two generators $g_0$ and $g_1$ to detect any *correctable* error.\n",
    "\n",
    "It is easy to see the prepared state is a +1 eigenstate of our stabilizers\n",
    "$IZZ |\\Psi_1\\rangle = |\\Psi_1\\rangle$ \n",
    "$ZIZ |\\Psi_2\\rangle = |\\Psi_2\\rangle$ \n",
    "\n",
    "This is because the Stabilizer measures the *parity* of the two target qubits.\n"
   ]
  },
  {
   "cell_type": "markdown",
   "id": "9225c2b7",
   "metadata": {
    "slideshow": {
     "slide_type": "-"
    }
   },
   "source": [
    "The circuit below maps\n",
    "$$|\\Psi_1\\rangle \\rightarrow |\\tilde{\\Psi}_1\\rangle$$"
   ]
  },
  {
   "cell_type": "code",
   "execution_count": null,
   "id": "f1db71f7",
   "metadata": {
    "slideshow": {
     "slide_type": "-"
    }
   },
   "outputs": [],
   "source": [
    "# Exercise\n",
    "\n",
    "# Complete the method below to encode the bit-flip code\n",
    "def encode_bit_flip(qc, state, ancillas):\n",
    "    # Complete\n",
    "    qc.barrier(state, *ancillas)\n",
    "    return qc\n",
    "\n",
    "qc_encode_bit = build_qc()\n",
    "\n",
    "encode_bit_flip(qc_encode_bit, state_data, ancillas_data)\n",
    "\n",
    "qc_encode_bit.draw(output=\"mpl\")"
   ]
  },
  {
   "cell_type": "code",
   "execution_count": null,
   "id": "b6b23a0e",
   "metadata": {
    "slideshow": {
     "slide_type": "skip"
    }
   },
   "outputs": [],
   "source": [
    "# Solution\n",
    "\n",
    "def encode_bit_flip(qc, state, ancillas):\n",
    "    control = state\n",
    "    for ancilla in ancillas:\n",
    "        qc.cx(control, ancilla)\n",
    "    qc.barrier(state, *ancillas)\n",
    "    return qc\n",
    "\n",
    "qc_encode_bit = build_qc()\n",
    "\n",
    "encode_bit_flip(qc_encode_bit, state_data, ancillas_data)\n",
    "\n",
    "qc_encode_bit.draw(output=\"mpl\")"
   ]
  },
  {
   "cell_type": "markdown",
   "id": "6df43ed0",
   "metadata": {
    "slideshow": {
     "slide_type": "subslide"
    }
   },
   "source": [
    "### Prepare a decoding circuit\n",
    "To readout our final state we must map it back from the codespace to a single qubit.\n",
    "For our code this is simply $U_{de} = U_{en}^\\dagger$.\n",
    "\n",
    "This will be used to map our state out of the codespace\n",
    "$$|\\tilde{\\Psi_1}\\rangle \\rightarrow |\\Psi_1\\rangle$$"
   ]
  },
  {
   "cell_type": "code",
   "execution_count": null,
   "id": "24efdb11",
   "metadata": {
    "slideshow": {
     "slide_type": "-"
    }
   },
   "outputs": [],
   "source": [
    "# Exercise\n",
    "\n",
    "# Complete the routine below to decode from the bit-flip codespace\n",
    "def decode_bit_flip(qc, state, ancillas):\n",
    "    #complete\n",
    "    \n",
    "    return qc\n",
    "\n",
    "qc_decode_bit = build_qc()\n",
    "\n",
    "qc_decode_bit = decode_bit_flip(qc_decode_bit, state_data, ancillas_data)\n",
    "\n",
    "qc_decode_bit.draw(output=\"mpl\")"
   ]
  },
  {
   "cell_type": "code",
   "execution_count": null,
   "id": "762fcd54",
   "metadata": {
    "slideshow": {
     "slide_type": "skip"
    }
   },
   "outputs": [],
   "source": [
    "# Solution\n",
    "\n",
    "def decode_bit_flip(qc, state, ancillas):\n",
    "    inv = qc_encode_bit.inverse()\n",
    "    return qc.compose(inv)\n",
    "\n",
    "qc_decode_bit = build_qc()\n",
    "\n",
    "qc_decode_bit = decode_bit_flip(qc_decode_bit, state_data, ancillas_data)\n",
    "\n",
    "qc_decode_bit.draw(output=\"mpl\")"
   ]
  },
  {
   "cell_type": "markdown",
   "id": "39f8a76d",
   "metadata": {
    "slideshow": {
     "slide_type": "subslide"
    }
   },
   "source": [
    "### A circuit that prepares our encoded state $|\\tilde{\\Psi}_1\\rangle$\n",
    "\n",
    "Below we see how we can combine the state preparation and encoding steps\n",
    "to encode our state in the bit-flip code."
   ]
  },
  {
   "cell_type": "code",
   "execution_count": null,
   "id": "f93248f4",
   "metadata": {
    "slideshow": {
     "slide_type": "skip"
    }
   },
   "outputs": [],
   "source": [
    "qc_encoded_state_bit = qc_init.compose(qc_encode_bit)\n",
    "qc_encoded_state_bit.draw(output=\"mpl\")"
   ]
  },
  {
   "cell_type": "markdown",
   "id": "d4de93cd",
   "metadata": {
    "slideshow": {
     "slide_type": "subslide"
    }
   },
   "source": [
    "### Measuring the syndome\n",
    "\n"
   ]
  },
  {
   "cell_type": "markdown",
   "id": "f3d95b06",
   "metadata": {
    "slideshow": {
     "slide_type": "-"
    }
   },
   "source": [
    "However if we consider the action of bit-flip error $X$ which maps $|0\\rangle \\rightarrow |1\\rangle$ and $|1\\rangle -> |0\\rangle$ on any of our qubits we have $\\epsilon = \\{E_0, E_1, E_2 \\} = \\{IIX, IXI, XII\\}$ \n"
   ]
  },
  {
   "cell_type": "markdown",
   "id": "7d6982ac",
   "metadata": {
    "slideshow": {
     "slide_type": "-"
    }
   },
   "source": [
    "The circuit below measures the stabilizer $IZZ$ onto `creg_measure[0]` and $ZIZ$ onto `creg_measure[1]`. This effectively measures the parity of the two respective qubits in each stabilizer. \n",
    "\n",
    "- If we observe `IZZ= -1` an error ocurred on qubit 0 or 1\n",
    "- If we observe `ZIZ= -1` an error ocurred on qubit 0 or 2\n",
    "\n",
    "One important detail to note in the circuit below is that we *reset* our ancilla qubits after measuring the stabilizer. This is done so that we may reuse them for repeated stabilizer measurements. Also note we are making\n",
    "use of the fact that we have already observed the state of the qubit and writing the conditional reset protocol\n",
    "directly to avoid another round of qubit measurement if we used the `reset` instruction.\n",
    "\n",
    "The circuit below will measure our Stabilizers generating a syndrome. We assume it is applied after some error channel $\\Omega$ which takes $\\Omega(|\\tilde{\\Psi_1}\\rangle \\langle\\tilde{\\Psi_1}|) = |\\tilde{\\Psi_2}\\rangle \\langle\\tilde{\\Psi_2}|$.\n",
    "$$\\langle \\tilde{\\Psi}_2|g_0\\cdots g_n|\\tilde{\\Psi}_2\\rangle \\rightarrow |\\tilde{\\Psi}_2\\rangle,\\ \\  \\vec{x}$$"
   ]
  },
  {
   "cell_type": "code",
   "execution_count": null,
   "id": "5a6036e6",
   "metadata": {
    "slideshow": {
     "slide_type": "subslide"
    }
   },
   "outputs": [],
   "source": [
    "# Exercise\n",
    "\n",
    "# Complete the syndome measurement routine below\n",
    "def measure_syndrome_bit(qc, qreg_data, qreg_measure, creg_measure):\n",
    "    # Complete\n",
    "    qc.barrier(*qreg_data, *qreg_measure)\n",
    "    return qc\n",
    "\n",
    "qc_syndrome_bit = measure_syndrome_bit(build_qc(), qreg_data, qreg_measure, creg_syndrome)\n",
    "qc_syndrome_bit.draw(output=\"mpl\")    "
   ]
  },
  {
   "cell_type": "code",
   "execution_count": null,
   "id": "745a1c3a",
   "metadata": {
    "slideshow": {
     "slide_type": "skip"
    }
   },
   "outputs": [],
   "source": [
    "# Solution\n",
    "\n",
    "def measure_syndrome_bit(qc, qreg_data, qreg_measure, creg_measure):\n",
    "    def branch_delay():\n",
    "        if sim:\n",
    "            qc.barrier(qreg_data)\n",
    "            qc.delay(block_branch_cycles, qreg_data)\n",
    "            qc.barrier(qreg_data)\n",
    "  \n",
    "    qc.cx(qreg_data[0], qreg_measure[0])\n",
    "    qc.cx(qreg_data[1], qreg_measure[0])\n",
    "    qc.cx(qreg_data[0], qreg_measure[1])\n",
    "    qc.cx(qreg_data[2], qreg_measure[1])\n",
    "    qc.measure(qreg_measure, creg_measure)\n",
    "    branch_delay() # grouped in hardware\n",
    "    qc.x(qreg_measure[0]).c_if(creg_measure[0], 1)\n",
    "    qc.x(qreg_measure[1]).c_if(creg_measure[1], 1)\n",
    "    qc.barrier(*qreg_data, *qreg_measure)\n",
    "    return qc\n",
    "\n",
    "qc_syndrome_bit = measure_syndrome_bit(build_qc(), qreg_data, qreg_measure, creg_syndrome)\n",
    "qc_syndrome_bit.draw(output=\"mpl\")    "
   ]
  },
  {
   "cell_type": "markdown",
   "id": "9a94a548",
   "metadata": {
    "slideshow": {
     "slide_type": "subslide"
    }
   },
   "source": [
    "### Visualize our syndrome measurement"
   ]
  },
  {
   "cell_type": "code",
   "execution_count": null,
   "id": "14de911c",
   "metadata": {
    "slideshow": {
     "slide_type": "-"
    }
   },
   "outputs": [],
   "source": [
    "qc_measure_syndrome_bit = qc_encoded_state_bit.compose(qc_syndrome_bit)\n",
    "qc_measure_syndrome_bit.draw(output=\"mpl\")"
   ]
  },
  {
   "cell_type": "markdown",
   "id": "08fb0e0e",
   "metadata": {
    "slideshow": {
     "slide_type": "subslide"
    }
   },
   "source": [
    "## Decoding and applying our correction sequence\n",
    "\n",
    "Collectively measuring the stabilizers this is enough information to identify where a single X-flip error ocurred.\n",
    "- If we measure `IZZ=-1` and `ZIZ=1` the error ocurred on qubit 1\n",
    "- If we measure `IZZ=1` and `ZIZ=-1` the error ocurred on qubit 2\n",
    "- If we measure `IZZ=-1` and `ZIZ=-1` the error ocurred on qubit 0\n",
    "\n",
    "The circuit below corrects our state in the case of a single bit-flip error $$|\\tilde{\\Psi}_2\\rangle \\rightarrow |\\tilde{\\Psi}_1\\rangle$$ "
   ]
  },
  {
   "cell_type": "code",
   "execution_count": null,
   "id": "dd1b4920",
   "metadata": {
    "slideshow": {
     "slide_type": "-"
    }
   },
   "outputs": [],
   "source": [
    "# Exercise\n",
    "\n",
    "# Complete the routine below to apply our decoding and correction sequence\n",
    "def apply_correction_bit(qc, qreg_data, creg_syndrome):\n",
    "    # Complete\n",
    "    qc.barrier(qreg_data)\n",
    "    return qc\n",
    "    \n",
    "qc_correction_bit = apply_correction_bit(build_qc(), qreg_data, creg_syndrome)\n",
    "qc_correction_bit.draw(output=\"mpl\")"
   ]
  },
  {
   "cell_type": "code",
   "execution_count": null,
   "id": "766344ee",
   "metadata": {
    "slideshow": {
     "slide_type": "skip"
    }
   },
   "outputs": [],
   "source": [
    "# Solution\n",
    "\n",
    "def apply_correction_bit(qc, qreg_data, creg_syndrome):\n",
    "    # If simulating we need to insert a delay to mirror the hardware\n",
    "    def branch_delay():\n",
    "        if sim:\n",
    "            qc.barrier(qreg_data)\n",
    "            qc.delay(block_branch_cycles, qreg_data)\n",
    "            qc.barrier(qreg_data)\n",
    "    \n",
    "    branch_delay()\n",
    "    qc.x(qreg_data[0]).c_if(creg_syndrome, 3)\n",
    "    branch_delay()\n",
    "    qc.x(qreg_data[1]).c_if(creg_syndrome, 1)\n",
    "    branch_delay()\n",
    "    qc.x(qreg_data[2]).c_if(creg_syndrome, 2)\n",
    "    qc.barrier(qreg_data)\n",
    "    return qc\n",
    "    \n",
    "qc_correction_bit = apply_correction_bit(build_qc(), qreg_data, creg_syndrome)\n",
    "qc_correction_bit.draw(output=\"mpl\")"
   ]
  },
  {
   "cell_type": "code",
   "execution_count": null,
   "id": "f023afd0",
   "metadata": {
    "slideshow": {
     "slide_type": "subslide"
    }
   },
   "outputs": [],
   "source": [
    "def apply_final_readout(qc, qreg_data, creg_data):\n",
    "    \"\"\"Apply inverse mapping so that we always try and measure |1> in the computational basis.\n",
    "    \n",
    "    TODO: The above is just a stand in for proper measurement basis measurement\n",
    "    \"\"\"\n",
    "    qc.barrier(qreg_data)\n",
    "    qc.measure(qreg_data, creg_data)\n",
    "    return qc\n",
    "\n",
    "qc_final_measure = apply_final_readout(build_qc(), qreg_data, creg_data)\n",
    "qc_final_measure.draw(output=\"mpl\")"
   ]
  },
  {
   "cell_type": "markdown",
   "id": "1638645b",
   "metadata": {
    "slideshow": {
     "slide_type": "subslide"
    }
   },
   "source": [
    "## Below we see a complete cycle of the bit-flip code\n",
    "We complete putting our building blocks together in the circuit below"
   ]
  },
  {
   "cell_type": "code",
   "execution_count": null,
   "id": "3490abb9",
   "metadata": {
    "slideshow": {
     "slide_type": "-"
    }
   },
   "outputs": [],
   "source": [
    "bit_code_circuit = qc_measure_syndrome_bit.compose(qc_correction_bit).compose(qc_final_measure)\n",
    "bit_code_circuit.draw(output=\"mpl\")"
   ]
  },
  {
   "cell_type": "markdown",
   "id": "ff9bb60f",
   "metadata": {
    "slideshow": {
     "slide_type": "subslide"
    }
   },
   "source": [
    "## Let's create a routine to perform multiple cycles of parity checks\n",
    "The routine below will allow us to easily compose multiple cycles of our code interspersed\n",
    "by the error channels provided in `qc_channels`."
   ]
  },
  {
   "cell_type": "code",
   "execution_count": null,
   "id": "c407cc81",
   "metadata": {
    "slideshow": {
     "slide_type": "-"
    }
   },
   "outputs": [],
   "source": [
    "def build_error_correction_sequence(\n",
    "    qc_base: QuantumCircuit,\n",
    "    qc_init: Optional[QuantumCircuit], \n",
    "    qc_encode: QuantumCircuit, \n",
    "    qc_channels: List[QuantumCircuit],\n",
    "    qc_syndrome: QuantumCircuit,\n",
    "    qc_correct: QuantumCircuit,\n",
    "    qc_decode: Optional[QuantumCircuit] = None,\n",
    "    qc_final: Optional[QuantumCircuit] = None,\n",
    "    name=None,\n",
    ") -> QuantumCircuit:\n",
    "    \"\"\"Build a typical error correction circuit\"\"\"\n",
    "    qc = qc_base\n",
    "    \n",
    "    if qc_init:\n",
    "        qc = qc.compose(\n",
    "            qc_init\n",
    "        )\n",
    "    \n",
    "    qc = qc.compose(\n",
    "            qc_encode\n",
    "        )\n",
    "    if name is not None:\n",
    "        qc.name = name\n",
    "    \n",
    "    if not qc_channels:\n",
    "        qc_channels = [QuantumCircuit(*qc.qregs)]\n",
    "        \n",
    "    for qc_channel in qc_channels:\n",
    "        qc = qc.compose(\n",
    "                qc_channel\n",
    "            ).compose(\n",
    "                qc_syndrome\n",
    "            ).compose(\n",
    "                qc_correct\n",
    "            )\n",
    "    if qc_decode:\n",
    "        qc = qc.compose(qc_decode)\n",
    "    \n",
    "    if qc_final:\n",
    "        qc = qc.compose(qc_final)\n",
    "    \n",
    "    return qc"
   ]
  },
  {
   "cell_type": "markdown",
   "id": "ff90b093",
   "metadata": {
    "slideshow": {
     "slide_type": "subslide"
    }
   },
   "source": [
    "For example"
   ]
  },
  {
   "cell_type": "code",
   "execution_count": null,
   "id": "2dc79074",
   "metadata": {
    "slideshow": {
     "slide_type": "-"
    }
   },
   "outputs": [],
   "source": [
    "bit_code_circuit = build_error_correction_sequence(\n",
    "    build_qc(),\n",
    "    qc_init,\n",
    "    qc_encode_bit,\n",
    "    [],\n",
    "    qc_syndrome_bit,\n",
    "    qc_correction_bit,\n",
    "    None,\n",
    "    qc_final_measure,\n",
    ")\n",
    "bit_code_circuit.draw(output=\"mpl\")"
   ]
  },
  {
   "cell_type": "markdown",
   "id": "c8ea2716",
   "metadata": {
    "slideshow": {
     "slide_type": "subslide"
    }
   },
   "source": [
    "## Running on Hardware\n",
    "\n",
    "We now will choose a qubit layout on the device and transpile our circuit to a realizeable\n",
    "circuit on the device. We will see that due to limited connectivity we will have to perform\n",
    "qubit routing. As not all qubits are created equal it is important to choose good sets of qubits\n",
    "in the hardware."
   ]
  },
  {
   "cell_type": "code",
   "execution_count": null,
   "id": "1c9563f6",
   "metadata": {
    "slideshow": {
     "slide_type": "-"
    }
   },
   "outputs": [],
   "source": [
    "layout_circuit = transpile(bit_code_circuit, backend, optimization_level=3)\n",
    "print(initial_layout := calculate_initial_layout(layout_circuit, False, favourite_qubits))"
   ]
  },
  {
   "cell_type": "code",
   "execution_count": null,
   "id": "67b55eef",
   "metadata": {
    "slideshow": {
     "slide_type": "-"
    }
   },
   "outputs": [],
   "source": [
    "transpiled_bit_code_circuit = apply_transpile(bit_code_circuit, backend, initial_layout=initial_layout)\n",
    "transpiled_bit_code_circuit.draw(output=\"mpl\")"
   ]
  },
  {
   "cell_type": "markdown",
   "id": "e4f569c5",
   "metadata": {
    "slideshow": {
     "slide_type": "subslide"
    }
   },
   "source": [
    "## Execute the circuit in hardware\n",
    "Below we execute the circuit in the hadware and then decode the execution results."
   ]
  },
  {
   "cell_type": "code",
   "execution_count": null,
   "id": "df7421d0",
   "metadata": {
    "slideshow": {
     "slide_type": "-"
    }
   },
   "outputs": [],
   "source": [
    "result = execute(transpiled_bit_code_circuit).result()"
   ]
  },
  {
   "cell_type": "code",
   "execution_count": null,
   "id": "fa59fb42",
   "metadata": {
    "slideshow": {
     "slide_type": "subslide"
    }
   },
   "outputs": [],
   "source": [
    "def decode_result(data_counts, syndrome_counts, verbose=True, indent=0):\n",
    "    shots = sum(data_counts.values())\n",
    "    success_trials = data_counts.get('000', 0) + data_counts.get('111', 0)\n",
    "    failed_trials = shots-success_trials\n",
    "    error_correction_events = shots-syndrome_counts.get('00', 0)\n",
    "    \n",
    "    if verbose:\n",
    "        print(f\"{' ' * indent}Bit flip errors were corrected on {error_correction_events}/{shots} trials\")\n",
    "        print(f\"{' ' * indent}A final parity error was detected on {failed_trials}/{shots} trials\")\n",
    "        print(f\"{' ' * indent}No error was detected on {success_trials}/{shots} trials\")\n",
    "    return error_correction_events, failed_trials\n",
    "\n",
    "data_indices = list(range(len(qreg_data)))\n",
    "syndrome_indices = list(range(data_indices[-1]+1, len(qreg_data) + len(qreg_measure) ))\n",
    "                    \n",
    "marginalized_data_result = marginal_counts(result, data_indices)\n",
    "marginalized_syndrome_result = marginal_counts(result, syndrome_indices)\n",
    "\n",
    "print(f'Completed bit code experiment data measurement counts {marginalized_data_result.get_counts(0)}')\n",
    "print(f'Completed bit code experiment syndrome measurement counts {marginalized_syndrome_result.get_counts(0)}')\n",
    "decode_result(marginalized_data_result.get_counts(0), marginalized_syndrome_result.get_counts(0));"
   ]
  },
  {
   "cell_type": "markdown",
   "id": "7fc2a2f4",
   "metadata": {
    "slideshow": {
     "slide_type": "subslide"
    }
   },
   "source": [
    "## Let's emulate a random error source\n",
    "Here we will use some more control flow to insert a random bit-flip error by using an ancilla qubit as a source of random bit flips and then look at the performance of our code."
   ]
  },
  {
   "cell_type": "code",
   "execution_count": null,
   "id": "80610f15",
   "metadata": {
    "slideshow": {
     "slide_type": "-"
    }
   },
   "outputs": [],
   "source": [
    "from qiskit.circuit.library import IGate, XGate, ZGate\n",
    "\n",
    "qreg_error_ancilla = QuantumRegister(1)\n",
    "creg_error_ancilla = ClassicalRegister(1)\n",
    "\n",
    "def build_random_error_channel(gate, ancilla, creg_ancilla, error_qubit):\n",
    "    \"\"\"Build an error channel that randomly applies a single-qubit gate based on an ancilla qubit measurement result\"\"\"\n",
    "    qc = build_qc()\n",
    "    qc.add_register(qreg_error_ancilla)\n",
    "    qc.add_register(creg_error_ancilla)\n",
    "    qc.barrier(ancilla, error_qubit.register)\n",
    "    # 50-50 chance of applying a bit-flip\n",
    "    qc.h(ancilla)\n",
    "    qc.measure(ancilla, creg_ancilla)\n",
    "    qc.append(gate, [error_qubit]).c_if(creg_ancilla, 1)\n",
    "    qc.barrier(ancilla, error_qubit.register)\n",
    "    return qc\n",
    "\n",
    "qc_id_error_channel = build_random_error_channel(IGate(), qreg_error_ancilla, creg_error_ancilla, qreg_data[0])\n",
    "print(\"Identity error channel\")\n",
    "print(qc_id_error_channel.draw(idle_wires=False))\n",
    "\n",
    "qc_bit_flip_error_channel = build_random_error_channel(XGate(), qreg_error_ancilla, creg_error_ancilla, qreg_data[0])\n",
    "print(\"Bit flip error channel\")\n",
    "print(qc_bit_flip_error_channel.draw(idle_wires=False))\n",
    "\n",
    "qc_phase_flip_error_channel = build_random_error_channel(ZGate(), qreg_error_ancilla, creg_error_ancilla, qreg_data[0])\n",
    "print(\"Phase flip error channel\")\n",
    "print(qc_phase_flip_error_channel.draw(idle_wires=False))"
   ]
  },
  {
   "cell_type": "markdown",
   "id": "28b1be04",
   "metadata": {
    "slideshow": {
     "slide_type": "subslide"
    }
   },
   "source": [
    "## Let us now add our error channel in between our syndrome measurement and decode/correct phase to emulate a source of error"
   ]
  },
  {
   "cell_type": "code",
   "execution_count": null,
   "id": "6b2a400f",
   "metadata": {
    "slideshow": {
     "slide_type": "-"
    }
   },
   "outputs": [],
   "source": [
    "def build_error_channel_base():\n",
    "    qc = build_qc()\n",
    "    qc.add_register(qreg_error_ancilla)\n",
    "    qc.add_register(creg_error_ancilla)\n",
    "    return qc\n",
    "\n",
    "qc_id_error_bit_flip_code = build_error_correction_sequence(\n",
    "    build_error_channel_base(),\n",
    "    qc_init,\n",
    "    qc_encode_bit,\n",
    "    [qc_id_error_channel],\n",
    "    qc_syndrome_bit,\n",
    "    qc_correction_bit,\n",
    "    None,\n",
    "    qc_final_measure,\n",
    "    \"Identity error channel\"\n",
    ")\n",
    "\n",
    "qc_bit_flip_error_bit_flip_code = build_error_correction_sequence(\n",
    "    build_error_channel_base(),\n",
    "    qc_init,\n",
    "    qc_encode_bit,\n",
    "    [qc_bit_flip_error_channel],\n",
    "    qc_syndrome_bit,\n",
    "    qc_correction_bit,\n",
    "    None,\n",
    "    qc_final_measure,\n",
    "    \"Bit flip error channel\"\n",
    ")\n",
    "\n",
    "qc_phase_flip_error_bit_flip_code = build_error_correction_sequence(\n",
    "    build_error_channel_base(),\n",
    "    qc_init,\n",
    "    qc_encode_bit,\n",
    "    [qc_phase_flip_error_channel],\n",
    "    qc_syndrome_bit,\n",
    "    qc_correction_bit,\n",
    "    None,\n",
    "    qc_final_measure,\n",
    "    \"Phase flip error channel\"\n",
    ")\n",
    "\n",
    "circuits_error_channels_bit_flip_code = [qc_id_error_bit_flip_code, qc_bit_flip_error_bit_flip_code, qc_phase_flip_error_bit_flip_code]\n",
    "\n",
    "qc_bit_flip_error_bit_flip_code.draw(output=\"mpl\")"
   ]
  },
  {
   "cell_type": "markdown",
   "id": "2897ddab",
   "metadata": {
    "slideshow": {
     "slide_type": "subslide"
    }
   },
   "source": [
    "## Execute the circuits"
   ]
  },
  {
   "cell_type": "code",
   "execution_count": null,
   "id": "ebb5e26a",
   "metadata": {
    "slideshow": {
     "slide_type": "-"
    }
   },
   "outputs": [],
   "source": [
    "# We need to add an extra ancilla qubit to our layout\n",
    "# It doesn't matter which qubit for the must part as we are using as a\n",
    "# source of random information\n",
    "error_channel_layout = error_channel_layout = initial_layout + list(set(range(circuits_error_channels_bit_flip_code[0].num_qubits)) - set(initial_layout))[:1]\n",
    "\n",
    "transpiled_circuits_error_channels_bit_flip_code = apply_transpile(circuits_error_channels_bit_flip_code, backend, initial_layout=error_channel_layout)\n",
    "result_error_channels_bit_flip_code = execute(transpiled_circuits_error_channels_bit_flip_code).result()"
   ]
  },
  {
   "cell_type": "code",
   "execution_count": null,
   "id": "95253148",
   "metadata": {
    "slideshow": {
     "slide_type": "skip"
    }
   },
   "outputs": [],
   "source": [
    "from qiskit.quantum_info.analysis import hellinger_fidelity\n",
    "\n",
    "def decode_error_channel_result(qc_init, data_counts, syndrome_counts, verbose=True, indent=0):\n",
    "    shots = sum(data_counts.values())\n",
    "    logical_zero = data_counts.get('000', 0)\n",
    "    logical_one = data_counts.get('111', 0)\n",
    "    success_trials = logical_zero + logical_one\n",
    "    failed_trials = shots-success_trials\n",
    "    logical_counts = {\"0\": logical_zero, \"1\": logical_one}\n",
    "    \n",
    "    \n",
    "    ideal_transpiled = apply_transpile(qc_init_outcome, backend, initial_layout)\n",
    "    counts_ideal = marginal_counts(ideal_sim.run(ideal_transpiled, shots=success_trials).result().get_counts(0), indices=[0])\n",
    "    \n",
    "    fidelity = hellinger_fidelity(counts_ideal, logical_counts)\n",
    "    \n",
    "    error_correction_events = shots-syndrome_counts.get('00', 0)\n",
    "    \n",
    "    if verbose:\n",
    "        print(f\"{' ' * indent}Bit flip errors were corrected on {error_correction_events}/{shots} trials\")\n",
    "        print(f\"{' ' * indent}A final parity error was detected on {failed_trials}/{shots} trials\")\n",
    "        print(f\"{' ' * indent}For the successful trials the Hellinger fidelity is {fidelity}\")\n",
    "    return error_correction_events, failed_trials"
   ]
  },
  {
   "cell_type": "markdown",
   "id": "e472c098",
   "metadata": {
    "slideshow": {
     "slide_type": "subslide"
    }
   },
   "source": [
    "## We see that we correct the majority of the bit flip errors introduced\n",
    "Question: Why does the phase-flip error not create errors in the final outcome?"
   ]
  },
  {
   "cell_type": "code",
   "execution_count": null,
   "id": "597898b1",
   "metadata": {
    "slideshow": {
     "slide_type": "-"
    }
   },
   "outputs": [],
   "source": [
    "qc_init_outcome = qc_init.copy()\n",
    "qc_init_outcome.measure(qreg_data[0], 0)\n",
    "\n",
    "qreg_indices = list(range(len(qreg_data)))\n",
    "data_indices = qreg_indices[:1]\n",
    "syndrome_indices = list(range(qreg_indices[-1]+1, len(qreg_data) + len(qreg_measure) ))\n",
    "\n",
    "result_decoded_data_qubit_marginal_err_ch = marginal_counts(result_error_channels_bit_flip_code, data_indices)\n",
    "result_data_marginal_err_ch = marginal_counts(result_error_channels_bit_flip_code, qreg_indices)\n",
    "result_syndrome_marginal_err_ch = marginal_counts(result_error_channels_bit_flip_code, syndrome_indices)\n",
    "\n",
    "for i, qc in enumerate(transpiled_circuits_error_channels_bit_flip_code):\n",
    "    print(f\"For {qc.name} with bit flip code\")\n",
    "    print(f'    Completed bit code experiment decoded data qubit measurement counts {result_decoded_data_qubit_marginal_err_ch.get_counts(i)}')\n",
    "    print(f'    Completed bit code experiment data qubits measurement counts {result_data_marginal_err_ch.get_counts(i)}')\n",
    "    print(f'    Completed bit code experiment syndrome measurement counts {result_data_marginal_err_ch.get_counts(i)}')\n",
    "    decode_error_channel_result(qc_init_outcome, result_data_marginal_err_ch.get_counts(i), result_syndrome_marginal_err_ch.get_counts(i), indent=4);\n",
    "    print(\"\")"
   ]
  },
  {
   "cell_type": "markdown",
   "id": "f217f36f",
   "metadata": {
    "slideshow": {
     "slide_type": "slide"
    }
   },
   "source": [
    "# Exercises\n",
    "Now we will complete several exercises that build on the code above.\n",
    "\n",
    "We will aim to evaluate the bit-flip code."
   ]
  },
  {
   "cell_type": "markdown",
   "id": "e9c34461",
   "metadata": {
    "slideshow": {
     "slide_type": "slide"
    }
   },
   "source": [
    "## Exercise #1 - Compare our bit-flip code with a code that applies the \"identity\" correction\n",
    "\n",
    "Complete the method below ``apply_no_correction_bit`` to create a decoding sequence\n",
    "that *does not* correct the error but rather performs conditional identity operations"
   ]
  },
  {
   "cell_type": "code",
   "execution_count": null,
   "id": "636496e8",
   "metadata": {
    "slideshow": {
     "slide_type": "-"
    }
   },
   "outputs": [],
   "source": [
    "# Exercise\n",
    "\n",
    "# Complete the routine below to apply an \"identity\" correction rather than\n",
    "# the standard bit-flip correction sequence\n",
    "def apply_no_correction_bit(qc, qreg_data, creg_syndrome):\n",
    "    \"\"\"Complete the method below to apply an \"identity correction\"\n",
    "    \n",
    "    Make sure to still apply the conditional gates so that the comparison to the bit-flip\n",
    "    code is faithful.\n",
    "    \"\"\"\n",
    "    # Complete\n",
    "    qc.barrier(qreg_data)\n",
    "    return qc\n",
    "\n",
    "    \n",
    "qc_no_correction_bit = apply_no_correction_bit(build_qc(), qreg_data, creg_syndrome)\n",
    "qc_no_correction_bit.draw(output=\"mpl\")"
   ]
  },
  {
   "cell_type": "code",
   "execution_count": null,
   "id": "9a7eb6b6",
   "metadata": {
    "slideshow": {
     "slide_type": "skip"
    }
   },
   "outputs": [],
   "source": [
    "# Solution\n",
    "\n",
    "def apply_no_correction_bit(qc, qreg_data, creg_syndrome):\n",
    "    \"\"\"Complete the method below to apply an \"identity correction\"\n",
    "    \n",
    "    Make sure to still apply the conditional gates so that the comparison to the bit-flip\n",
    "    code is faithful.\n",
    "    \"\"\"\n",
    "    # If simulating we should insert a delay to mirror the hardware\n",
    "    def branch_delay():\n",
    "        if sim:\n",
    "            qc.barrier(qreg_data)\n",
    "            qc.delay(block_branch_cycles, qreg_data)\n",
    "            qc.barrier(qreg_data)\n",
    "    branch_delay()\n",
    "    qc.id(qreg_data[0]).c_if(creg_syndrome, 3)\n",
    "    branch_delay()\n",
    "    qc.id(qreg_data[1]).c_if(creg_syndrome, 1)\n",
    "    branch_delay()\n",
    "    qc.id(qreg_data[2]).c_if(creg_syndrome, 2)\n",
    "    qc.barrier(qreg_data)\n",
    "    return qc\n",
    "\n",
    "    \n",
    "qc_no_correction_bit = apply_no_correction_bit(build_qc(), qreg_data, creg_syndrome)\n",
    "qc_no_correction_bit.draw(output=\"mpl\")"
   ]
  },
  {
   "cell_type": "markdown",
   "id": "e288f734",
   "metadata": {
    "slideshow": {
     "slide_type": "subslide"
    }
   },
   "source": [
    "Complete the methods below similar to `qc_id_error_bit_flip_code` above\n",
    "to implement circuits that *do not* correct the bit flip errors, using your routine above."
   ]
  },
  {
   "cell_type": "code",
   "execution_count": null,
   "id": "bf9fd331",
   "metadata": {
    "slideshow": {
     "slide_type": "-"
    }
   },
   "outputs": [],
   "source": [
    "# Exercise\n",
    "\n",
    "# Complete the sequence using `build_error_correction_sequence` to evaluate the\n",
    "# performance of the identity correction sequence\n",
    "\n",
    "# Complete the following routines\n",
    "qc_id_error_no_correct = QuantumCircuit() # build_error_correction_sequence(...)\n",
    "qc_bit_flip_error_no_correct = QuantumCircuit() # build_error_correction_sequence(...)\n",
    "qc_phase_flip_error_no_correct = QuantumCircuit() # build_error_correction_sequence(...)\n",
    "\n",
    "\n",
    "circuits_error_channels_no_correct = [qc_id_error_no_correct, qc_bit_flip_error_no_correct, qc_phase_flip_error_no_correct]\n",
    "\n",
    "qc_id_error_no_correct.draw(output=\"mpl\")"
   ]
  },
  {
   "cell_type": "code",
   "execution_count": null,
   "id": "84b8fdb3",
   "metadata": {
    "slideshow": {
     "slide_type": "skip"
    }
   },
   "outputs": [],
   "source": [
    "# Solution\n",
    "\n",
    "qc_id_error_no_correct = build_error_correction_sequence(\n",
    "    build_error_channel_base(),\n",
    "    qc_init,\n",
    "    qc_encode_bit,\n",
    "    [qc_id_error_channel],\n",
    "    qc_syndrome_bit,\n",
    "    qc_no_correction_bit,\n",
    "    None,\n",
    "    qc_final_measure,\n",
    "    \"Identity error channel\"\n",
    ")\n",
    "\n",
    "qc_bit_flip_error_no_correct = build_error_correction_sequence(\n",
    "    build_error_channel_base(),\n",
    "    qc_init,\n",
    "    qc_encode_bit,\n",
    "    [qc_bit_flip_error_channel],\n",
    "    qc_syndrome_bit,\n",
    "    qc_no_correction_bit,\n",
    "    None,\n",
    "    qc_final_measure,\n",
    "    \"Bit flip error channel\"\n",
    ")\n",
    "\n",
    "qc_phase_flip_error_no_correct = build_error_correction_sequence(\n",
    "    build_error_channel_base(),\n",
    "    qc_init,\n",
    "    qc_encode_bit,\n",
    "    [qc_phase_flip_error_channel],\n",
    "    qc_syndrome_bit,\n",
    "    qc_no_correction_bit,\n",
    "    None,\n",
    "    qc_final_measure,\n",
    "    \"Phase flip error channel\"\n",
    ")\n",
    "\n",
    "circuits_error_channels_no_correct = [qc_id_error_no_correct, qc_bit_flip_error_no_correct, qc_phase_flip_error_no_correct]\n",
    "\n",
    "qc_id_error_no_correct.draw(output=\"mpl\")"
   ]
  },
  {
   "cell_type": "markdown",
   "id": "64e16a09",
   "metadata": {
    "slideshow": {
     "slide_type": "subslide"
    }
   },
   "source": [
    "Execute the circuits you created that *do not* perform a correction"
   ]
  },
  {
   "cell_type": "code",
   "execution_count": null,
   "id": "61c1f18c",
   "metadata": {
    "slideshow": {
     "slide_type": "-"
    }
   },
   "outputs": [],
   "source": [
    "# We need to add an extra ancilla qubit to our layout\n",
    "# It doesn't matter which qubit for the must part as we are using as a\n",
    "# source of random information\n",
    "error_channel_layout = error_channel_layout = initial_layout + list(set(range(circuits_error_channels_bit_flip_code[0].num_qubits)) - set(initial_layout))[:1]\n",
    "\n",
    "transpiled_circuits_error_channels_no_correct = apply_transpile(circuits_error_channels_no_correct, backend, initial_layout=error_channel_layout)\n",
    "result_error_channels_no_correct = execute(transpiled_circuits_error_channels_no_correct).result()"
   ]
  },
  {
   "cell_type": "markdown",
   "id": "29635263",
   "metadata": {
    "slideshow": {
     "slide_type": "subslide"
    }
   },
   "source": [
    "Analyze how well these circuits performed. Is the result worse than that of the corrected bit-flip code?"
   ]
  },
  {
   "cell_type": "code",
   "execution_count": null,
   "id": "77b347ea",
   "metadata": {
    "slideshow": {
     "slide_type": "-"
    }
   },
   "outputs": [],
   "source": [
    "qc_init_outcome = qc_init.copy()\n",
    "qc_init_outcome.measure(qreg_data[0], 0)\n",
    "\n",
    "qreg_indices = list(range(len(qreg_data)))\n",
    "data_indices = qreg_indices[:1]\n",
    "syndrome_indices = list(range(qreg_indices[-1]+1, len(qreg_data) + len(qreg_measure) ))\n",
    "\n",
    "result_decoded_data_qubit_marginal_no_correct = marginal_counts(result_error_channels_no_correct, data_indices)\n",
    "result_data_marginal_no_correct = marginal_counts(result_error_channels_no_correct, qreg_indices)\n",
    "result_syndrome_marginal_no_correct = marginal_counts(result_error_channels_no_correct, syndrome_indices)\n",
    "\n",
    "for i, qc in enumerate(transpiled_circuits_error_channels_no_correct):\n",
    "    print(f\"For {qc.name} with bit flip code\")\n",
    "    print(f'    Completed bit code experiment decoded data qubit measurement counts {result_decoded_data_qubit_marginal_no_correct.get_counts(i)}')\n",
    "    print(f'    Completed bit code experiment data qubits measurement counts {result_data_marginal_no_correct.get_counts(i)}')\n",
    "    print(f'    Completed bit code experiment syndrome measurement counts {result_data_marginal_no_correct.get_counts(i)}')\n",
    "    decode_error_channel_result(qc_init_outcome, result_data_marginal_no_correct.get_counts(i), result_syndrome_marginal_no_correct.get_counts(i), indent=4);\n",
    "    print(\"\")"
   ]
  },
  {
   "cell_type": "markdown",
   "id": "4243f464",
   "metadata": {
    "slideshow": {
     "slide_type": "slide"
    }
   },
   "source": [
    "## Exercise #2 - Evaluate the performance of multiple stabilizer cycles \n",
    "\n",
    "We will now evaluate multiple cycles of measuring the stabilizer and applying our correction sequence using the routines we have created above. For reference we will create a circuit which prepares our state and *does not*\n",
    "encode it to compare our performance with a raw physical qubit.\n",
    "\n",
    "In this exercise we will plot the performance (Hellinger fidelity) of our bit flip code as a function of the number of stabilizer cycles. "
   ]
  },
  {
   "cell_type": "code",
   "execution_count": null,
   "id": "bdc30117",
   "metadata": {
    "slideshow": {
     "slide_type": "-"
    }
   },
   "outputs": [],
   "source": [
    "def apply_final_readout_invert(qc, qc_init, qreg_data, creg_data):\n",
    "    \"\"\"Apply inverse mapping so that we always try and measure |1> in the computational basis.\"\"\"\n",
    "    qc = qc.compose(qc_init.inverse())\n",
    "    qc.x(qreg_data[0])\n",
    "    qc.barrier(qreg_data)\n",
    "    qc.measure(qreg_data, creg_data)\n",
    "    return qc\n",
    "\n",
    "qc_final_measure_invert = apply_final_readout_invert(build_qc(), qc_init, qreg_data, creg_data)\n",
    "qc_final_measure_invert.draw(output=\"mpl\")"
   ]
  },
  {
   "cell_type": "markdown",
   "id": "ae276a44",
   "metadata": {
    "slideshow": {
     "slide_type": "subslide"
    }
   },
   "source": [
    "For comparison with a \"raw\" physical qubit we include the routine below which builds a circuit that idles instead of encoding and correcting our qubits. You should include this in your sweep."
   ]
  },
  {
   "cell_type": "code",
   "execution_count": null,
   "id": "d2c85e93",
   "metadata": {
    "slideshow": {
     "slide_type": "-"
    }
   },
   "outputs": [],
   "source": [
    "from collections import defaultdict\n",
    "\n",
    "from qiskit.transpiler import PassManager, InstructionDurations\n",
    "from qiskit.transpiler.passes import ASAPSchedule, PadDelay\n",
    "from qiskit_ibm_provider.transpiler.passes.scheduling import DynamicCircuitScheduleAnalysis, PadDelay\n",
    "\n",
    "def get_circuit_duration_(qc: QuantumCircuit) -> int:\n",
    "    \"\"\"Get duration of circuit in hardware cycles.\"\"\"\n",
    "    durations = InstructionDurations.from_backend(backend)\n",
    "    pm = PassManager([DynamicCircuitScheduleAnalysis(durations)])\n",
    "    pm.run(qc)\n",
    "    node_start_times = pm.property_set[\"node_start_time\"]\n",
    "    \n",
    "    block_durations = defaultdict(int)\n",
    "    for inst, (block, t0) in node_start_times.items():\n",
    "        block_durations[block] = max(block_durations[block], t0+inst.op.duration)\n",
    "        \n",
    "    duration = sum(block_durations.values())\n",
    "    \n",
    "    # If we are running on real hardware the delays have not been appended to the\n",
    "    # circuit directly and are instead built into the conditional operations.\n",
    "    # We account for them manually here\n",
    "    if not sim:\n",
    "        duration += block_branch_cycles * (len(block_durations) - 1)\n",
    "    return duration\n",
    "\n",
    "def build_idle_error_correction_sequence(\n",
    "    qc_base: QuantumCircuit,\n",
    "    qc_init: Optional[QuantumCircuit], \n",
    "    qc_encode: QuantumCircuit, \n",
    "    qc_channels: List[QuantumCircuit],\n",
    "    qc_syndrome: QuantumCircuit,\n",
    "    qc_correct: QuantumCircuit,\n",
    "    qc_decode: Optional[QuantumCircuit] = None,\n",
    "    qc_final: Optional[QuantumCircuit] = None,\n",
    "    initial_layout=initial_layout,\n",
    "    name: str = None,\n",
    ") -> QuantumCircuit:\n",
    "    \"\"\"Build a quantum circuit that idles for the period of the input error correction sequence.\"\"\"\n",
    "    qc = qc_base\n",
    "    \n",
    "    if qc_init:\n",
    "        qc = qc.compose(\n",
    "            qc_init\n",
    "        )\n",
    "    if name is not None:\n",
    "        qc.name = name\n",
    "\n",
    "    qc_idle_region = qc_base.copy()\n",
    "    \n",
    "    qc_idle_region.compose(\n",
    "            qc_encode\n",
    "        )\n",
    "  \n",
    "    if not qc_channels:\n",
    "        qc_channels = [QuantumCircuit(*qc.qregs)]\n",
    "        \n",
    "    for qc_channel in qc_channels:\n",
    "        qc_idle_region = qc_idle_region.compose(\n",
    "                qc_channel\n",
    "            ).compose(\n",
    "                qc_syndrome\n",
    "            ).compose(\n",
    "                qc_correct\n",
    "            )\n",
    "    \n",
    "    if qc_decode:\n",
    "        qc_idle_region = qc_idle_region.compose(qc_decode)\n",
    "    \n",
    "    qc_idle_transpiled = apply_transpile(qc_idle_region, backend, initial_layout=initial_layout, scheduling_method=None)\n",
    "    idle_duration = get_circuit_duration_(qc_idle_transpiled)\n",
    "    \n",
    "    qc_idle = qc_base.copy()\n",
    "    qc_idle.barrier()\n",
    "    for qubit in qc_idle.qubits:\n",
    "        qc_idle.delay(idle_duration, qubit, unit=\"dt\")\n",
    "    qc_idle.barrier()\n",
    "    qc = qc.compose(qc_idle)\n",
    "    \n",
    "    if qc_final:\n",
    "        qc = qc.compose(qc_final_measure)\n",
    "    \n",
    "    return qc"
   ]
  },
  {
   "cell_type": "markdown",
   "id": "5aeaa9af",
   "metadata": {
    "slideshow": {
     "slide_type": "slide"
    }
   },
   "source": [
    "## Exercise #3 - Evaluate the performance of an \"identity\" correction sequence\n",
    "\n",
    "For reference we will now evaluate the performance of an identity correction sequence.\n",
    "\n",
    "That is to say where we apply our correction only with conditional `id` gates."
   ]
  },
  {
   "cell_type": "markdown",
   "id": "1b38b319",
   "metadata": {
    "slideshow": {
     "slide_type": "-"
    }
   },
   "source": [
    "### 3a. Complete the routine below to create an \"idle\" error channel"
   ]
  },
  {
   "cell_type": "code",
   "execution_count": null,
   "id": "bd00dfc1",
   "metadata": {
    "slideshow": {
     "slide_type": "-"
    }
   },
   "outputs": [],
   "source": [
    "# Exercise\n",
    "\n",
    "def build_idle_error_channel(time_in_seconds, qreg):\n",
    "    idle_cycles = convert_cycles(time_in_seconds, backend)\n",
    "    qc_idle = build_qc()\n",
    "    # Complete\n",
    "    qc_idle.barrier()\n",
    "    return qc_idle"
   ]
  },
  {
   "cell_type": "code",
   "execution_count": null,
   "id": "fdf7130d",
   "metadata": {
    "slideshow": {
     "slide_type": "skip"
    }
   },
   "outputs": [],
   "source": [
    "# Solution\n",
    "\n",
    "def build_idle_error_channel(time_in_seconds, qreg):\n",
    "    idle_cycles = convert_cycles(time_in_seconds, backend)\n",
    "    qc_idle = build_qc()\n",
    "    qc_idle.delay(idle_cycles, qreg, \"dt\")\n",
    "    qc_idle.barrier()\n",
    "    return qc_idle"
   ]
  },
  {
   "cell_type": "markdown",
   "id": "8ebcb129",
   "metadata": {
    "slideshow": {
     "slide_type": "subslide"
    }
   },
   "source": [
    "### 3b. Complete the routine below to perform a sweep of our bit-flip, no-correction, and idle circuits for a number of iterations.\n",
    "\n",
    "*hint*: Make sure to use the routines `build_error_correction_sequence` and `build_idle_error_correction_sequence`."
   ]
  },
  {
   "cell_type": "code",
   "execution_count": null,
   "id": "9f8e2386",
   "metadata": {
    "slideshow": {
     "slide_type": "-"
    }
   },
   "outputs": [],
   "source": [
    "# Exercise\n",
    "\n",
    "num_rounds = 5\n",
    "\n",
    "# Idle for a specified period in seconds\n",
    "# This is how we build an idle error channel\n",
    "idle_period = 5e-6\n",
    "\n",
    "# Use the circuit we created above\n",
    "qc_idle = build_idle_error_channel(idle_period, qreg_data)\n",
    "\n",
    "\n",
    "qcs_corr_bit = []\n",
    "qcs_no_corr_bit = []\n",
    "qcs_idle_equiv_bit = []\n",
    "for round_ in range(num_rounds):\n",
    "    qc_error_channels = [qc_idle] * (round_ + 1)\n",
    "    \n",
    "    # Complete bit flip code iteration\n",
    "    qcs_corr_bit.append(QuantumCircuit())\n",
    "    # Complete no correction bit flip code iteration\n",
    "    qcs_no_corr_bit.append(QuantumCircuit())\n",
    "    # Complete idle equivalent bit flip code iteration\n",
    "    qcs_idle_equiv_bit.append(QuantumCircuit())\n",
    "\n"
   ]
  },
  {
   "cell_type": "code",
   "execution_count": null,
   "id": "928ee1f4",
   "metadata": {
    "slideshow": {
     "slide_type": "skip"
    }
   },
   "outputs": [],
   "source": [
    "# Solution\n",
    "\n",
    "num_rounds = 5\n",
    "\n",
    "# Idle for a specified period in seconds\n",
    "# This is how we build an idle error channel\n",
    "idle_period = 5e-6\n",
    "\n",
    "# Use the circuit we created above\n",
    "qc_idle = build_idle_error_channel(idle_period, qreg_data)\n",
    "\n",
    "\n",
    "qcs_corr_bit = []\n",
    "qcs_no_corr_bit = []\n",
    "qcs_idle_equiv_bit = []\n",
    "for round_ in range(num_rounds):\n",
    "    qc_error_channels = [qc_idle] * (round_ + 1)\n",
    "    \n",
    "    #qcs_corr_bit.append(QuantumCircuit())\n",
    "\n",
    "    qcs_corr_bit.append(\n",
    "        build_error_correction_sequence(\n",
    "            build_qc(),\n",
    "            qc_init,\n",
    "            qc_encode_bit,\n",
    "            qc_error_channels,\n",
    "            qc_syndrome_bit,\n",
    "            qc_correction_bit,\n",
    "            qc_decode_bit,\n",
    "            qc_final_measure_invert,\n",
    "            f\"With Correction {round_}\"\n",
    "        )\n",
    "    )\n",
    "    #qcs_no_corr_bit.append(QuantumCircuit())\n",
    "    qcs_no_corr_bit.append(\n",
    "        build_error_correction_sequence(\n",
    "            build_qc(),\n",
    "            qc_init,\n",
    "            qc_encode_bit,\n",
    "            qc_error_channels,\n",
    "            qc_syndrome_bit,\n",
    "            qc_no_correction_bit,\n",
    "            qc_decode_bit,\n",
    "            qc_final_measure_invert,\n",
    "            name=f\"Without Correction {round_}\"\n",
    "        )\n",
    "    )\n",
    "    \n",
    "    #qcs_idle_equiv_bit.append(QuantumCircuit())\n",
    "    qcs_idle_equiv_bit.append(\n",
    "        build_idle_error_correction_sequence(\n",
    "            build_qc(),\n",
    "            qc_init,\n",
    "            qc_encode_bit,\n",
    "            qc_error_channels,\n",
    "            qc_syndrome_bit,\n",
    "            qc_correction_bit,\n",
    "            qc_decode_bit,\n",
    "            qc_final_measure_invert,\n",
    "            initial_layout=initial_layout,\n",
    "            name=f\"Idle {round_}\"\n",
    "        )\n",
    "    )\n"
   ]
  },
  {
   "cell_type": "markdown",
   "id": "ba514052",
   "metadata": {
    "slideshow": {
     "slide_type": "subslide"
    }
   },
   "source": [
    "Below we execute and plot the circuit we constructed."
   ]
  },
  {
   "cell_type": "code",
   "execution_count": null,
   "id": "2ae11748",
   "metadata": {
    "slideshow": {
     "slide_type": "-"
    }
   },
   "outputs": [],
   "source": [
    "qcs_corr_bit[0].draw(output=\"mpl\", idle_wires=False)"
   ]
  },
  {
   "cell_type": "code",
   "execution_count": null,
   "id": "3d45ad06",
   "metadata": {
    "slideshow": {
     "slide_type": "subslide"
    }
   },
   "outputs": [],
   "source": [
    "transpiled_qcs_corr_bit = apply_transpile(qcs_corr_bit, backend, initial_layout=initial_layout)\n",
    "job_qcs_corr_bit = execute(transpiled_qcs_corr_bit)\n",
    "\n",
    "transpiled_qcs_no_corr_bit = apply_transpile(qcs_no_corr_bit, backend, initial_layout=initial_layout)\n",
    "job_qcs_no_corr_bit = execute(transpiled_qcs_no_corr_bit)\n",
    "\n",
    "transpiled_qcs_idle_equiv_bit = apply_transpile(qcs_idle_equiv_bit, backend, initial_layout=initial_layout, dynamical_decoupling=True)\n",
    "job_qcs_idle_equiv_bit = execute(transpiled_qcs_idle_equiv_bit)\n",
    "\n",
    "result_qcs_corr_bit = job_qcs_corr_bit.result()\n",
    "result_qcs_no_corr_bit = job_qcs_no_corr_bit.result()\n",
    "result_qcs_idle_equiv_bit = job_qcs_idle_equiv_bit.result()"
   ]
  },
  {
   "cell_type": "code",
   "execution_count": null,
   "id": "51e1f34e",
   "metadata": {
    "slideshow": {
     "slide_type": "subslide"
    }
   },
   "outputs": [],
   "source": [
    "transpiled_qcs_idle_equiv_bit[-1].draw(output=\"mpl\")"
   ]
  },
  {
   "cell_type": "code",
   "execution_count": null,
   "id": "f4857f3d",
   "metadata": {
    "slideshow": {
     "slide_type": "subslide"
    }
   },
   "outputs": [],
   "source": [
    "from qiskit.quantum_info.analysis import hellinger_fidelity\n",
    "\n",
    "qc_init_outcome = qc_init.copy()\n",
    "qc_init_outcome = qc_init_outcome.compose(qc_final_measure)\n",
    "result_ideal = ideal_sim.run(apply_transpile(qc_init_outcome, backend, initial_layout)).result()\n",
    "\n",
    "def calculate_hellinger_fidelity(result_ideal, result_experiment, data_qubit=0):\n",
    "    result_ideal = marginal_counts(result_ideal, indices=[data_qubit])\n",
    "    result_experiment = marginal_counts(result_experiment, indices=[data_qubit])\n",
    "    \n",
    "    counts_ideal = result_ideal.get_counts(0)\n",
    "\n",
    "    hellinger_fidelities = []\n",
    "    for circuit_idx in range(len(result_experiment.results)):\n",
    "        hellinger_fidelities.append(hellinger_fidelity(counts_ideal, result_experiment.get_counts(circuit_idx)))\n",
    "\n",
    "    return hellinger_fidelities"
   ]
  },
  {
   "cell_type": "markdown",
   "id": "bdb2916c",
   "metadata": {
    "slideshow": {
     "slide_type": "subslide"
    }
   },
   "source": [
    "### 3c. Use the routuine `calculate_hellinger_fidelity` above to extract the Hellinger fidelity for our sweeps"
   ]
  },
  {
   "cell_type": "code",
   "execution_count": null,
   "id": "3f4dab6d",
   "metadata": {
    "slideshow": {
     "slide_type": "-"
    }
   },
   "outputs": [],
   "source": [
    "# Evaluate the Hellinger fidelity using the routine above\n",
    "fidelities_corr_bit = 0.\n",
    "fidelities_no_corr_bit = 0.\n",
    "fidelities_idle_equiv_bit = 0."
   ]
  },
  {
   "cell_type": "code",
   "execution_count": null,
   "id": "098c41d2",
   "metadata": {
    "slideshow": {
     "slide_type": "skip"
    }
   },
   "outputs": [],
   "source": [
    "fidelities_corr_bit = calculate_hellinger_fidelity(result_ideal, result_qcs_corr_bit)\n",
    "fidelities_no_corr_bit = calculate_hellinger_fidelity(result_ideal, result_qcs_no_corr_bit)\n",
    "fidelities_idle_equiv_bit = calculate_hellinger_fidelity(result_ideal, result_qcs_idle_equiv_bit)"
   ]
  },
  {
   "cell_type": "markdown",
   "id": "e4545afb",
   "metadata": {
    "slideshow": {
     "slide_type": "subslide"
    }
   },
   "source": [
    "Below we plot the performance of our error correcting code as a function of the number of iterations."
   ]
  },
  {
   "cell_type": "code",
   "execution_count": null,
   "id": "a043a1d6",
   "metadata": {
    "slideshow": {
     "slide_type": "-"
    }
   },
   "outputs": [],
   "source": [
    "import matplotlib.pyplot as plt\n",
    "plt.rcParams[\"figure.figsize\"] = (12, 6)\n",
    "\n",
    "iters = range(1, num_rounds+1)\n",
    "plt.plot(iters, fidelities_corr_bit, label=\"Bit flip code - correction\")\n",
    "plt.plot(iters, fidelities_no_corr_bit, label=\"Bit flip code - no correction\")\n",
    "plt.plot(iters, fidelities_idle_equiv_bit, label=\"Idle equivalent circuit\")\n",
    "plt.ylabel(\"Hellinger Fidelity\")\n",
    "plt.xlabel(\"Correction cycles\")\n",
    "plt.xticks(iters)\n",
    "plt.suptitle(\"Comparing the performance of error-correction strategies for multiple correction cycles\")\n",
    "plt.title(f\"Idle period: {idle_period*1e6}us - Qubit layout: {initial_layout} - Dynamical decoupling: {dynamical_decoupling}\")\n",
    "plt.legend(loc=\"upper right\")"
   ]
  },
  {
   "cell_type": "markdown",
   "id": "9828fd07",
   "metadata": {
    "slideshow": {
     "slide_type": "slide"
    }
   },
   "source": [
    "## Exercise #4 - Evaluate the performance of protecting different input states\n",
    "\n",
    "Thus far we have only been preparing the state $|001\\rangle$ and encoding it as $|111\\rangle$.\n",
    "What we *actually* care about is the average quality of protecting *any* input state.\n",
    "Rerun your analysis code above but instead of initializing with the `|1>` state,\n",
    "select a different state.\n",
    "\n",
    "**Note**: Make sure to save your results before overwriting them. Either save your plots or create a copy of this notebook.\n",
    "\n",
    "- How do other states perform? \n",
    "- Does the quality improve or get worse?\n",
    "- Why might we expect the `|1>` to perform the best?\n",
    "- What sorts of noise might be affecting the qubits?"
   ]
  },
  {
   "cell_type": "markdown",
   "id": "009a9f3b",
   "metadata": {
    "slideshow": {
     "slide_type": "slide"
    }
   },
   "source": [
    "## Exercise #5 - Rerun with dynamical decoupling enabled\n",
    "\n",
    "Dynamical decoupling is a technique which can decouple a qubit from neighboring\n",
    "quantum systems during its evolution [0](https://arxiv.org/abs/quant-ph/9803057). \n",
    "Qiskit supports adding dynamical decoupling by identifying idle sequences in which\n",
    "identity sequences (such as $\\tau/4-X-\\tau/2-X-\\tau/4$) may be automatically inserted\n",
    "by a [specialized pass](https://github.com/Qiskit/qiskit-ibm-provider/blob/06490ab5ccfabc1ceae79bc3e8ba3f8bb82296fa/qiskit_ibm_provider/transpiler/passes/scheduling/dynamical_decoupling.py#L32).\n",
    "\n",
    "This notebook already has dynamical decoupling support built-in to `apply_transpile`.\n",
    "To enable it set `dynamical_decoupling=True` and rerun the notebook.\n",
    "\n",
    "\n",
    "**Note**: Make sure to save your results before overwriting them. Either save your plots or create a copy of this notebook.\n",
    "\n",
    "- How does this perform for your state $|1>$? What about other states?\n",
    "- What constraints does dynamical decoupling have that might make it more difficult to implement in dynamic circuits? "
   ]
  },
  {
   "cell_type": "markdown",
   "id": "f76af893",
   "metadata": {},
   "source": [
    "## Exercise #6 [Stretch Goal] [[4,1,2]] circuits"
   ]
  },
  {
   "cell_type": "code",
   "execution_count": null,
   "id": "f485f22c",
   "metadata": {},
   "outputs": [],
   "source": [
    "def build_412(circuit,qubits,parity,layout='zxz') -> QuantumCircuit:\n",
    "    ### qubits\n",
    "    # qubits: list of 7 qubits \n",
    "    # ex. [q[0],q[1],q[2],q[3],q[4],q[5],q[6],q[7]] \n",
    "    #where first 4 are data qubits, 5 and 6 are flags, and 7 is ancilla (see image from heavy-hex paper)\n",
    "    ### parity\n",
    "    # parity is 'x' or 'z'\n",
    "    ### initialized_ancilla = True or False. \n",
    "    # If True, will prepare f1,f2,a1 in correct basis and apply post rotation before measurement \n",
    "    # Will include barrier after prep and before post rot if True\n",
    "    [d1,d2,d3,d4,f1,f2,a1]=qubits\n",
    "    \n",
    "    if layout == 'zxz':\n",
    "        if parity == 'x':\n",
    "            circuit.h(a1)\n",
    "            circuit.cx(a1,f2)\n",
    "            circuit.cx(a1,f1)\n",
    "            circuit.cx(f2,d1)\n",
    "            circuit.cx(f1,d4)\n",
    "            circuit.cx(f2,d2)\n",
    "            circuit.cx(f1,d3)\n",
    "            circuit.cx(a1,f2)\n",
    "            circuit.cx(a1,f1)\n",
    "            circuit.h(a1)           \n",
    "        if parity == 'z':\n",
    "            circuit.cx(d2,f2)\n",
    "            circuit.cx(d1,f2)\n",
    "            circuit.cx(d3,f1)\n",
    "            circuit.cx(d4,f1)\n",
    "        return circuit\n",
    "    \n",
    "    elif layout == 'xzx':\n",
    "        if parity == 'z':\n",
    "            circuit.h(f1)\n",
    "            circuit.h(f2)\n",
    "\n",
    "            circuit.cx(f2,a1)\n",
    "            circuit.cx(f1,a1)\n",
    "            circuit.cx(d1,f2)        \n",
    "            circuit.cx(d3,f1)\n",
    "            circuit.cx(d2,f2)\n",
    "            circuit.cx(d4,f1)\n",
    "            circuit.cx(f2,a1)\n",
    "            circuit.cx(f1,a1)\n",
    "\n",
    "            circuit.h(f1)\n",
    "            circuit.h(f2)\n",
    "\n",
    "        if parity == 'x':\n",
    "            circuit.h(f1)\n",
    "            circuit.h(f2)\n",
    "            circuit.cx(f2,d2)\n",
    "            circuit.cx(f2,d1)\n",
    "            circuit.cx(f1,d3)\n",
    "            circuit.cx(f1,d4)\n",
    "\n",
    "            circuit.h(f1)\n",
    "            circuit.h(f2)\n",
    "        return circuit        "
   ]
  },
  {
   "cell_type": "code",
   "execution_count": null,
   "id": "e830c256",
   "metadata": {},
   "outputs": [],
   "source": [
    "# Complete - how do you do the Z and X checks for this code? How do you decode the errors?\n",
    "# See: https://arxiv.org/abs/2110.04285\n"
   ]
  },
  {
   "cell_type": "code",
   "execution_count": null,
   "id": "ca59ce73",
   "metadata": {
    "slideshow": {
     "slide_type": "slide"
    }
   },
   "outputs": [],
   "source": [
    "import qiskit.tools.jupyter\n",
    "%qiskit_version_table\n",
    "%qiskit_copyright"
   ]
  }
 ],
 "metadata": {
  "celltoolbar": "Slideshow",
  "kernelspec": {
   "display_name": "Python 3 (ipykernel)",
   "language": "python",
   "name": "python3"
  },
  "language_info": {
   "codemirror_mode": {
    "name": "ipython",
    "version": 3
   },
   "file_extension": ".py",
   "mimetype": "text/x-python",
   "name": "python",
   "nbconvert_exporter": "python",
   "pygments_lexer": "ipython3",
   "version": "3.9.13"
  },
  "vscode": {
   "interpreter": {
    "hash": "64e3abfe8af2fcc57bd23990561e864cffdbbf1f8c807ab51dc9d6757f5d5424"
   }
  }
 },
 "nbformat": 4,
 "nbformat_minor": 5
}
