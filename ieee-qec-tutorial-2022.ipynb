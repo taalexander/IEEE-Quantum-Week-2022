{
 "cells": [
  {
   "cell_type": "markdown",
   "id": "f31cbd8c",
   "metadata": {},
   "source": [
    "# Introduction to Dynamic Circuits and QEC with Qiskit\n",
    "\n",
    "**Qiskit Slack: @Quantom & @Micheal Healy & Ed Chen**\n",
    "\n",
    "**Github: taalexander & @mbhealy & @ehchen**\n",
    "\n",
    "Before running this tutorial make sure you are setup with the [Hello IEEE notebook](./hello-ieee.ipynb).\n",
    "\n",
    "- This tutorial introduces the current dynamic circuit support through Qiskit on IBM Quantum hardware. This will change quickly as we develop this functionality, and we will aim to keep this tutorial up-to-date with the latest features and functionality. \n",
    "- We will then run some very simple error-correction in the form of a bit-flip code\n",
    "- At the end we will complete some exercises, the solutions may be found in the [solution notebook](./ieee-qec-tutorial-2022-solutions.ipynb)."
   ]
  },
  {
   "cell_type": "code",
   "execution_count": 1,
   "id": "4b18b513",
   "metadata": {},
   "outputs": [],
   "source": [
    "import os\n",
    "from typing import Any, List, Dict, Union\n",
    "\n",
    "import numpy as np\n",
    "import matplotlib.pyplot as plt\n",
    "\n",
    "from qiskit import IBMQ, QuantumCircuit, QuantumRegister, ClassicalRegister, quantum_info as qi\n",
    "from qiskit.providers.ibmq import RunnerResult\n",
    "from qiskit.result import marginal_counts\n",
    "import qiskit.tools.jupyter\n",
    "\n",
    "%matplotlib inline\n",
    "\n",
    "import warnings\n",
    "warnings.filterwarnings(\"ignore\")\n"
   ]
  },
  {
   "cell_type": "code",
   "execution_count": 2,
   "id": "0946f570",
   "metadata": {},
   "outputs": [],
   "source": [
    "%load_ext autoreload\n",
    "%autoreload 2"
   ]
  },
  {
   "cell_type": "markdown",
   "id": "059c12b0",
   "metadata": {},
   "source": [
    "## Running Dynamic Circuits with Qiskit\n",
    "\n",
    "Fist we need to instantiate our Qiskit runtime service instance and load our backend."
   ]
  },
  {
   "cell_type": "code",
   "execution_count": 3,
   "id": "e0d7b5ab",
   "metadata": {},
   "outputs": [],
   "source": [
    "# Note: This can be any hub/group/project that has access to the required device and the Qiskit runtime.\n",
    "# Verify that ``qasm3`` is present in ``backend.configuration().supported_features``.\n",
    "hub = \"ibm-q-internal\"\n",
    "group = \"dev-sys-software\"\n",
    "project = \"internal-test\"\n",
    "backend_name = \"ibm_peekskill\""
   ]
  },
  {
   "cell_type": "code",
   "execution_count": 4,
   "id": "aefa4863",
   "metadata": {},
   "outputs": [],
   "source": [
    "from qiskit.circuit import Delay, Parameter\n",
    "from qiskit_ibm_runtime import QiskitRuntimeService\n",
    "\n",
    "service = QiskitRuntimeService()\n",
    "backend = service.backend(backend_name, instance=f\"{hub}/{group}/{project}\")"
   ]
  },
  {
   "cell_type": "code",
   "execution_count": 5,
   "id": "78106146",
   "metadata": {},
   "outputs": [],
   "source": [
    "# Address bug in the current Qiskit runtime package\n",
    "target = backend.target\n",
    "if \"delay\" not in target:\n",
    "    target.add_instruction(\n",
    "        Delay(Parameter(\"t\")), {(bit,): None for bit in range(target.num_qubits)}\n",
    "    )"
   ]
  },
  {
   "cell_type": "markdown",
   "id": "54b085ff",
   "metadata": {},
   "source": [
    "As we will also enable simulation for most of our experiments to prevent congestion in the reserved hardware we load some simulation backends."
   ]
  },
  {
   "cell_type": "code",
   "execution_count": 6,
   "id": "1d5f7c3d",
   "metadata": {},
   "outputs": [],
   "source": [
    "from qiskit.providers.aer import AerSimulator, Aer\n",
    "from qiskit.providers.aer.noise import NoiseModel\n",
    "\n",
    "backend_noise_model = NoiseModel.from_backend(backend)\n",
    "backend_sim = AerSimulator(noise_model=backend_noise_model)\n",
    "ideal_sim = Aer.get_backend('qasm_simulator')"
   ]
  },
  {
   "cell_type": "code",
   "execution_count": 13,
   "id": "dd7ee951",
   "metadata": {
    "scrolled": true
   },
   "outputs": [
    {
     "data": {
      "application/vnd.jupyter.widget-view+json": {
       "model_id": "1214ae1a56014975b2aff9636d5f2d72",
       "version_major": 2,
       "version_minor": 0
      },
      "text/plain": [
       "VBox(children=(HTML(value=\"<h1 style='color:#ffffff;background-color:#000000;padding-top: 1%;padding-bottom: 1…"
      ]
     },
     "metadata": {},
     "output_type": "display_data"
    },
    {
     "data": {
      "text/plain": [
       "<IBMBackend('ibm_peekskill')>"
      ]
     },
     "execution_count": 13,
     "metadata": {},
     "output_type": "execute_result"
    }
   ],
   "source": [
    "import utils\n",
    "backend"
   ]
  },
  {
   "cell_type": "markdown",
   "id": "fb4eb805",
   "metadata": {},
   "source": [
    "## Running basic quantum error correction\n",
    "\n",
    "*Note*: This tutorial draws heavily from these excellent tutorials [1](https://qiskit.org/textbook/ch-quantum-hardware/error-correction-repetition-code.html) [2](https://github.com/qiskit-community/qiskit-community-tutorials/blob/master/awards/teach_me_quantum_2018/intro2qc/10.Quantum%20error%20correction.ipynb).\n",
    "\n",
    "A few more excellent references for an introduction to quantum error correction [3](https://www2.physics.ox.ac.uk/sites/default/files/ErrorCorrectionSteane06.pdf) [4](https://arxiv.org/abs/1907.11157) [5](https://arxiv.org/abs/0905.2794)"
   ]
  },
  {
   "cell_type": "code",
   "execution_count": 14,
   "id": "0774bc81",
   "metadata": {},
   "outputs": [],
   "source": [
    "sim = False # Set True to simulate our experiments and False to run in hardware\n",
    "dynamical_decoupling = True # Set True to enable dynamical decoupling"
   ]
  },
  {
   "cell_type": "code",
   "execution_count": null,
   "id": "a4011137",
   "metadata": {},
   "outputs": [],
   "source": [
    "def convert_cycles(time_in_seconds, backend):\n",
    "    cycles = time_in_seconds / (backend.configuration().dt)\n",
    "    return int(cycles + (16 - (cycles % 16)))"
   ]
  },
  {
   "cell_type": "markdown",
   "id": "c0c434a7",
   "metadata": {},
   "source": [
    "## Introduction to the repetition code"
   ]
  },
  {
   "cell_type": "markdown",
   "id": "1c6256f1",
   "metadata": {},
   "source": [
    "### The basics of error correction\n",
    "\n",
    "The basic ideas behind error correction are the same for quantum information as for classical information. This allows us to begin by considering a very straightforward example: speaking on the phone. If someone asks you a question to which the answer is 'yes' or 'no', the way you give your response will depend on two factors:\n",
    "\n",
    "* How important is it that you are understood correctly?\n",
    "* How good is your connection?\n",
    "\n",
    "Both of these can be parameterized with probabilities. For the first, we can use $P_a$, the maximum acceptable probability of being misunderstood. If you are being asked to confirm a preference for ice cream flavours, and don't mind too much if you get vanilla rather than chocolate, $P_a$ might be quite high. If you are being asked a question on which someone's life depends, however, $P_a$ will be much lower.\n",
    "\n",
    "For the second we can use $p$, the probability that your answer is garbled by a bad connection. For simplicity, let's imagine a case where a garbled 'yes' doesn't simply sound like nonsense, but sounds like a 'no'. And similarly a 'no' is transformed into 'yes'. Then $p$ is the probability that you are completely misunderstood.\n",
    "\n",
    "A good connection or a relatively unimportant question will result in $p<P_a$. In this case it is fine to simply answer in the most direct way possible: you just say 'yes' or 'no'.\n",
    "\n",
    "If, however, your connection is poor and your answer is important, we will have $p>P_a$. A single 'yes' or 'no' is not enough in this case. The probability of being misunderstood would be too high. Instead we must encode our answer in a more complex structure, allowing the receiver to decode our meaning despite the possibility of the message being disrupted. The simplest method is the one that many would do without thinking: simply repeat the answer many times. For example say 'yes, yes, yes' instead of 'yes' or 'no, no no' instead of 'no'.\n",
    "\n",
    "If the receiver hears 'yes, yes, yes' in this case, they will of course conclude that the sender meant 'yes'. If they hear 'no, yes, yes', 'yes, no, yes' or 'yes, yes, no', they will probably conclude the same thing, since there is more positivity than negativity in the answer. To be misunderstood in this case, at least two of the replies need to be garbled. The probability for this, $P$, will be less than $p$. When encoded in this way, the message therefore becomes more likely to be understood. The code cell below shows an example of this."
   ]
  },
  {
   "cell_type": "code",
   "execution_count": 17,
   "id": "144cf93f",
   "metadata": {},
   "outputs": [
    {
     "name": "stdout",
     "output_type": "stream",
     "text": [
      "Probability of a single reply being garbled: 0.01\n",
      "Probability of a majority of the three replies being garbled: 0.0003\n"
     ]
    }
   ],
   "source": [
    "p1 = 0.01\n",
    "p3 = 3 * p1**2 * (1-p1) + p1**3 # probability of 2 or 3 errors\n",
    "print('Probability of a single reply being garbled: {}'.format(p1))\n",
    "print('Probability of a majority of the three replies being garbled: {:.4f}'.format(p3))"
   ]
  },
  {
   "cell_type": "markdown",
   "id": "3481d8a1",
   "metadata": {},
   "source": [
    "If $P<P_a$, this technique solves our problem. If not, we can simply add more repetitions. The fact that $P<p$ above comes from the fact that we need at least two replies to be garbled to flip the majority, and so even the most likely possibilities have a probability of $\\sim p^2$. For five repetitions we'd need at least three replies to be garbled to flip the majority, which happens with probability $\\sim p^3$. The value for $P$ in this case would then be even lower. Indeed, as we increase the number of repetitions, $P$ will decrease exponentially. No matter how bad the connection, or how certain we need to be of our message getting through correctly, we can achieve it by just repeating our answer enough times.\n",
    "\n",
    "Though this is a simple example, it contains all the aspects of error correction.\n",
    "* There is some information to be sent or stored: In this case, a 'yes' or 'no'.\n",
    "* The information is encoded in a larger system to protect it against noise: In this case, by repeating the message.\n",
    "* The information is finally decoded, mitigating for the effects of noise: In this case, by trusting the majority of the transmitted messages.\n",
    "\n",
    "This same encoding scheme can also be used for binary, by simply substituting `0` and `1` for 'yes' and 'no'. It can therefore also be easily generalized to qubits by using the states $\\left|0\\right\\rangle$ and $\\left|1\\right\\rangle$. In each case it is known as the *repetition code*. Many other forms of encoding are also possible in both the classical and quantum cases, which outperform the repetition code in many ways. However, its status as the simplest encoding does lend it to certain applications."
   ]
  },
  {
   "cell_type": "markdown",
   "id": "a507fa09",
   "metadata": {},
   "source": [
    "## Quantum Error Correction\n",
    "\n",
    "While repetition conceptually underlies the codes we will implement in this notebook implementing the repetition code naievly will not allow us to store *quantum information*. This is because the very act of measuring our qubits will destroy the encode state. For example consider if we encode the state $|\\Psi_0> = \\alpha |0> + \\beta |1>$ as $|\\tilde{\\Psi}_0> = \\alpha |000> + \\beta |111>$ if we measure all of the qubits according to the Born rule we will obtain the outcome states with probability $Pr(|000>) = |\\alpha|^2$ and $Pr(|111>) = |\\beta|^2$. \n",
    "\n",
    "\n",
    "If we then decode our encoded state $|\\tilde{\\Psi}_1> \\rightarrow |\\Psi_1>$ we will obtain\n",
    "\n",
    "$$\n",
    "  |\\Psi_1> =\n",
    "\\begin{cases}\n",
    "|0> & \\propto Pr(|000>) = |\\alpha|^2\\\\\n",
    "|1> & \\propto Pr(|111>) = |\\beta|^2\n",
    "\\end{cases}\n",
    "$$\n",
    "\n",
    "Importantly this is **not** the state we encoded $|\\Psi_0>$. This is because our measurement operation *does not commute with the encode the state*.\n",
    "\n",
    "At face value this might imply that quantum error correcting codes are not possible. However, it turns out we can exploit additional ancilla qubits and entanglement to measure what are known as *stabilizers* that do not transform our encoded quantum information, while still informing us of some classes of errors that may have occurred. "
   ]
  },
  {
   "cell_type": "markdown",
   "id": "e5a33f28",
   "metadata": {},
   "source": [
    "### Stabilizer codes\n",
    "\n",
    "A quantum stabilizer code encodes $k$ logical qubits into $n$ physical qubits. The coding rate is defined as the ration of $k/n$. The *stabilizer* $S$ is an Abelian subgroup of the Pauli group $\\Pi^n$. The +1 eigenspace of the stabilizer operators make up the *codespace* of the code. It will have dimension $2^k$ and therefore encode $k$ qubits. \n",
    "\n",
    "Stabilizer codes critically focus on correcting a discrete error set with support from the Pauli group $\\Pi^n$. Assume the set of possible errors are $ \\epsilon \\subset \\Pi^n$. For example in a bit flip code with three-qubits encoding the quantum state we will have $\\{IIX, IXI, XII\\}$.\n",
    "\n",
    "As both $S$ and $\\epsilon$ are subsets of the Pauli group $\\Pi^n$ if an error $E \\in \\epsilon$ is applied to a state it will either commute or anticommute with one of the generators of the Stabilizer group $g \\in S$. If the error anticommutes with a Stabilizer element it will be both detectable as it will change the sign of the stabilizer measurement.\n",
    "\n",
    "In general we can measure each element of the generator of the stabilizer (the minimal representation) $\\{g_1, \\cdots, g_{n-k} | \\forall i \\in \\{1, \\cdots, n-k\\}, g_i \\in S\\}$ which will produce a syndrome bitstring $\\vec{x}$ where we assign `0` for a generator that commutes (+1 eigenspace) and `1` for a generator that anticommutes (-1 eigenspace).\n",
    "\n",
    "We now know how to *detect* an error. The next step is to *correct* the error. It turns out that an error is correctable if it commutes/anticommutes with every generator $g$ in $S$ with the commuted remaining in $S$. If the operator is instead outside the Stabilizer $S$ the error will irrecoverably corrupt the encoded state. In general any two errors, $E_0, E_1 \\in \\epsilon$ are correctable if $E_0^\\dagger E_1 \\notin Z(S) \\lor E_0^\\dagger E_1 \\notin S $ where $Z(S)$ is the centralizer of S. In more simple terms if the errors take the Stabilizer into a state that does not lie in the codespace, we will not be able to correct and protect our information.\n",
    "\n",
    "While the above introduction is a mathematical introduction to Stabilizer codes, we believe its better to learn the practicalities of implementing them with some hands on practice."
   ]
  },
  {
   "cell_type": "markdown",
   "id": "f6453a45",
   "metadata": {},
   "source": [
    "### Stabilizer Codes in Practice\n",
    "In general there is a common flow to most experiments with stabilizer codes. While someday we hope to write a *logical* program and have the hardware determine how to encode and correct erors in the program. In todays NISQ era w are just starting to explore the practical implementation of QEC. Therefore we manually encode our logical state in physical qubits with circuits that we write at the physical qubit level. When we do this there is typically a standard flow to such an experiment:\n",
    "\n",
    "1. Initialize our input physical state we wish to protect.\n",
    "2. Encode our state in our Stabilizer's codespace.\n",
    "3. Apply an error-channel. These may be simulated Krauss maps, probabilitiscally applied gates, or simply the passive error-channel in the device of interest.\n",
    "4. Measure the syndrome by measuring the generators of our Stabilizer.\n",
    "5. Apply a decoding sequence to our stabilizer and apply the correction sequence for the error that we have observed. This is where dynamic circuit capabilities are important.\n",
    "6. Loop to 3. if we are running multiple iterations of the Stabilizer sequence.\n",
    "7. Decode our encoded state to recover the protected state.\n",
    "8. Measure the final data qubit to observe the state we protected and determine how well the code performed."
   ]
  },
  {
   "cell_type": "markdown",
   "id": "fa1128a1",
   "metadata": {},
   "source": [
    "## Executing the Bit-flip code on a Backend\n",
    "\n",
    "Below we will implement one of the simplest forms of a stabilizer code the five-qubit bit-flip code, which will protect our qubit against a single bit-flip error $\\epsilon = \\{IIX, IXI, XII \\}$\n",
    "\n",
    "Our quantum circuit will use three data qubits and two ancilla qubits."
   ]
  },
  {
   "cell_type": "code",
   "execution_count": 18,
   "id": "7cd545fc",
   "metadata": {},
   "outputs": [],
   "source": [
    "# Setup a base quantum circuit for our experiments\n",
    "qreg_data = QuantumRegister(3)\n",
    "qreg_measure = QuantumRegister(2)\n",
    "creg_data = ClassicalRegister(3)\n",
    "creg_syndrome = ClassicalRegister(2)\n",
    "state_data = qreg_data[0]\n",
    "ancillas_data = qreg_data[1:]\n",
    "\n",
    "def build_qc():\n",
    "    return QuantumCircuit(qreg_data, qreg_measure, creg_data, creg_syndrome)"
   ]
  },
  {
   "cell_type": "markdown",
   "id": "9118440e",
   "metadata": {},
   "source": [
    "### Initialize our qubit\n",
    "To protect a quantum state we must first prepare it!\n",
    "In general we could prepare the state $|\\Psi_0> = |0000> \\otimes (\\alpha |0> + \\beta |1>)$.\n",
    "In the circuit below we prepare the physical state $|\\Psi_0> = |00001>$."
   ]
  },
  {
   "cell_type": "code",
   "execution_count": null,
   "id": "4343c721",
   "metadata": {},
   "outputs": [],
   "source": [
    "qc_init = build_qc()\n",
    "\n",
    "qc_init.x(qreg_data[0])\n",
    "qc_init.barrier(qreg_data)\n",
    "\n",
    "qc_init.draw(output=\"mpl\")"
   ]
  },
  {
   "cell_type": "markdown",
   "id": "83e508ab",
   "metadata": {},
   "source": [
    "### Encode our logical state\n",
    "To protect our qubit we must encode it in the codespace. For the case of the bit-flip code this\n",
    "is very similar to the repetition code, where we implement repetition using the entangling\n",
    "`CX` gate rather than a classically conditioned bit-flip as we would do in the classical case.\n",
    "\n",
    "The encoding circuit below will map $|\\Psi_1> = U_{en}|\\Psi_0> = |00> (\\alpha |000> + \\beta |111>)$\n",
    "\n",
    "The stabilizer for the bit flip code is $S = {III, IZZ, ZIZ, ZZI}$. Operationally what this means is that\n",
    "a single bit-flip error applied to the qubits will modify the parity of a stabilizer but leave it within the code space. It is also straightforward to show that any two non-trivial Stabilizer elements can generate the full stabilizer. For example taking the generator set $G_0 = \\{g_0, g_1 \\} = \\{ IZZ, ZIZ \\}$\n",
    "\n",
    "We can see this as $g_0g_1 = IZZ . ZIZ = ZZI$ and $g_0g_0 = IZZ.IZZ = III$ completing our Stabilizer.\n",
    "\n",
    "This means that we must only measure our two generators $g_0$ and $g_1$ to detect any *correctable* error.\n",
    "\n",
    "It is easy to see the prepared state is a +1 eigenstate of our stabilizers\n",
    "$IZZ |\\Psi_1> = |\\Psi_1>$ \n",
    "$ZIZ |\\Psi_2> = |\\Psi_2>$ \n",
    "\n",
    "This is because the Stabilizer measures the *parity* of the two target qubits.\n"
   ]
  },
  {
   "cell_type": "code",
   "execution_count": 20,
   "id": "fa86fe8a",
   "metadata": {},
   "outputs": [
    {
     "ename": "MissingOptionalLibraryError",
     "evalue": "\"The 'pylatexenc' library is required to use 'MatplotlibDrawer'. You can install it with 'pip install pylatexenc'.\"",
     "output_type": "error",
     "traceback": [
      "\u001b[0;31m---------------------------------------------------------------------------\u001b[0m",
      "\u001b[0;31mMissingOptionalLibraryError\u001b[0m               Traceback (most recent call last)",
      "Cell \u001b[0;32mIn [20], line 12\u001b[0m\n\u001b[1;32m      8\u001b[0m qc_encode_bit \u001b[38;5;241m=\u001b[39m build_qc()\n\u001b[1;32m     10\u001b[0m encode_bit_flip(qc_encode_bit, state_data, ancillas_data)\n\u001b[0;32m---> 12\u001b[0m \u001b[43mqc_encode_bit\u001b[49m\u001b[38;5;241;43m.\u001b[39;49m\u001b[43mdraw\u001b[49m\u001b[43m(\u001b[49m\u001b[43moutput\u001b[49m\u001b[38;5;241;43m=\u001b[39;49m\u001b[38;5;124;43m\"\u001b[39;49m\u001b[38;5;124;43mmpl\u001b[39;49m\u001b[38;5;124;43m\"\u001b[39;49m\u001b[43m)\u001b[49m\n",
      "File \u001b[0;32m~/opt/anaconda3/envs/ieee/lib/python3.9/site-packages/qiskit/circuit/quantumcircuit.py:1928\u001b[0m, in \u001b[0;36mQuantumCircuit.draw\u001b[0;34m(self, output, scale, filename, style, interactive, plot_barriers, reverse_bits, justify, vertical_compression, idle_wires, with_layout, fold, ax, initial_state, cregbundle)\u001b[0m\n\u001b[1;32m   1925\u001b[0m \u001b[38;5;66;03m# pylint: disable=cyclic-import\u001b[39;00m\n\u001b[1;32m   1926\u001b[0m \u001b[38;5;28;01mfrom\u001b[39;00m \u001b[38;5;21;01mqiskit\u001b[39;00m\u001b[38;5;21;01m.\u001b[39;00m\u001b[38;5;21;01mvisualization\u001b[39;00m \u001b[38;5;28;01mimport\u001b[39;00m circuit_drawer\n\u001b[0;32m-> 1928\u001b[0m \u001b[38;5;28;01mreturn\u001b[39;00m \u001b[43mcircuit_drawer\u001b[49m\u001b[43m(\u001b[49m\n\u001b[1;32m   1929\u001b[0m \u001b[43m    \u001b[49m\u001b[38;5;28;43mself\u001b[39;49m\u001b[43m,\u001b[49m\n\u001b[1;32m   1930\u001b[0m \u001b[43m    \u001b[49m\u001b[43mscale\u001b[49m\u001b[38;5;241;43m=\u001b[39;49m\u001b[43mscale\u001b[49m\u001b[43m,\u001b[49m\n\u001b[1;32m   1931\u001b[0m \u001b[43m    \u001b[49m\u001b[43mfilename\u001b[49m\u001b[38;5;241;43m=\u001b[39;49m\u001b[43mfilename\u001b[49m\u001b[43m,\u001b[49m\n\u001b[1;32m   1932\u001b[0m \u001b[43m    \u001b[49m\u001b[43mstyle\u001b[49m\u001b[38;5;241;43m=\u001b[39;49m\u001b[43mstyle\u001b[49m\u001b[43m,\u001b[49m\n\u001b[1;32m   1933\u001b[0m \u001b[43m    \u001b[49m\u001b[43moutput\u001b[49m\u001b[38;5;241;43m=\u001b[39;49m\u001b[43moutput\u001b[49m\u001b[43m,\u001b[49m\n\u001b[1;32m   1934\u001b[0m \u001b[43m    \u001b[49m\u001b[43minteractive\u001b[49m\u001b[38;5;241;43m=\u001b[39;49m\u001b[43minteractive\u001b[49m\u001b[43m,\u001b[49m\n\u001b[1;32m   1935\u001b[0m \u001b[43m    \u001b[49m\u001b[43mplot_barriers\u001b[49m\u001b[38;5;241;43m=\u001b[39;49m\u001b[43mplot_barriers\u001b[49m\u001b[43m,\u001b[49m\n\u001b[1;32m   1936\u001b[0m \u001b[43m    \u001b[49m\u001b[43mreverse_bits\u001b[49m\u001b[38;5;241;43m=\u001b[39;49m\u001b[43mreverse_bits\u001b[49m\u001b[43m,\u001b[49m\n\u001b[1;32m   1937\u001b[0m \u001b[43m    \u001b[49m\u001b[43mjustify\u001b[49m\u001b[38;5;241;43m=\u001b[39;49m\u001b[43mjustify\u001b[49m\u001b[43m,\u001b[49m\n\u001b[1;32m   1938\u001b[0m \u001b[43m    \u001b[49m\u001b[43mvertical_compression\u001b[49m\u001b[38;5;241;43m=\u001b[39;49m\u001b[43mvertical_compression\u001b[49m\u001b[43m,\u001b[49m\n\u001b[1;32m   1939\u001b[0m \u001b[43m    \u001b[49m\u001b[43midle_wires\u001b[49m\u001b[38;5;241;43m=\u001b[39;49m\u001b[43midle_wires\u001b[49m\u001b[43m,\u001b[49m\n\u001b[1;32m   1940\u001b[0m \u001b[43m    \u001b[49m\u001b[43mwith_layout\u001b[49m\u001b[38;5;241;43m=\u001b[39;49m\u001b[43mwith_layout\u001b[49m\u001b[43m,\u001b[49m\n\u001b[1;32m   1941\u001b[0m \u001b[43m    \u001b[49m\u001b[43mfold\u001b[49m\u001b[38;5;241;43m=\u001b[39;49m\u001b[43mfold\u001b[49m\u001b[43m,\u001b[49m\n\u001b[1;32m   1942\u001b[0m \u001b[43m    \u001b[49m\u001b[43max\u001b[49m\u001b[38;5;241;43m=\u001b[39;49m\u001b[43max\u001b[49m\u001b[43m,\u001b[49m\n\u001b[1;32m   1943\u001b[0m \u001b[43m    \u001b[49m\u001b[43minitial_state\u001b[49m\u001b[38;5;241;43m=\u001b[39;49m\u001b[43minitial_state\u001b[49m\u001b[43m,\u001b[49m\n\u001b[1;32m   1944\u001b[0m \u001b[43m    \u001b[49m\u001b[43mcregbundle\u001b[49m\u001b[38;5;241;43m=\u001b[39;49m\u001b[43mcregbundle\u001b[49m\u001b[43m,\u001b[49m\n\u001b[1;32m   1945\u001b[0m \u001b[43m\u001b[49m\u001b[43m)\u001b[49m\n",
      "File \u001b[0;32m~/opt/anaconda3/envs/ieee/lib/python3.9/site-packages/qiskit/visualization/circuit_visualization.py:231\u001b[0m, in \u001b[0;36mcircuit_drawer\u001b[0;34m(circuit, scale, filename, style, output, interactive, plot_barriers, reverse_bits, justify, vertical_compression, idle_wires, with_layout, fold, ax, initial_state, cregbundle)\u001b[0m\n\u001b[1;32m    217\u001b[0m     \u001b[38;5;28;01mreturn\u001b[39;00m _generate_latex_source(\n\u001b[1;32m    218\u001b[0m         circuit,\n\u001b[1;32m    219\u001b[0m         filename\u001b[38;5;241m=\u001b[39mfilename,\n\u001b[0;32m   (...)\u001b[0m\n\u001b[1;32m    228\u001b[0m         cregbundle\u001b[38;5;241m=\u001b[39mcregbundle,\n\u001b[1;32m    229\u001b[0m     )\n\u001b[1;32m    230\u001b[0m \u001b[38;5;28;01melif\u001b[39;00m output \u001b[38;5;241m==\u001b[39m \u001b[38;5;124m\"\u001b[39m\u001b[38;5;124mmpl\u001b[39m\u001b[38;5;124m\"\u001b[39m:\n\u001b[0;32m--> 231\u001b[0m     image \u001b[38;5;241m=\u001b[39m \u001b[43m_matplotlib_circuit_drawer\u001b[49m\u001b[43m(\u001b[49m\n\u001b[1;32m    232\u001b[0m \u001b[43m        \u001b[49m\u001b[43mcircuit\u001b[49m\u001b[43m,\u001b[49m\n\u001b[1;32m    233\u001b[0m \u001b[43m        \u001b[49m\u001b[43mscale\u001b[49m\u001b[38;5;241;43m=\u001b[39;49m\u001b[43mscale\u001b[49m\u001b[43m,\u001b[49m\n\u001b[1;32m    234\u001b[0m \u001b[43m        \u001b[49m\u001b[43mfilename\u001b[49m\u001b[38;5;241;43m=\u001b[39;49m\u001b[43mfilename\u001b[49m\u001b[43m,\u001b[49m\n\u001b[1;32m    235\u001b[0m \u001b[43m        \u001b[49m\u001b[43mstyle\u001b[49m\u001b[38;5;241;43m=\u001b[39;49m\u001b[43mstyle\u001b[49m\u001b[43m,\u001b[49m\n\u001b[1;32m    236\u001b[0m \u001b[43m        \u001b[49m\u001b[43mplot_barriers\u001b[49m\u001b[38;5;241;43m=\u001b[39;49m\u001b[43mplot_barriers\u001b[49m\u001b[43m,\u001b[49m\n\u001b[1;32m    237\u001b[0m \u001b[43m        \u001b[49m\u001b[43mreverse_bits\u001b[49m\u001b[38;5;241;43m=\u001b[39;49m\u001b[43mreverse_bits\u001b[49m\u001b[43m,\u001b[49m\n\u001b[1;32m    238\u001b[0m \u001b[43m        \u001b[49m\u001b[43mjustify\u001b[49m\u001b[38;5;241;43m=\u001b[39;49m\u001b[43mjustify\u001b[49m\u001b[43m,\u001b[49m\n\u001b[1;32m    239\u001b[0m \u001b[43m        \u001b[49m\u001b[43midle_wires\u001b[49m\u001b[38;5;241;43m=\u001b[39;49m\u001b[43midle_wires\u001b[49m\u001b[43m,\u001b[49m\n\u001b[1;32m    240\u001b[0m \u001b[43m        \u001b[49m\u001b[43mwith_layout\u001b[49m\u001b[38;5;241;43m=\u001b[39;49m\u001b[43mwith_layout\u001b[49m\u001b[43m,\u001b[49m\n\u001b[1;32m    241\u001b[0m \u001b[43m        \u001b[49m\u001b[43mfold\u001b[49m\u001b[38;5;241;43m=\u001b[39;49m\u001b[43mfold\u001b[49m\u001b[43m,\u001b[49m\n\u001b[1;32m    242\u001b[0m \u001b[43m        \u001b[49m\u001b[43max\u001b[49m\u001b[38;5;241;43m=\u001b[39;49m\u001b[43max\u001b[49m\u001b[43m,\u001b[49m\n\u001b[1;32m    243\u001b[0m \u001b[43m        \u001b[49m\u001b[43minitial_state\u001b[49m\u001b[38;5;241;43m=\u001b[39;49m\u001b[43minitial_state\u001b[49m\u001b[43m,\u001b[49m\n\u001b[1;32m    244\u001b[0m \u001b[43m        \u001b[49m\u001b[43mcregbundle\u001b[49m\u001b[38;5;241;43m=\u001b[39;49m\u001b[43mcregbundle\u001b[49m\u001b[43m,\u001b[49m\n\u001b[1;32m    245\u001b[0m \u001b[43m    \u001b[49m\u001b[43m)\u001b[49m\n\u001b[1;32m    246\u001b[0m \u001b[38;5;28;01melse\u001b[39;00m:\n\u001b[1;32m    247\u001b[0m     \u001b[38;5;28;01mraise\u001b[39;00m VisualizationError(\n\u001b[1;32m    248\u001b[0m         \u001b[38;5;124m\"\u001b[39m\u001b[38;5;124mInvalid output type \u001b[39m\u001b[38;5;132;01m%s\u001b[39;00m\u001b[38;5;124m selected. The only valid choices \u001b[39m\u001b[38;5;124m\"\u001b[39m\n\u001b[1;32m    249\u001b[0m         \u001b[38;5;124m\"\u001b[39m\u001b[38;5;124mare text, latex, latex_source, and mpl\u001b[39m\u001b[38;5;124m\"\u001b[39m \u001b[38;5;241m%\u001b[39m output\n\u001b[1;32m    250\u001b[0m     )\n",
      "File \u001b[0;32m~/opt/anaconda3/envs/ieee/lib/python3.9/site-packages/qiskit/visualization/circuit_visualization.py:581\u001b[0m, in \u001b[0;36m_matplotlib_circuit_drawer\u001b[0;34m(circuit, scale, filename, style, plot_barriers, reverse_bits, justify, idle_wires, with_layout, fold, ax, initial_state, cregbundle)\u001b[0m\n\u001b[1;32m    578\u001b[0m \u001b[38;5;28;01mif\u001b[39;00m fold \u001b[38;5;129;01mis\u001b[39;00m \u001b[38;5;28;01mNone\u001b[39;00m:\n\u001b[1;32m    579\u001b[0m     fold \u001b[38;5;241m=\u001b[39m \u001b[38;5;241m25\u001b[39m\n\u001b[0;32m--> 581\u001b[0m qcd \u001b[38;5;241m=\u001b[39m \u001b[43m_matplotlib\u001b[49m\u001b[38;5;241;43m.\u001b[39;49m\u001b[43mMatplotlibDrawer\u001b[49m\u001b[43m(\u001b[49m\n\u001b[1;32m    582\u001b[0m \u001b[43m    \u001b[49m\u001b[43mqubits\u001b[49m\u001b[43m,\u001b[49m\n\u001b[1;32m    583\u001b[0m \u001b[43m    \u001b[49m\u001b[43mclbits\u001b[49m\u001b[43m,\u001b[49m\n\u001b[1;32m    584\u001b[0m \u001b[43m    \u001b[49m\u001b[43mnodes\u001b[49m\u001b[43m,\u001b[49m\n\u001b[1;32m    585\u001b[0m \u001b[43m    \u001b[49m\u001b[43mscale\u001b[49m\u001b[38;5;241;43m=\u001b[39;49m\u001b[43mscale\u001b[49m\u001b[43m,\u001b[49m\n\u001b[1;32m    586\u001b[0m \u001b[43m    \u001b[49m\u001b[43mstyle\u001b[49m\u001b[38;5;241;43m=\u001b[39;49m\u001b[43mstyle\u001b[49m\u001b[43m,\u001b[49m\n\u001b[1;32m    587\u001b[0m \u001b[43m    \u001b[49m\u001b[43mreverse_bits\u001b[49m\u001b[38;5;241;43m=\u001b[39;49m\u001b[43mreverse_bits\u001b[49m\u001b[43m,\u001b[49m\n\u001b[1;32m    588\u001b[0m \u001b[43m    \u001b[49m\u001b[43mplot_barriers\u001b[49m\u001b[38;5;241;43m=\u001b[39;49m\u001b[43mplot_barriers\u001b[49m\u001b[43m,\u001b[49m\n\u001b[1;32m    589\u001b[0m \u001b[43m    \u001b[49m\u001b[43mlayout\u001b[49m\u001b[38;5;241;43m=\u001b[39;49m\u001b[38;5;28;43;01mNone\u001b[39;49;00m\u001b[43m,\u001b[49m\n\u001b[1;32m    590\u001b[0m \u001b[43m    \u001b[49m\u001b[43mfold\u001b[49m\u001b[38;5;241;43m=\u001b[39;49m\u001b[43mfold\u001b[49m\u001b[43m,\u001b[49m\n\u001b[1;32m    591\u001b[0m \u001b[43m    \u001b[49m\u001b[43max\u001b[49m\u001b[38;5;241;43m=\u001b[39;49m\u001b[43max\u001b[49m\u001b[43m,\u001b[49m\n\u001b[1;32m    592\u001b[0m \u001b[43m    \u001b[49m\u001b[43minitial_state\u001b[49m\u001b[38;5;241;43m=\u001b[39;49m\u001b[43minitial_state\u001b[49m\u001b[43m,\u001b[49m\n\u001b[1;32m    593\u001b[0m \u001b[43m    \u001b[49m\u001b[43mcregbundle\u001b[49m\u001b[38;5;241;43m=\u001b[39;49m\u001b[43mcregbundle\u001b[49m\u001b[43m,\u001b[49m\n\u001b[1;32m    594\u001b[0m \u001b[43m    \u001b[49m\u001b[43mglobal_phase\u001b[49m\u001b[38;5;241;43m=\u001b[39;49m\u001b[38;5;28;43;01mNone\u001b[39;49;00m\u001b[43m,\u001b[49m\n\u001b[1;32m    595\u001b[0m \u001b[43m    \u001b[49m\u001b[43mcalibrations\u001b[49m\u001b[38;5;241;43m=\u001b[39;49m\u001b[38;5;28;43;01mNone\u001b[39;49;00m\u001b[43m,\u001b[49m\n\u001b[1;32m    596\u001b[0m \u001b[43m    \u001b[49m\u001b[43mqregs\u001b[49m\u001b[38;5;241;43m=\u001b[39;49m\u001b[38;5;28;43;01mNone\u001b[39;49;00m\u001b[43m,\u001b[49m\n\u001b[1;32m    597\u001b[0m \u001b[43m    \u001b[49m\u001b[43mcregs\u001b[49m\u001b[38;5;241;43m=\u001b[39;49m\u001b[38;5;28;43;01mNone\u001b[39;49;00m\u001b[43m,\u001b[49m\n\u001b[1;32m    598\u001b[0m \u001b[43m    \u001b[49m\u001b[43mwith_layout\u001b[49m\u001b[38;5;241;43m=\u001b[39;49m\u001b[43mwith_layout\u001b[49m\u001b[43m,\u001b[49m\n\u001b[1;32m    599\u001b[0m \u001b[43m    \u001b[49m\u001b[43mcircuit\u001b[49m\u001b[38;5;241;43m=\u001b[39;49m\u001b[43mcircuit\u001b[49m\u001b[43m,\u001b[49m\n\u001b[1;32m    600\u001b[0m \u001b[43m\u001b[49m\u001b[43m)\u001b[49m\n\u001b[1;32m    601\u001b[0m \u001b[38;5;28;01mreturn\u001b[39;00m qcd\u001b[38;5;241m.\u001b[39mdraw(filename)\n",
      "File \u001b[0;32m~/opt/anaconda3/envs/ieee/lib/python3.9/site-packages/qiskit/utils/classtools.py:117\u001b[0m, in \u001b[0;36m_WrappedMethod.__get__.<locals>.out\u001b[0;34m(*args, **kwargs)\u001b[0m\n\u001b[1;32m    115\u001b[0m \u001b[38;5;28;01mfor\u001b[39;00m callback \u001b[38;5;129;01min\u001b[39;00m \u001b[38;5;28mself\u001b[39m\u001b[38;5;241m.\u001b[39m_before:\n\u001b[1;32m    116\u001b[0m     callback\u001b[38;5;241m.\u001b[39m\u001b[38;5;21m__get__\u001b[39m(obj, objtype)(\u001b[38;5;241m*\u001b[39margs, \u001b[38;5;241m*\u001b[39m\u001b[38;5;241m*\u001b[39mkwargs)\n\u001b[0;32m--> 117\u001b[0m retval \u001b[38;5;241m=\u001b[39m \u001b[43mmethod\u001b[49m\u001b[43m(\u001b[49m\u001b[38;5;241;43m*\u001b[39;49m\u001b[43margs\u001b[49m\u001b[43m,\u001b[49m\u001b[43m \u001b[49m\u001b[38;5;241;43m*\u001b[39;49m\u001b[38;5;241;43m*\u001b[39;49m\u001b[43mkwargs\u001b[49m\u001b[43m)\u001b[49m\n\u001b[1;32m    118\u001b[0m \u001b[38;5;28;01mfor\u001b[39;00m callback \u001b[38;5;129;01min\u001b[39;00m \u001b[38;5;28mself\u001b[39m\u001b[38;5;241m.\u001b[39m_after:\n\u001b[1;32m    119\u001b[0m     callback\u001b[38;5;241m.\u001b[39m\u001b[38;5;21m__get__\u001b[39m(obj, objtype)(\u001b[38;5;241m*\u001b[39margs, \u001b[38;5;241m*\u001b[39m\u001b[38;5;241m*\u001b[39mkwargs)\n",
      "File \u001b[0;32m~/opt/anaconda3/envs/ieee/lib/python3.9/site-packages/qiskit/utils/classtools.py:116\u001b[0m, in \u001b[0;36m_WrappedMethod.__get__.<locals>.out\u001b[0;34m(*args, **kwargs)\u001b[0m\n\u001b[1;32m    113\u001b[0m \u001b[38;5;129m@functools\u001b[39m\u001b[38;5;241m.\u001b[39mwraps(method)\n\u001b[1;32m    114\u001b[0m \u001b[38;5;28;01mdef\u001b[39;00m \u001b[38;5;21mout\u001b[39m(\u001b[38;5;241m*\u001b[39margs, \u001b[38;5;241m*\u001b[39m\u001b[38;5;241m*\u001b[39mkwargs):\n\u001b[1;32m    115\u001b[0m     \u001b[38;5;28;01mfor\u001b[39;00m callback \u001b[38;5;129;01min\u001b[39;00m \u001b[38;5;28mself\u001b[39m\u001b[38;5;241m.\u001b[39m_before:\n\u001b[0;32m--> 116\u001b[0m         \u001b[43mcallback\u001b[49m\u001b[38;5;241;43m.\u001b[39;49m\u001b[38;5;21;43m__get__\u001b[39;49m\u001b[43m(\u001b[49m\u001b[43mobj\u001b[49m\u001b[43m,\u001b[49m\u001b[43m \u001b[49m\u001b[43mobjtype\u001b[49m\u001b[43m)\u001b[49m\u001b[43m(\u001b[49m\u001b[38;5;241;43m*\u001b[39;49m\u001b[43margs\u001b[49m\u001b[43m,\u001b[49m\u001b[43m \u001b[49m\u001b[38;5;241;43m*\u001b[39;49m\u001b[38;5;241;43m*\u001b[39;49m\u001b[43mkwargs\u001b[49m\u001b[43m)\u001b[49m\n\u001b[1;32m    117\u001b[0m     retval \u001b[38;5;241m=\u001b[39m method(\u001b[38;5;241m*\u001b[39margs, \u001b[38;5;241m*\u001b[39m\u001b[38;5;241m*\u001b[39mkwargs)\n\u001b[1;32m    118\u001b[0m     \u001b[38;5;28;01mfor\u001b[39;00m callback \u001b[38;5;129;01min\u001b[39;00m \u001b[38;5;28mself\u001b[39m\u001b[38;5;241m.\u001b[39m_after:\n",
      "File \u001b[0;32m~/opt/anaconda3/envs/ieee/lib/python3.9/site-packages/qiskit/utils/lazy_tester.py:39\u001b[0m, in \u001b[0;36m_RequireNow.__call__\u001b[0;34m(self, *_args, **_kwargs)\u001b[0m\n\u001b[1;32m     38\u001b[0m \u001b[38;5;28;01mdef\u001b[39;00m \u001b[38;5;21m__call__\u001b[39m(\u001b[38;5;28mself\u001b[39m, \u001b[38;5;241m*\u001b[39m_args, \u001b[38;5;241m*\u001b[39m\u001b[38;5;241m*\u001b[39m_kwargs):\n\u001b[0;32m---> 39\u001b[0m     \u001b[38;5;28;43mself\u001b[39;49m\u001b[38;5;241;43m.\u001b[39;49m\u001b[43m_tester\u001b[49m\u001b[38;5;241;43m.\u001b[39;49m\u001b[43mrequire_now\u001b[49m\u001b[43m(\u001b[49m\u001b[38;5;28;43mself\u001b[39;49m\u001b[38;5;241;43m.\u001b[39;49m\u001b[43m_feature\u001b[49m\u001b[43m)\u001b[49m\n",
      "File \u001b[0;32m~/opt/anaconda3/envs/ieee/lib/python3.9/site-packages/qiskit/utils/lazy_tester.py:223\u001b[0m, in \u001b[0;36mLazyDependencyManager.require_now\u001b[0;34m(self, feature)\u001b[0m\n\u001b[1;32m    221\u001b[0m \u001b[38;5;28;01mif\u001b[39;00m \u001b[38;5;28mself\u001b[39m:\n\u001b[1;32m    222\u001b[0m     \u001b[38;5;28;01mreturn\u001b[39;00m\n\u001b[0;32m--> 223\u001b[0m \u001b[38;5;28;01mraise\u001b[39;00m MissingOptionalLibraryError(\n\u001b[1;32m    224\u001b[0m     libname\u001b[38;5;241m=\u001b[39m\u001b[38;5;28mself\u001b[39m\u001b[38;5;241m.\u001b[39m_name, name\u001b[38;5;241m=\u001b[39mfeature, pip_install\u001b[38;5;241m=\u001b[39m\u001b[38;5;28mself\u001b[39m\u001b[38;5;241m.\u001b[39m_install, msg\u001b[38;5;241m=\u001b[39m\u001b[38;5;28mself\u001b[39m\u001b[38;5;241m.\u001b[39m_msg\n\u001b[1;32m    225\u001b[0m )\n",
      "\u001b[0;31mMissingOptionalLibraryError\u001b[0m: \"The 'pylatexenc' library is required to use 'MatplotlibDrawer'. You can install it with 'pip install pylatexenc'.\""
     ]
    }
   ],
   "source": [
    "def encode_bit_flip(qc, state, ancillas):\n",
    "    control = state\n",
    "    for ancilla in ancillas:\n",
    "        qc.cx(control, ancilla)\n",
    "    qc.barrier(state, *ancillas)\n",
    "    return qc\n",
    "\n",
    "qc_encode_bit = build_qc()\n",
    "\n",
    "encode_bit_flip(qc_encode_bit, state_data, ancillas_data)\n",
    "\n",
    "qc_encode_bit.draw(output=\"mpl\")"
   ]
  },
  {
   "cell_type": "markdown",
   "id": "9031397c",
   "metadata": {},
   "source": [
    "However if we consider the action of bit-flip error $X$ which maps $|0> -> |1>$ and $|1> -> |0>$ on any of our qubits we have $\\epsilon = \\{E_0, E_1, E_2 \\} = \\{IIX, IXI, XII\\}$ \n",
    "\n",
    "Evaluating the commutators of our error terms we see:\n",
    "\n",
    "\n",
    "$$[E_0, g_0] = [IIX, IZZ] = IIX.IZZ - IZZ.IIX \\neq 0$$\n",
    "$$[E_0, g_1] = [IIX, ZIZ] = IIX.ZIZ - IIX.ZIZ \\neq 0$$\n",
    "$$[E_1, g_0] = [IXI, IZZ] = IXI.IZZ - IZZ.IXI \\neq 0$$\n",
    "$$[E_1, g_1] = [IXI, ZIZ] = IXI.ZIZ - IXI.ZIZ = 0$$\n",
    "$$[E_2, g_0] = [XII, IZZ] = XII.IZZ - IZZ.XII = 0$$\n",
    "$$[E_2, g_1] = [XII, ZIZ] = XII.ZIZ - XII.ZIZ \\neq 0$$\n",
    "\n",
    "What we see is that if we measure our stabilizers and observe \n",
    "$$\n",
    "Observe\n",
    "\\begin{cases}\n",
    "<g_0g_1> = 11, \\text{Error on qubit 0} \\\\\n",
    "<g_0g_1> = 01, \\text{Error on qubit 1} \\\\\n",
    "<g_0g_1> = 10, \\text{Error on qubit 2}\n",
    "\\end{cases}\n",
    "$$\n",
    "\n",
    "\n",
    "\n",
    "\n",
    "\n",
    "\n",
    "\n"
   ]
  },
  {
   "cell_type": "markdown",
   "id": "5c843513",
   "metadata": {},
   "source": [
    "### Prepare a decoding circuit\n",
    "To readout our final state we must map it back from the codespace to a single qubit.\n",
    "For our code this is simply $U_{de} = U_{en}^\\dagger$."
   ]
  },
  {
   "cell_type": "code",
   "execution_count": null,
   "id": "ec7d7e40",
   "metadata": {},
   "outputs": [],
   "source": [
    "def decode_bit_flip(qc, state, ancillas):\n",
    "    inv = qc_encode_bit.inverse()\n",
    "    return qc.compose(inv)\n",
    "\n",
    "qc_decode_bit = build_qc()\n",
    "\n",
    "qc_decode_bit = decode_bit_flip(qc_decode_bit, state_data, ancillas_data)\n",
    "\n",
    "qc_decode_bit.draw(output=\"mpl\")"
   ]
  },
  {
   "cell_type": "markdown",
   "id": "d1074415",
   "metadata": {},
   "source": [
    "### A circuit that prepares our encoded state\n",
    "\n",
    "Below we see how we can combine the state preparation and encoding steps\n",
    "to encode our state in the bit-flip code."
   ]
  },
  {
   "cell_type": "code",
   "execution_count": null,
   "id": "b1bae252",
   "metadata": {},
   "outputs": [],
   "source": [
    "qc_encoded_state_bit = qc_init.compose(qc_encode_bit)\n",
    "qc_encoded_state_bit.draw(output=\"mpl\")"
   ]
  },
  {
   "cell_type": "markdown",
   "id": "61c432a3",
   "metadata": {},
   "source": [
    "### Measuring the syndome\n",
    "\n"
   ]
  },
  {
   "cell_type": "code",
   "execution_count": null,
   "id": "2c2e621c",
   "metadata": {},
   "outputs": [],
   "source": [
    "def measure_syndrome_bit(qc, qreg_data, qreg_measure, creg_measure):\n",
    "    def branch_delay():\n",
    "        if sim:\n",
    "            qc.barrier(qreg_data)\n",
    "            qc.delay(block_branch_cycles, qreg_data)\n",
    "            qc.barrier(qreg_data)\n",
    "  \n",
    "    qc.cx(qreg_data[0], qreg_measure[0])\n",
    "    qc.cx(qreg_data[1], qreg_measure[0])\n",
    "    qc.cx(qreg_data[0], qreg_measure[1])\n",
    "    qc.cx(qreg_data[2], qreg_measure[1])\n",
    "    qc.measure(qreg_measure, creg_measure)\n",
    "    branch_delay()\n",
    "    qc.x(qreg_measure[0]).c_if(creg_measure[0], 1)\n",
    "    qc.x(qreg_measure[1]).c_if(creg_measure[1], 1)\n",
    "    qc.barrier(*qreg_data, *qreg_measure)\n",
    "    return qc\n",
    "\n",
    "qc_syndrome_bit = measure_syndrome_bit(build_qc(), qreg_data, qreg_measure, creg_syndrome)\n",
    "qc_syndrome_bit.draw(output=\"mpl\")    "
   ]
  },
  {
   "cell_type": "code",
   "execution_count": null,
   "id": "2b2e0139",
   "metadata": {},
   "outputs": [],
   "source": [
    "qc_measure_syndrome_bit = qc_encoded_state_bit.compose(qc_syndrome_bit)\n",
    "qc_measure_syndrome_bit.draw(output=\"mpl\")"
   ]
  },
  {
   "cell_type": "code",
   "execution_count": 22,
   "id": "016a183a",
   "metadata": {},
   "outputs": [
    {
     "ename": "MissingOptionalLibraryError",
     "evalue": "\"The 'pylatexenc' library is required to use 'MatplotlibDrawer'. You can install it with 'pip install pylatexenc'.\"",
     "output_type": "error",
     "traceback": [
      "\u001b[0;31m---------------------------------------------------------------------------\u001b[0m",
      "\u001b[0;31mMissingOptionalLibraryError\u001b[0m               Traceback (most recent call last)",
      "Cell \u001b[0;32mIn [22], line 19\u001b[0m\n\u001b[1;32m     16\u001b[0m     \u001b[38;5;28;01mreturn\u001b[39;00m qc\n\u001b[1;32m     18\u001b[0m qc_correction_bit \u001b[38;5;241m=\u001b[39m apply_correction_bit(build_qc(), qreg_data, creg_syndrome)\n\u001b[0;32m---> 19\u001b[0m \u001b[43mqc_correction_bit\u001b[49m\u001b[38;5;241;43m.\u001b[39;49m\u001b[43mdraw\u001b[49m\u001b[43m(\u001b[49m\u001b[43moutput\u001b[49m\u001b[38;5;241;43m=\u001b[39;49m\u001b[38;5;124;43m\"\u001b[39;49m\u001b[38;5;124;43mmpl\u001b[39;49m\u001b[38;5;124;43m\"\u001b[39;49m\u001b[43m)\u001b[49m\n",
      "File \u001b[0;32m~/opt/anaconda3/envs/ieee/lib/python3.9/site-packages/qiskit/circuit/quantumcircuit.py:1928\u001b[0m, in \u001b[0;36mQuantumCircuit.draw\u001b[0;34m(self, output, scale, filename, style, interactive, plot_barriers, reverse_bits, justify, vertical_compression, idle_wires, with_layout, fold, ax, initial_state, cregbundle)\u001b[0m\n\u001b[1;32m   1925\u001b[0m \u001b[38;5;66;03m# pylint: disable=cyclic-import\u001b[39;00m\n\u001b[1;32m   1926\u001b[0m \u001b[38;5;28;01mfrom\u001b[39;00m \u001b[38;5;21;01mqiskit\u001b[39;00m\u001b[38;5;21;01m.\u001b[39;00m\u001b[38;5;21;01mvisualization\u001b[39;00m \u001b[38;5;28;01mimport\u001b[39;00m circuit_drawer\n\u001b[0;32m-> 1928\u001b[0m \u001b[38;5;28;01mreturn\u001b[39;00m \u001b[43mcircuit_drawer\u001b[49m\u001b[43m(\u001b[49m\n\u001b[1;32m   1929\u001b[0m \u001b[43m    \u001b[49m\u001b[38;5;28;43mself\u001b[39;49m\u001b[43m,\u001b[49m\n\u001b[1;32m   1930\u001b[0m \u001b[43m    \u001b[49m\u001b[43mscale\u001b[49m\u001b[38;5;241;43m=\u001b[39;49m\u001b[43mscale\u001b[49m\u001b[43m,\u001b[49m\n\u001b[1;32m   1931\u001b[0m \u001b[43m    \u001b[49m\u001b[43mfilename\u001b[49m\u001b[38;5;241;43m=\u001b[39;49m\u001b[43mfilename\u001b[49m\u001b[43m,\u001b[49m\n\u001b[1;32m   1932\u001b[0m \u001b[43m    \u001b[49m\u001b[43mstyle\u001b[49m\u001b[38;5;241;43m=\u001b[39;49m\u001b[43mstyle\u001b[49m\u001b[43m,\u001b[49m\n\u001b[1;32m   1933\u001b[0m \u001b[43m    \u001b[49m\u001b[43moutput\u001b[49m\u001b[38;5;241;43m=\u001b[39;49m\u001b[43moutput\u001b[49m\u001b[43m,\u001b[49m\n\u001b[1;32m   1934\u001b[0m \u001b[43m    \u001b[49m\u001b[43minteractive\u001b[49m\u001b[38;5;241;43m=\u001b[39;49m\u001b[43minteractive\u001b[49m\u001b[43m,\u001b[49m\n\u001b[1;32m   1935\u001b[0m \u001b[43m    \u001b[49m\u001b[43mplot_barriers\u001b[49m\u001b[38;5;241;43m=\u001b[39;49m\u001b[43mplot_barriers\u001b[49m\u001b[43m,\u001b[49m\n\u001b[1;32m   1936\u001b[0m \u001b[43m    \u001b[49m\u001b[43mreverse_bits\u001b[49m\u001b[38;5;241;43m=\u001b[39;49m\u001b[43mreverse_bits\u001b[49m\u001b[43m,\u001b[49m\n\u001b[1;32m   1937\u001b[0m \u001b[43m    \u001b[49m\u001b[43mjustify\u001b[49m\u001b[38;5;241;43m=\u001b[39;49m\u001b[43mjustify\u001b[49m\u001b[43m,\u001b[49m\n\u001b[1;32m   1938\u001b[0m \u001b[43m    \u001b[49m\u001b[43mvertical_compression\u001b[49m\u001b[38;5;241;43m=\u001b[39;49m\u001b[43mvertical_compression\u001b[49m\u001b[43m,\u001b[49m\n\u001b[1;32m   1939\u001b[0m \u001b[43m    \u001b[49m\u001b[43midle_wires\u001b[49m\u001b[38;5;241;43m=\u001b[39;49m\u001b[43midle_wires\u001b[49m\u001b[43m,\u001b[49m\n\u001b[1;32m   1940\u001b[0m \u001b[43m    \u001b[49m\u001b[43mwith_layout\u001b[49m\u001b[38;5;241;43m=\u001b[39;49m\u001b[43mwith_layout\u001b[49m\u001b[43m,\u001b[49m\n\u001b[1;32m   1941\u001b[0m \u001b[43m    \u001b[49m\u001b[43mfold\u001b[49m\u001b[38;5;241;43m=\u001b[39;49m\u001b[43mfold\u001b[49m\u001b[43m,\u001b[49m\n\u001b[1;32m   1942\u001b[0m \u001b[43m    \u001b[49m\u001b[43max\u001b[49m\u001b[38;5;241;43m=\u001b[39;49m\u001b[43max\u001b[49m\u001b[43m,\u001b[49m\n\u001b[1;32m   1943\u001b[0m \u001b[43m    \u001b[49m\u001b[43minitial_state\u001b[49m\u001b[38;5;241;43m=\u001b[39;49m\u001b[43minitial_state\u001b[49m\u001b[43m,\u001b[49m\n\u001b[1;32m   1944\u001b[0m \u001b[43m    \u001b[49m\u001b[43mcregbundle\u001b[49m\u001b[38;5;241;43m=\u001b[39;49m\u001b[43mcregbundle\u001b[49m\u001b[43m,\u001b[49m\n\u001b[1;32m   1945\u001b[0m \u001b[43m\u001b[49m\u001b[43m)\u001b[49m\n",
      "File \u001b[0;32m~/opt/anaconda3/envs/ieee/lib/python3.9/site-packages/qiskit/visualization/circuit_visualization.py:231\u001b[0m, in \u001b[0;36mcircuit_drawer\u001b[0;34m(circuit, scale, filename, style, output, interactive, plot_barriers, reverse_bits, justify, vertical_compression, idle_wires, with_layout, fold, ax, initial_state, cregbundle)\u001b[0m\n\u001b[1;32m    217\u001b[0m     \u001b[38;5;28;01mreturn\u001b[39;00m _generate_latex_source(\n\u001b[1;32m    218\u001b[0m         circuit,\n\u001b[1;32m    219\u001b[0m         filename\u001b[38;5;241m=\u001b[39mfilename,\n\u001b[0;32m   (...)\u001b[0m\n\u001b[1;32m    228\u001b[0m         cregbundle\u001b[38;5;241m=\u001b[39mcregbundle,\n\u001b[1;32m    229\u001b[0m     )\n\u001b[1;32m    230\u001b[0m \u001b[38;5;28;01melif\u001b[39;00m output \u001b[38;5;241m==\u001b[39m \u001b[38;5;124m\"\u001b[39m\u001b[38;5;124mmpl\u001b[39m\u001b[38;5;124m\"\u001b[39m:\n\u001b[0;32m--> 231\u001b[0m     image \u001b[38;5;241m=\u001b[39m \u001b[43m_matplotlib_circuit_drawer\u001b[49m\u001b[43m(\u001b[49m\n\u001b[1;32m    232\u001b[0m \u001b[43m        \u001b[49m\u001b[43mcircuit\u001b[49m\u001b[43m,\u001b[49m\n\u001b[1;32m    233\u001b[0m \u001b[43m        \u001b[49m\u001b[43mscale\u001b[49m\u001b[38;5;241;43m=\u001b[39;49m\u001b[43mscale\u001b[49m\u001b[43m,\u001b[49m\n\u001b[1;32m    234\u001b[0m \u001b[43m        \u001b[49m\u001b[43mfilename\u001b[49m\u001b[38;5;241;43m=\u001b[39;49m\u001b[43mfilename\u001b[49m\u001b[43m,\u001b[49m\n\u001b[1;32m    235\u001b[0m \u001b[43m        \u001b[49m\u001b[43mstyle\u001b[49m\u001b[38;5;241;43m=\u001b[39;49m\u001b[43mstyle\u001b[49m\u001b[43m,\u001b[49m\n\u001b[1;32m    236\u001b[0m \u001b[43m        \u001b[49m\u001b[43mplot_barriers\u001b[49m\u001b[38;5;241;43m=\u001b[39;49m\u001b[43mplot_barriers\u001b[49m\u001b[43m,\u001b[49m\n\u001b[1;32m    237\u001b[0m \u001b[43m        \u001b[49m\u001b[43mreverse_bits\u001b[49m\u001b[38;5;241;43m=\u001b[39;49m\u001b[43mreverse_bits\u001b[49m\u001b[43m,\u001b[49m\n\u001b[1;32m    238\u001b[0m \u001b[43m        \u001b[49m\u001b[43mjustify\u001b[49m\u001b[38;5;241;43m=\u001b[39;49m\u001b[43mjustify\u001b[49m\u001b[43m,\u001b[49m\n\u001b[1;32m    239\u001b[0m \u001b[43m        \u001b[49m\u001b[43midle_wires\u001b[49m\u001b[38;5;241;43m=\u001b[39;49m\u001b[43midle_wires\u001b[49m\u001b[43m,\u001b[49m\n\u001b[1;32m    240\u001b[0m \u001b[43m        \u001b[49m\u001b[43mwith_layout\u001b[49m\u001b[38;5;241;43m=\u001b[39;49m\u001b[43mwith_layout\u001b[49m\u001b[43m,\u001b[49m\n\u001b[1;32m    241\u001b[0m \u001b[43m        \u001b[49m\u001b[43mfold\u001b[49m\u001b[38;5;241;43m=\u001b[39;49m\u001b[43mfold\u001b[49m\u001b[43m,\u001b[49m\n\u001b[1;32m    242\u001b[0m \u001b[43m        \u001b[49m\u001b[43max\u001b[49m\u001b[38;5;241;43m=\u001b[39;49m\u001b[43max\u001b[49m\u001b[43m,\u001b[49m\n\u001b[1;32m    243\u001b[0m \u001b[43m        \u001b[49m\u001b[43minitial_state\u001b[49m\u001b[38;5;241;43m=\u001b[39;49m\u001b[43minitial_state\u001b[49m\u001b[43m,\u001b[49m\n\u001b[1;32m    244\u001b[0m \u001b[43m        \u001b[49m\u001b[43mcregbundle\u001b[49m\u001b[38;5;241;43m=\u001b[39;49m\u001b[43mcregbundle\u001b[49m\u001b[43m,\u001b[49m\n\u001b[1;32m    245\u001b[0m \u001b[43m    \u001b[49m\u001b[43m)\u001b[49m\n\u001b[1;32m    246\u001b[0m \u001b[38;5;28;01melse\u001b[39;00m:\n\u001b[1;32m    247\u001b[0m     \u001b[38;5;28;01mraise\u001b[39;00m VisualizationError(\n\u001b[1;32m    248\u001b[0m         \u001b[38;5;124m\"\u001b[39m\u001b[38;5;124mInvalid output type \u001b[39m\u001b[38;5;132;01m%s\u001b[39;00m\u001b[38;5;124m selected. The only valid choices \u001b[39m\u001b[38;5;124m\"\u001b[39m\n\u001b[1;32m    249\u001b[0m         \u001b[38;5;124m\"\u001b[39m\u001b[38;5;124mare text, latex, latex_source, and mpl\u001b[39m\u001b[38;5;124m\"\u001b[39m \u001b[38;5;241m%\u001b[39m output\n\u001b[1;32m    250\u001b[0m     )\n",
      "File \u001b[0;32m~/opt/anaconda3/envs/ieee/lib/python3.9/site-packages/qiskit/visualization/circuit_visualization.py:581\u001b[0m, in \u001b[0;36m_matplotlib_circuit_drawer\u001b[0;34m(circuit, scale, filename, style, plot_barriers, reverse_bits, justify, idle_wires, with_layout, fold, ax, initial_state, cregbundle)\u001b[0m\n\u001b[1;32m    578\u001b[0m \u001b[38;5;28;01mif\u001b[39;00m fold \u001b[38;5;129;01mis\u001b[39;00m \u001b[38;5;28;01mNone\u001b[39;00m:\n\u001b[1;32m    579\u001b[0m     fold \u001b[38;5;241m=\u001b[39m \u001b[38;5;241m25\u001b[39m\n\u001b[0;32m--> 581\u001b[0m qcd \u001b[38;5;241m=\u001b[39m \u001b[43m_matplotlib\u001b[49m\u001b[38;5;241;43m.\u001b[39;49m\u001b[43mMatplotlibDrawer\u001b[49m\u001b[43m(\u001b[49m\n\u001b[1;32m    582\u001b[0m \u001b[43m    \u001b[49m\u001b[43mqubits\u001b[49m\u001b[43m,\u001b[49m\n\u001b[1;32m    583\u001b[0m \u001b[43m    \u001b[49m\u001b[43mclbits\u001b[49m\u001b[43m,\u001b[49m\n\u001b[1;32m    584\u001b[0m \u001b[43m    \u001b[49m\u001b[43mnodes\u001b[49m\u001b[43m,\u001b[49m\n\u001b[1;32m    585\u001b[0m \u001b[43m    \u001b[49m\u001b[43mscale\u001b[49m\u001b[38;5;241;43m=\u001b[39;49m\u001b[43mscale\u001b[49m\u001b[43m,\u001b[49m\n\u001b[1;32m    586\u001b[0m \u001b[43m    \u001b[49m\u001b[43mstyle\u001b[49m\u001b[38;5;241;43m=\u001b[39;49m\u001b[43mstyle\u001b[49m\u001b[43m,\u001b[49m\n\u001b[1;32m    587\u001b[0m \u001b[43m    \u001b[49m\u001b[43mreverse_bits\u001b[49m\u001b[38;5;241;43m=\u001b[39;49m\u001b[43mreverse_bits\u001b[49m\u001b[43m,\u001b[49m\n\u001b[1;32m    588\u001b[0m \u001b[43m    \u001b[49m\u001b[43mplot_barriers\u001b[49m\u001b[38;5;241;43m=\u001b[39;49m\u001b[43mplot_barriers\u001b[49m\u001b[43m,\u001b[49m\n\u001b[1;32m    589\u001b[0m \u001b[43m    \u001b[49m\u001b[43mlayout\u001b[49m\u001b[38;5;241;43m=\u001b[39;49m\u001b[38;5;28;43;01mNone\u001b[39;49;00m\u001b[43m,\u001b[49m\n\u001b[1;32m    590\u001b[0m \u001b[43m    \u001b[49m\u001b[43mfold\u001b[49m\u001b[38;5;241;43m=\u001b[39;49m\u001b[43mfold\u001b[49m\u001b[43m,\u001b[49m\n\u001b[1;32m    591\u001b[0m \u001b[43m    \u001b[49m\u001b[43max\u001b[49m\u001b[38;5;241;43m=\u001b[39;49m\u001b[43max\u001b[49m\u001b[43m,\u001b[49m\n\u001b[1;32m    592\u001b[0m \u001b[43m    \u001b[49m\u001b[43minitial_state\u001b[49m\u001b[38;5;241;43m=\u001b[39;49m\u001b[43minitial_state\u001b[49m\u001b[43m,\u001b[49m\n\u001b[1;32m    593\u001b[0m \u001b[43m    \u001b[49m\u001b[43mcregbundle\u001b[49m\u001b[38;5;241;43m=\u001b[39;49m\u001b[43mcregbundle\u001b[49m\u001b[43m,\u001b[49m\n\u001b[1;32m    594\u001b[0m \u001b[43m    \u001b[49m\u001b[43mglobal_phase\u001b[49m\u001b[38;5;241;43m=\u001b[39;49m\u001b[38;5;28;43;01mNone\u001b[39;49;00m\u001b[43m,\u001b[49m\n\u001b[1;32m    595\u001b[0m \u001b[43m    \u001b[49m\u001b[43mcalibrations\u001b[49m\u001b[38;5;241;43m=\u001b[39;49m\u001b[38;5;28;43;01mNone\u001b[39;49;00m\u001b[43m,\u001b[49m\n\u001b[1;32m    596\u001b[0m \u001b[43m    \u001b[49m\u001b[43mqregs\u001b[49m\u001b[38;5;241;43m=\u001b[39;49m\u001b[38;5;28;43;01mNone\u001b[39;49;00m\u001b[43m,\u001b[49m\n\u001b[1;32m    597\u001b[0m \u001b[43m    \u001b[49m\u001b[43mcregs\u001b[49m\u001b[38;5;241;43m=\u001b[39;49m\u001b[38;5;28;43;01mNone\u001b[39;49;00m\u001b[43m,\u001b[49m\n\u001b[1;32m    598\u001b[0m \u001b[43m    \u001b[49m\u001b[43mwith_layout\u001b[49m\u001b[38;5;241;43m=\u001b[39;49m\u001b[43mwith_layout\u001b[49m\u001b[43m,\u001b[49m\n\u001b[1;32m    599\u001b[0m \u001b[43m    \u001b[49m\u001b[43mcircuit\u001b[49m\u001b[38;5;241;43m=\u001b[39;49m\u001b[43mcircuit\u001b[49m\u001b[43m,\u001b[49m\n\u001b[1;32m    600\u001b[0m \u001b[43m\u001b[49m\u001b[43m)\u001b[49m\n\u001b[1;32m    601\u001b[0m \u001b[38;5;28;01mreturn\u001b[39;00m qcd\u001b[38;5;241m.\u001b[39mdraw(filename)\n",
      "File \u001b[0;32m~/opt/anaconda3/envs/ieee/lib/python3.9/site-packages/qiskit/utils/classtools.py:117\u001b[0m, in \u001b[0;36m_WrappedMethod.__get__.<locals>.out\u001b[0;34m(*args, **kwargs)\u001b[0m\n\u001b[1;32m    115\u001b[0m \u001b[38;5;28;01mfor\u001b[39;00m callback \u001b[38;5;129;01min\u001b[39;00m \u001b[38;5;28mself\u001b[39m\u001b[38;5;241m.\u001b[39m_before:\n\u001b[1;32m    116\u001b[0m     callback\u001b[38;5;241m.\u001b[39m\u001b[38;5;21m__get__\u001b[39m(obj, objtype)(\u001b[38;5;241m*\u001b[39margs, \u001b[38;5;241m*\u001b[39m\u001b[38;5;241m*\u001b[39mkwargs)\n\u001b[0;32m--> 117\u001b[0m retval \u001b[38;5;241m=\u001b[39m \u001b[43mmethod\u001b[49m\u001b[43m(\u001b[49m\u001b[38;5;241;43m*\u001b[39;49m\u001b[43margs\u001b[49m\u001b[43m,\u001b[49m\u001b[43m \u001b[49m\u001b[38;5;241;43m*\u001b[39;49m\u001b[38;5;241;43m*\u001b[39;49m\u001b[43mkwargs\u001b[49m\u001b[43m)\u001b[49m\n\u001b[1;32m    118\u001b[0m \u001b[38;5;28;01mfor\u001b[39;00m callback \u001b[38;5;129;01min\u001b[39;00m \u001b[38;5;28mself\u001b[39m\u001b[38;5;241m.\u001b[39m_after:\n\u001b[1;32m    119\u001b[0m     callback\u001b[38;5;241m.\u001b[39m\u001b[38;5;21m__get__\u001b[39m(obj, objtype)(\u001b[38;5;241m*\u001b[39margs, \u001b[38;5;241m*\u001b[39m\u001b[38;5;241m*\u001b[39mkwargs)\n",
      "File \u001b[0;32m~/opt/anaconda3/envs/ieee/lib/python3.9/site-packages/qiskit/utils/classtools.py:116\u001b[0m, in \u001b[0;36m_WrappedMethod.__get__.<locals>.out\u001b[0;34m(*args, **kwargs)\u001b[0m\n\u001b[1;32m    113\u001b[0m \u001b[38;5;129m@functools\u001b[39m\u001b[38;5;241m.\u001b[39mwraps(method)\n\u001b[1;32m    114\u001b[0m \u001b[38;5;28;01mdef\u001b[39;00m \u001b[38;5;21mout\u001b[39m(\u001b[38;5;241m*\u001b[39margs, \u001b[38;5;241m*\u001b[39m\u001b[38;5;241m*\u001b[39mkwargs):\n\u001b[1;32m    115\u001b[0m     \u001b[38;5;28;01mfor\u001b[39;00m callback \u001b[38;5;129;01min\u001b[39;00m \u001b[38;5;28mself\u001b[39m\u001b[38;5;241m.\u001b[39m_before:\n\u001b[0;32m--> 116\u001b[0m         \u001b[43mcallback\u001b[49m\u001b[38;5;241;43m.\u001b[39;49m\u001b[38;5;21;43m__get__\u001b[39;49m\u001b[43m(\u001b[49m\u001b[43mobj\u001b[49m\u001b[43m,\u001b[49m\u001b[43m \u001b[49m\u001b[43mobjtype\u001b[49m\u001b[43m)\u001b[49m\u001b[43m(\u001b[49m\u001b[38;5;241;43m*\u001b[39;49m\u001b[43margs\u001b[49m\u001b[43m,\u001b[49m\u001b[43m \u001b[49m\u001b[38;5;241;43m*\u001b[39;49m\u001b[38;5;241;43m*\u001b[39;49m\u001b[43mkwargs\u001b[49m\u001b[43m)\u001b[49m\n\u001b[1;32m    117\u001b[0m     retval \u001b[38;5;241m=\u001b[39m method(\u001b[38;5;241m*\u001b[39margs, \u001b[38;5;241m*\u001b[39m\u001b[38;5;241m*\u001b[39mkwargs)\n\u001b[1;32m    118\u001b[0m     \u001b[38;5;28;01mfor\u001b[39;00m callback \u001b[38;5;129;01min\u001b[39;00m \u001b[38;5;28mself\u001b[39m\u001b[38;5;241m.\u001b[39m_after:\n",
      "File \u001b[0;32m~/opt/anaconda3/envs/ieee/lib/python3.9/site-packages/qiskit/utils/lazy_tester.py:39\u001b[0m, in \u001b[0;36m_RequireNow.__call__\u001b[0;34m(self, *_args, **_kwargs)\u001b[0m\n\u001b[1;32m     38\u001b[0m \u001b[38;5;28;01mdef\u001b[39;00m \u001b[38;5;21m__call__\u001b[39m(\u001b[38;5;28mself\u001b[39m, \u001b[38;5;241m*\u001b[39m_args, \u001b[38;5;241m*\u001b[39m\u001b[38;5;241m*\u001b[39m_kwargs):\n\u001b[0;32m---> 39\u001b[0m     \u001b[38;5;28;43mself\u001b[39;49m\u001b[38;5;241;43m.\u001b[39;49m\u001b[43m_tester\u001b[49m\u001b[38;5;241;43m.\u001b[39;49m\u001b[43mrequire_now\u001b[49m\u001b[43m(\u001b[49m\u001b[38;5;28;43mself\u001b[39;49m\u001b[38;5;241;43m.\u001b[39;49m\u001b[43m_feature\u001b[49m\u001b[43m)\u001b[49m\n",
      "File \u001b[0;32m~/opt/anaconda3/envs/ieee/lib/python3.9/site-packages/qiskit/utils/lazy_tester.py:223\u001b[0m, in \u001b[0;36mLazyDependencyManager.require_now\u001b[0;34m(self, feature)\u001b[0m\n\u001b[1;32m    221\u001b[0m \u001b[38;5;28;01mif\u001b[39;00m \u001b[38;5;28mself\u001b[39m:\n\u001b[1;32m    222\u001b[0m     \u001b[38;5;28;01mreturn\u001b[39;00m\n\u001b[0;32m--> 223\u001b[0m \u001b[38;5;28;01mraise\u001b[39;00m MissingOptionalLibraryError(\n\u001b[1;32m    224\u001b[0m     libname\u001b[38;5;241m=\u001b[39m\u001b[38;5;28mself\u001b[39m\u001b[38;5;241m.\u001b[39m_name, name\u001b[38;5;241m=\u001b[39mfeature, pip_install\u001b[38;5;241m=\u001b[39m\u001b[38;5;28mself\u001b[39m\u001b[38;5;241m.\u001b[39m_install, msg\u001b[38;5;241m=\u001b[39m\u001b[38;5;28mself\u001b[39m\u001b[38;5;241m.\u001b[39m_msg\n\u001b[1;32m    225\u001b[0m )\n",
      "\u001b[0;31mMissingOptionalLibraryError\u001b[0m: \"The 'pylatexenc' library is required to use 'MatplotlibDrawer'. You can install it with 'pip install pylatexenc'.\""
     ]
    }
   ],
   "source": [
    "def apply_correction_bit(qc, qreg_data, creg_syndrome):\n",
    "    # If simulating we need to insert a delay to mirror the hardware\n",
    "    def branch_delay():\n",
    "        if sim:\n",
    "            qc.barrier(qreg_data)\n",
    "            qc.delay(block_branch_cycles, qreg_data)\n",
    "            qc.barrier(qreg_data)\n",
    "    \n",
    "    branch_delay()\n",
    "    qc.x(qreg_data[0]).c_if(creg_syndrome, 3)\n",
    "    branch_delay()\n",
    "    qc.x(qreg_data[1]).c_if(creg_syndrome, 1)\n",
    "    branch_delay()\n",
    "    qc.x(qreg_data[2]).c_if(creg_syndrome, 2)\n",
    "    qc.barrier(qreg_data)\n",
    "    return qc\n",
    "    \n",
    "qc_correction_bit = apply_correction_bit(build_qc(), qreg_data, creg_syndrome)\n",
    "qc_correction_bit.draw(output=\"mpl\")"
   ]
  },
  {
   "cell_type": "code",
   "execution_count": null,
   "id": "ae3cdfdf",
   "metadata": {},
   "outputs": [],
   "source": [
    "def apply_final_readout(qc, qreg_data, creg_data):\n",
    "    \"\"\"Apply inverse mapping so that we always try and measure |1> in the computational basis.\n",
    "    \n",
    "    TODO: The above is just a stand in for proper measurement basis measurement\n",
    "    \"\"\"\n",
    "    qc.barrier(qreg_data)\n",
    "    qc.measure(qreg_data, creg_data)\n",
    "    return qc\n",
    "\n",
    "qc_final_measure = apply_final_readout(build_qc(), qreg_data, creg_data)\n",
    "qc_final_measure.draw(output=\"mpl\")"
   ]
  },
  {
   "cell_type": "code",
   "execution_count": null,
   "id": "25c2a68a",
   "metadata": {},
   "outputs": [],
   "source": [
    "bit_code_circuit = qc_measure_syndrome_bit.compose(qc_correction_bit).compose(qc_final_measure)\n",
    "bit_code_circuit.draw(output=\"mpl\")"
   ]
  },
  {
   "cell_type": "code",
   "execution_count": null,
   "id": "ca4fb2f1",
   "metadata": {},
   "outputs": [],
   "source": [
    "### Running the bit flip code in hardware\n",
    "\n",
    "shots = 1024\n",
    "\n",
    "init_num_resets = 3\n",
    "init_delay = 0.\n",
    "\n",
    "favourite_qubits = [5,3,8,2,9]\n",
    "\n",
    "# Approximate duration of the measurement processing / conditional latency\n",
    "block_branch_duration = 0.5e-6 \n",
    "block_branch_cycles = convert_cycles(block_branch_duration, backend)"
   ]
  },
  {
   "cell_type": "code",
   "execution_count": null,
   "id": "d8a0dd9d",
   "metadata": {},
   "outputs": [],
   "source": [
    "def build_error_correction_sequence(\n",
    "    qc_base: QuantumCircuit,\n",
    "    qc_init: Optional[QuantumCircuit], \n",
    "    qc_encode: QuantumCircuit, \n",
    "    qc_channels: List[QuantumCircuit],\n",
    "    qc_syndrome: QuantumCircuit,\n",
    "    qc_correct: QuantumCircuit,\n",
    "    qc_decode: Optional[QuantumCircuit] = None,\n",
    "    qc_final: Optional[QuantumCircuit] = None,\n",
    "    name=None,\n",
    "):\n",
    "    qc = qc_base\n",
    "    \n",
    "    if qc_init:\n",
    "        qc = qc.compose(\n",
    "            qc_init\n",
    "        )\n",
    "    \n",
    "    qc = qc.compose(\n",
    "            qc_encode\n",
    "        )\n",
    "    if name is not None:\n",
    "        qc.name = name\n",
    "    \n",
    "    if not qc_channels:\n",
    "        qc_channels = [QuantumCircuit(*qc.qregs)]\n",
    "        \n",
    "    for qc_channel in qc_channels:\n",
    "        qc = qc.compose(\n",
    "                qc_channel\n",
    "            ).compose(\n",
    "                qc_syndrome\n",
    "            ).compose(\n",
    "                qc_correct\n",
    "            )\n",
    "    if qc_decode:\n",
    "        qc = qc.compose(qc_decode)\n",
    "    \n",
    "    if qc_final:\n",
    "        qc = qc.compose(qc_final_measure)\n",
    "    \n",
    "    return qc\n",
    "\n",
    "\n",
    "bit_code_circuit = build_error_correction_sequence(\n",
    "    build_qc(),\n",
    "    qc_init,\n",
    "    qc_encode_bit,\n",
    "    [],\n",
    "    qc_syndrome_bit,\n",
    "    qc_correction_bit,\n",
    "    None,\n",
    "    qc_final_measure,\n",
    ")\n",
    "bit_code_circuit.draw(output=\"mpl\")"
   ]
  },
  {
   "cell_type": "markdown",
   "id": "4fd5eeae",
   "metadata": {},
   "source": [
    "### Running on Hardware"
   ]
  },
  {
   "cell_type": "code",
   "execution_count": null,
   "id": "5f92a113",
   "metadata": {},
   "outputs": [],
   "source": [
    "from qiskit.circuit.library import XGate\n",
    "from qiskit.transpiler import PassManager\n",
    "from qiskit.transpiler.instruction_durations import InstructionDurations\n",
    "\n",
    "def execute(circuits, sim=sim, verbose=True, **kwargs):\n",
    "    if isinstance(circuits, QuantumCircuit):\n",
    "        circuits = [circuits]\n",
    "\n",
    "    if sim:\n",
    "        return backend_sim.run(circuits, shots=shots, **kwargs)\n",
    "    else:\n",
    "        import mapomatic as mm\n",
    "        deflated_circuits = []\n",
    "        for circuit in circuits:\n",
    "            # Required because of https://github.ibm.com/IBM-Q-Software/vt-dynamic-circuits/issues/1106\n",
    "            deflated_circuit = mm.deflate_circuit(circuit)\n",
    "            deflated_circuit.name = circuit.name\n",
    "            deflated_circuits.append(deflated_circuit)\n",
    "    \n",
    "        job = run_openqasm3(circuits, backend, verbose=False, shots=shots, init_num_resets=init_num_resets, init_delay=init_delay, **kwargs)\n",
    "        if verbose:\n",
    "            print(f\"Running on qasm3, job id: {job.job_id}\")\n",
    "\n",
    "        return job\n",
    "    \n",
    "def calculate_initial_layout(circuit, mapomatic=mapomatic, favourite_qubits=favourite_qubits, blacklist_qubits=blacklist_qubits):\n",
    "    deflated = mm.deflate_circuit(circuit)\n",
    "    if mapomatic:\n",
    "        deflated = mm.deflate_circuit(circuit)\n",
    "        available_layouts = [layout for layout in mm.matching_layouts(deflated, backend.configuration().coupling_map, strict_direction=False) if layout[:len(favourite_qubits)] == favourite_qubits and not set(layout).intersection(set(blacklist_qubits))]\n",
    "        scores = mm.evaluate_layouts(deflated, available_layouts, backend)\n",
    "        return scores[0][0]\n",
    "    \n",
    "    return (favourite_qubits + list(set(range(backend.num_qubits)) - set(favourite_qubits)))[:deflated.num_qubits]\n",
    "\n",
    "def apply_dynamical_decoupling(circuits, backend, initial_layout):\n",
    "    from qiskit_ibm_provider.transpiler.passes.scheduling import DynamicCircuitScheduleAnalysis, PadDynamicalDecoupling\n",
    "    dd_sequence = [XGate(), XGate()]\n",
    "    durations = InstructionDurations.from_backend(backend)\n",
    "    pm = PassManager(\n",
    "        [\n",
    "            DynamicCircuitScheduleAnalysis(durations),\n",
    "            PadDynamicalDecoupling(durations, dd_sequence, qubits=initial_layout),\n",
    "        ]\n",
    "    )\n",
    "    return pm.run(circuits)\n",
    "\n",
    "def apply_transpile(circuits, backend, initial_layout, dynamical_decoupling=dynamical_decoupling, **transpile_kwargs):\n",
    "    transpiled_circuits = transpile(circuits, backend, initial_layout=initial_layout, optimization_level=3, **transpile_kwargs)\n",
    "    if dynamical_decoupling:\n",
    "        return apply_dynamical_decoupling(transpiled_circuits, backend, initial_layout)\n",
    "    return transpiled_circuits"
   ]
  },
  {
   "cell_type": "code",
   "execution_count": 23,
   "id": "ca363827",
   "metadata": {},
   "outputs": [
    {
     "ename": "NameError",
     "evalue": "name 'transpile' is not defined",
     "output_type": "error",
     "traceback": [
      "\u001b[0;31m---------------------------------------------------------------------------\u001b[0m",
      "\u001b[0;31mNameError\u001b[0m                                 Traceback (most recent call last)",
      "Cell \u001b[0;32mIn [23], line 1\u001b[0m\n\u001b[0;32m----> 1\u001b[0m layout_circuit \u001b[38;5;241m=\u001b[39m \u001b[43mtranspile\u001b[49m(bit_code_circuit, backend, optimization_level\u001b[38;5;241m=\u001b[39m\u001b[38;5;241m3\u001b[39m)\n\u001b[1;32m      2\u001b[0m \u001b[38;5;28mprint\u001b[39m(initial_layout \u001b[38;5;241m:=\u001b[39m calculate_initial_layout(layout_circuit, \u001b[38;5;28;01mFalse\u001b[39;00m, favourite_qubits))\n",
      "\u001b[0;31mNameError\u001b[0m: name 'transpile' is not defined"
     ]
    }
   ],
   "source": [
    "layout_circuit = transpile(bit_code_circuit, backend, optimization_level=3)\n",
    "print(initial_layout := calculate_initial_layout(layout_circuit, False, favourite_qubits))"
   ]
  },
  {
   "cell_type": "code",
   "execution_count": null,
   "id": "dd0d2417",
   "metadata": {},
   "outputs": [],
   "source": [
    "transpiled_bit_code_circuit = apply_transpile(bit_code_circuit, backend, initial_layout=initial_layout)"
   ]
  },
  {
   "cell_type": "code",
   "execution_count": null,
   "id": "81b4e1eb",
   "metadata": {},
   "outputs": [],
   "source": [
    "transpiled_bit_code_circuit.draw()"
   ]
  },
  {
   "cell_type": "code",
   "execution_count": null,
   "id": "13b1b2d0",
   "metadata": {},
   "outputs": [],
   "source": [
    "result = execute(transpiled_bit_code_circuit).result()\n",
    "\n",
    "data_indices = list(range(len(qreg_data)))\n",
    "syndrome_indices = list(range(data_indices[-1]+1, len(qreg_data) + len(qreg_measure) ))\n",
    "                    \n",
    "marginalized_data_result = marginal_counts(result, data_indices)\n",
    "marginalized_syndrome_result = marginal_counts(result, syndrome_indices)\n",
    "\n",
    "print(f'Completed bit code experiment data measurement counts {marginalized_data_result.get_counts(0)}')\n",
    "print(f'Completed bit code experiment syndrome measurement counts {marginalized_syndrome_result.get_counts(0)}')"
   ]
  },
  {
   "cell_type": "code",
   "execution_count": null,
   "id": "5586917b",
   "metadata": {},
   "outputs": [],
   "source": [
    "def decode_result(data_counts, syndrome_counts, verbose=True, indent=0):\n",
    "    shots = sum(data_counts.values())\n",
    "    success_trials = data_counts.get('000', 0) + data_counts.get('111', 0)\n",
    "    failed_trials = shots-success_trials\n",
    "    error_correction_events = shots-syndrome_counts.get('00', 0)\n",
    "    \n",
    "    if verbose:\n",
    "        print(f\"{' ' * indent}Bit flip errors were corrected on {error_correction_events}/{shots} trials\")\n",
    "        print(f\"{' ' * indent}A final parity error was detected on {failed_trials}/{shots} trials\")\n",
    "        print(f\"{' ' * indent}No error was detected on {success_trials}/{shots} trials\")\n",
    "    return error_correction_events, failed_trials\n",
    "\n",
    "decode_result(marginalized_data_result.get_counts(0), marginalized_syndrome_result.get_counts(0));"
   ]
  }
 ],
 "metadata": {
  "kernelspec": {
   "display_name": "Python 3 (ipykernel)",
   "language": "python",
   "name": "python3"
  },
  "language_info": {
   "codemirror_mode": {
    "name": "ipython",
    "version": 3
   },
   "file_extension": ".py",
   "mimetype": "text/x-python",
   "name": "python",
   "nbconvert_exporter": "python",
   "pygments_lexer": "ipython3",
   "version": "3.9.13"
  }
 },
 "nbformat": 4,
 "nbformat_minor": 5
}
