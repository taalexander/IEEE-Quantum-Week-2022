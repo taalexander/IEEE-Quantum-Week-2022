{
 "cells": [
  {
   "cell_type": "markdown",
   "metadata": {},
   "source": [
    "# Hello IEEE!\n",
    "\n",
    "**Qiskit Slack: @Quantom & @Micheal Healy & Ed Chen**\n",
    "\n",
    "**Github: taalexander & @mbhealy & @ehchen**\n",
    "\n",
    "Join us in our slack channel **#ieee-tutorial-qec-2022** in the [Qiskit workspace](http://ibm.co/joinqiskitslack).\n",
    "\n",
    "We will be using [Qiskit](https://qiskit.org/) and IBM Quantum services throughout this tutorial.\n",
    "This notebook will guide you through getting setup!\n",
    "\n",
    "The dynamic circuits beta documentation may be found [here](https://quantum-computing.ibm.com/services/resources/docs/resources/manage/systems/dynamic-circuits/introduction).\n",
    "\n",
    "Please don't hesitate to ask questions!\n",
    "\n",
    "<img src=\"figs/ibm_quantum.png\" alt=\"drawing\" style=\"width:600px;\"/>"
   ]
  },
  {
   "cell_type": "markdown",
   "metadata": {},
   "source": [
    "### Preamble"
   ]
  },
  {
   "cell_type": "code",
   "execution_count": 1,
   "metadata": {},
   "outputs": [],
   "source": [
    "import sys\n",
    "import warnings\n",
    "\n",
    "if not sys.warnoptions:\n",
    "    warnings.simplefilter(\"ignore\")"
   ]
  },
  {
   "cell_type": "markdown",
   "metadata": {},
   "source": [
    "## Installation\n",
    "\n",
    "This tutorial consists of two notebooks\n",
    "- This Hello IEEE notebook\n",
    "- The [tutorial notebook](./ieee-qec-tutorial-2022.ipynb)\n",
    "\n",
    "Please follow the installation guide below to get started.\n",
    "\n"
   ]
  },
  {
   "cell_type": "markdown",
   "metadata": {},
   "source": [
    "### IBM Quantum Services registration"
   ]
  },
  {
   "cell_type": "markdown",
   "metadata": {},
   "source": [
    "To get going you will need to register an account with IBM quantum services. If you do not already have one, [sign up for an IBM Quantum account](https://quantum-computing.ibm.com/)"
   ]
  },
  {
   "cell_type": "markdown",
   "metadata": {},
   "source": [
    "The notebooks can be run locally or through the [Quantum Lab](https://quantum-computing.ibm.com/lab/files/qiskit-tutorials/dynamic-circuits/ieee/hello-ieee.ipynb).\n",
    "\n",
    "Please follow the installation guide below to get started."
   ]
  },
  {
   "cell_type": "markdown",
   "metadata": {},
   "source": [
    "#### Notebook Access\n",
    "\n",
    "The tutorial notebooks live on [Github](https://github.com/taalexander/IEEE-Quantum-Week-2022) or in the [IBM Quantum Lab](https://quantum-computing.ibm.com/lab/files/qiskit-tutorials/dynamic-circuits/ieee/), where you can either run them in the cloud, or download them to run on your local machine."
   ]
  },
  {
   "cell_type": "markdown",
   "metadata": {},
   "source": [
    "### Run on local Machine"
   ]
  },
  {
   "cell_type": "markdown",
   "metadata": {},
   "source": [
    "- Setup a Python environment > 3.7 by using a tool like [conda](https://qiskit.org/documentation/getting_started.html#installation)\n",
    "- Clone this repository: `git clone git@github.com:taalexander/IEEE-Quantum-Week-2022.git && cd IEEE-Quantum-Week-2022`"
   ]
  },
  {
   "cell_type": "markdown",
   "metadata": {},
   "source": [
    "### Run in the Quantum Lab\n",
    "\n",
    "- Open the [Hello IEEE notebook](https://quantum-computing.ibm.com/lab/files/qiskit-tutorials/dynamic-circuits/ieee/hello-ieee.ipynb). You may have to create an account and login if you have not done this before."
   ]
  },
  {
   "cell_type": "markdown",
   "metadata": {},
   "source": [
    "#### Install the tutorial requirements."
   ]
  },
  {
   "cell_type": "code",
   "execution_count": null,
   "metadata": {},
   "outputs": [],
   "source": [
    "!pip install -r requirements.txt"
   ]
  },
  {
   "cell_type": "markdown",
   "metadata": {},
   "source": [
    "Please verify that your `qiskit-terra` version below `>=0.20.0` and `qiskit-aer` >= `0.11` in the table below"
   ]
  },
  {
   "cell_type": "code",
   "execution_count": 3,
   "metadata": {},
   "outputs": [
    {
     "data": {
      "text/html": [
       "<h3>Version Information</h3><table><tr><th>Qiskit Software</th><th>Version</th></tr><tr><td><code>qiskit-terra</code></td><td>0.21.2</td></tr><tr><td><code>qiskit-aer</code></td><td>0.11.0</td></tr><tr><td><code>qiskit-ibmq-provider</code></td><td>0.19.2</td></tr><tr><td><code>qiskit</code></td><td>0.38.0</td></tr><tr><th>System information</th></tr><tr><td>Python version</td><td>3.9.13</td></tr><tr><td>Python compiler</td><td>Clang 12.0.0 </td></tr><tr><td>Python build</td><td>main, Aug 25 2022 18:29:29</td></tr><tr><td>OS</td><td>Darwin</td></tr><tr><td>CPUs</td><td>8</td></tr><tr><td>Memory (Gb)</td><td>32.0</td></tr><tr><td colspan='2'>Thu Sep 15 17:01:21 2022 ADT</td></tr></table>"
      ],
      "text/plain": [
       "<IPython.core.display.HTML object>"
      ]
     },
     "metadata": {},
     "output_type": "display_data"
    }
   ],
   "source": [
    "import qiskit.tools.jupyter\n",
    "\n",
    "%qiskit_version_table"
   ]
  },
  {
   "cell_type": "markdown",
   "metadata": {},
   "source": [
    "## Testing hardware access\n",
    "Let's test out our installation by verifying we have access to the code and hardware necessary."
   ]
  },
  {
   "cell_type": "markdown",
   "metadata": {},
   "source": [
    "First, load our backend.\n",
    "\n",
    "**Note**: This can be *any* hub/group/project that has access to the required device and the Qiskit runtime and has dynamic circuits support"
   ]
  },
  {
   "cell_type": "code",
   "execution_count": 4,
   "metadata": {},
   "outputs": [],
   "source": [
    "# Note: This can be any hub/group/project that has access to the required device and the Qiskit runtime.\n",
    "# Verify that ``qasm3`` is present in ``backend.configuration().supported_features``.\n",
    "hub = \"ibm-q-community\"\n",
    "group = \"ieee-demos\"\n",
    "project = \"main\"\n",
    "backend_name = \"ibm_peekskill\"\n"
   ]
  },
  {
   "cell_type": "code",
   "execution_count": 5,
   "metadata": {},
   "outputs": [],
   "source": [
    "# Remove before going public\n",
    "hub = \"ibm-q-internal\"\n",
    "group = \"dev-sys-software\"\n",
    "project = \"internal-test\"\n",
    "backend_name = \"ibm_peekskill\""
   ]
  },
  {
   "cell_type": "markdown",
   "metadata": {},
   "source": [
    "Next, we load our Qiskit runtime account credentials and get the test backend we will be using."
   ]
  },
  {
   "cell_type": "code",
   "execution_count": 6,
   "metadata": {},
   "outputs": [],
   "source": [
    "import qiskit\n",
    "from qiskit_ibm_runtime import QiskitRuntimeService\n",
    "from qiskit_ibm_runtime.exceptions import IBMInputValueError\n",
    "\n",
    "# Save token if necessary\n",
    "#QiskitRuntimeService.save_account(channel=\"ibm_quantum\", token=\"MY_IBM_QUANTUM_TOKEN\")\n",
    "\n",
    "try:\n",
    "    service = QiskitRuntimeService()\n",
    "    backend = service.backend(backend_name, instance=f\"{hub}/{group}/{project}\")\n",
    "except IBMInputValueError:\n",
    "    print(\"Could not find the specified backend.\"\n",
    "          \"Uncomment the lines above and insert your API token \"\n",
    "          \"which can be found here https://quantum-computing.ibm.com/account.\"\n",
    "          \"After saving your credentials add back the comment.\"\n",
    "         )\n",
    "    raise"
   ]
  },
  {
   "cell_type": "markdown",
   "metadata": {},
   "source": [
    "Make sure that we are using an OpenQASM 3 enabled backend. It is simple to check:"
   ]
  },
  {
   "cell_type": "code",
   "execution_count": 7,
   "metadata": {},
   "outputs": [
    {
     "name": "stdout",
     "output_type": "stream",
     "text": [
      "The following backends support dynamic circuits: {'simulator_qasm3', 'ibmq_dublin', 'ibmq_mumbai', 'ibm_wellington', 'ibm_perth', 'ibm_peekskill'}\n"
     ]
    }
   ],
   "source": [
    "supports_qasm = lambda backend: (hasattr(backend.configuration(), \"supported_features\") and \"qasm3\" in backend.configuration().supported_features)\n",
    "qasm3_backends = set(backend.name for backend in service.backends() if supports_qasm(backend))\n",
    "\n",
    "print(f\"The following backends support dynamic circuits: {qasm3_backends}\")"
   ]
  },
  {
   "cell_type": "markdown",
   "metadata": {},
   "source": [
    "Prepare our circuit:"
   ]
  },
  {
   "cell_type": "code",
   "execution_count": 8,
   "metadata": {},
   "outputs": [],
   "source": [
    "qubit = 0\n",
    "shots = 1000"
   ]
  },
  {
   "cell_type": "code",
   "execution_count": 14,
   "metadata": {},
   "outputs": [
    {
     "data": {
      "text/html": [
       "<pre style=\"word-wrap: normal;white-space: pre;background: #fff0;line-height: 1.1;font-family: &quot;Courier New&quot;,Courier,monospace\">     ┌───┐┌─┐\n",
       "  q: ┤ X ├┤M├\n",
       "     └───┘└╥┘\n",
       "c: 1/══════╩═\n",
       "           0 </pre>"
      ],
      "text/plain": [
       "     ┌───┐┌─┐\n",
       "  q: ┤ X ├┤M├\n",
       "     └───┘└╥┘\n",
       "c: 1/══════╩═\n",
       "           0 "
      ]
     },
     "execution_count": 14,
     "metadata": {},
     "output_type": "execute_result"
    }
   ],
   "source": [
    "from qiskit import QuantumCircuit\n",
    "\n",
    "h_qc = QuantumCircuit(1, 1, name=\"|+> Prep\")\n",
    "h_qc.h(0)\n",
    "h_qc.measure(0, 0)\n",
    "h_qc.draw(idle_wires=False)"
   ]
  },
  {
   "cell_type": "markdown",
   "metadata": {},
   "source": [
    "Next, transpile our quantum circuit for the hardware basis gates."
   ]
  },
  {
   "cell_type": "code",
   "execution_count": 17,
   "metadata": {},
   "outputs": [
    {
     "data": {
      "text/html": [
       "<pre style=\"word-wrap: normal;white-space: pre;background: #fff0;line-height: 1.1;font-family: &quot;Courier New&quot;,Courier,monospace\">         ┌───┐┌─┐\n",
       "q_0 -> 1 ┤ X ├┤M├\n",
       "         └───┘└╥┘\n",
       "    c: 1/══════╩═\n",
       "               0 </pre>"
      ],
      "text/plain": [
       "         ┌───┐┌─┐\n",
       "q_0 -> 1 ┤ X ├┤M├\n",
       "         └───┘└╥┘\n",
       "    c: 1/══════╩═\n",
       "               0 "
      ]
     },
     "execution_count": 17,
     "metadata": {},
     "output_type": "execute_result"
    }
   ],
   "source": [
    "from qiskit import transpile\n",
    "\n",
    "h_qc_transpiled = transpile(h_qc, backend, initial_layout=[1])\n",
    "h_qc_transpiled.draw(idle_wires=False)"
   ]
  },
  {
   "cell_type": "markdown",
   "metadata": {},
   "source": [
    "Now we submit our circuit to the backend to verify its working."
   ]
  },
  {
   "cell_type": "markdown",
   "metadata": {},
   "source": [
    "Now, run our circuit as a OpenQASM 3 program below. Here we are using a helper method `run_openqasm3` that calls the Qiskit Runtime program `qasm3-runner`. We will describe what is happening in the [tutorial notebook](./tutorial.ipynb).\n",
    "\n",
    "You may view the status of your job in the [IBM Quantum dashboard](https://quantum-computing.ibm.com/jobs?jobs=runtime).\n",
    "\n",
    "**Note**: In order to import ``utils``, it needs to be on your ``$PATH``, which by default includes the folder where you have launched your jupyter notebook or ipython console."
   ]
  },
  {
   "cell_type": "code",
   "execution_count": 18,
   "metadata": {},
   "outputs": [
    {
     "name": "stdout",
     "output_type": "stream",
     "text": [
      "=======|+> Prep=======\n",
      "=======QASM3======\n",
      "OPENQASM 3;\n",
      "bit[1] c;\n",
      "x $1;\n",
      "c[0] = measure $1;\n",
      "\n",
      "==================\n",
      "         ┌───┐┌─┐\n",
      "q_0 -> 1 ┤ X ├┤M├\n",
      "         └───┘└╥┘\n",
      "    c: 1/══════╩═\n",
      "               0 \n",
      "==================\n",
      "Running: cchs0g7ju75bgnkche8g\n",
      "=======|+> Prep=======\n",
      "{'0': 52, '1': 948}\n"
     ]
    }
   ],
   "source": [
    "from utils import run_openqasm3\n",
    "job = run_openqasm3(h_qc_transpiled, backend, shots=shots)"
   ]
  },
  {
   "cell_type": "code",
   "execution_count": 12,
   "metadata": {},
   "outputs": [
    {
     "data": {
      "text/html": [
       "<h3>Version Information</h3><table><tr><th>Qiskit Software</th><th>Version</th></tr><tr><td><code>qiskit-terra</code></td><td>0.21.2</td></tr><tr><td><code>qiskit-aer</code></td><td>0.11.0</td></tr><tr><td><code>qiskit-ibmq-provider</code></td><td>0.19.2</td></tr><tr><td><code>qiskit</code></td><td>0.38.0</td></tr><tr><th>System information</th></tr><tr><td>Python version</td><td>3.9.13</td></tr><tr><td>Python compiler</td><td>Clang 12.0.0 </td></tr><tr><td>Python build</td><td>main, Aug 25 2022 18:29:29</td></tr><tr><td>OS</td><td>Darwin</td></tr><tr><td>CPUs</td><td>8</td></tr><tr><td>Memory (Gb)</td><td>32.0</td></tr><tr><td colspan='2'>Thu Sep 15 17:02:23 2022 ADT</td></tr></table>"
      ],
      "text/plain": [
       "<IPython.core.display.HTML object>"
      ]
     },
     "metadata": {},
     "output_type": "display_data"
    },
    {
     "data": {
      "text/html": [
       "<div style='width: 100%; background-color:#d5d9e0;padding-left: 10px; padding-bottom: 10px; padding-right: 10px; padding-top: 5px'><h3>This code is a part of Qiskit</h3><p>&copy; Copyright IBM 2017, 2022.</p><p>This code is licensed under the Apache License, Version 2.0. You may<br>obtain a copy of this license in the LICENSE.txt file in the root directory<br> of this source tree or at http://www.apache.org/licenses/LICENSE-2.0.<p>Any modifications or derivative works of this code must retain this<br>copyright notice, and modified files need to carry a notice indicating<br>that they have been altered from the originals.</p></div>"
      ],
      "text/plain": [
       "<IPython.core.display.HTML object>"
      ]
     },
     "metadata": {},
     "output_type": "display_data"
    }
   ],
   "source": [
    "import qiskit.tools.jupyter\n",
    "%qiskit_version_table\n",
    "%qiskit_copyright"
   ]
  }
 ],
 "metadata": {
  "kernelspec": {
   "display_name": "Python 3 (ipykernel)",
   "language": "python",
   "name": "python3"
  },
  "language_info": {
   "codemirror_mode": {
    "name": "ipython",
    "version": 3
   },
   "file_extension": ".py",
   "mimetype": "text/x-python",
   "name": "python",
   "nbconvert_exporter": "python",
   "pygments_lexer": "ipython3",
   "version": "3.9.13"
  }
 },
 "nbformat": 4,
 "nbformat_minor": 4
}
